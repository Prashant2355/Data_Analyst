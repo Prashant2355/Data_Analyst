{
 "cells": [
  {
   "cell_type": "markdown",
   "id": "a3a2d9e4",
   "metadata": {},
   "source": [
    "## <span style=\"color: blue\">Name :-</span>   <span style=\"color: green;\"> <font size = \"5\">PRASHANT ARYA</font></span>\n",
    "## <span style=\"color: blue\">Batch :-</span>   <span style=\"color: maroon;\"> <font size = \"5\">WS103787</font></span>"
   ]
  },
  {
   "cell_type": "markdown",
   "id": "e61a81e1",
   "metadata": {},
   "source": [
    "# <span style=\"color: blue\">Title of the project :-</span> \"\" <span style=\"color: red;\"><font size = \"6\">BANK MARKETING</font></span> \"\""
   ]
  },
  {
   "cell_type": "markdown",
   "id": "a18f6d37",
   "metadata": {},
   "source": [
    "# <span style=\"color: blue\">Description of the project :-</span>"
   ]
  },
  {
   "cell_type": "markdown",
   "id": "0963ecf8",
   "metadata": {},
   "source": [
    "* <font size = \"3\"><span style=\"color: green\">***Sources created by :-***</span></font>\n",
    "  **Paulo Cortez** (Univ. Minho) and **Sérgio Moro** (ISCTE-IUL) @ **2012**"
   ]
  },
  {
   "cell_type": "markdown",
   "id": "636f2d05",
   "metadata": {},
   "source": [
    "* <font size = \"3\"><span style=\"color: green\">***Past Usage :-***</span></font>\n",
    "  The full dataset was described and analyzed by **S. Moro, R. Laureano** and **P. Cortez** using **Data Mining** for ***Bank   Direct Marketing*** : An Application of the CRISP-DM Methodology. In P. Novais et al. (Eds.), Proceedings of the European Simulation and Modelling Conference - ESM'2011, pp. 117-121, *Guimarães, Portugal*, October, 2011. EUROSIS."
   ]
  },
  {
   "cell_type": "markdown",
   "id": "d4300392",
   "metadata": {},
   "source": [
    "* <font size = \"3\"><span style=\"color: green\">***Relevant Information :-***</span></font>\n",
    "  The data is related with direct marketing campaigns of a *Portuguese* banking institution. The marketing campaigns were based on  phone calls. Often, more than one contact to the same client was required, in order to access if the product (bank term **deposit**) would be (or not) subscribed. \n",
    "\n",
    "  There are two datasets :-\n",
    "  \n",
    "     1) <span style=\"color: blue\">bank-full.csv</span> with all examples, ordered by date (from May 2008 to November 2010).\n",
    "  \n",
    "     2) <span style=\"color: blue\">bank.csv</span> with 10% of the examples (4521), randomly selected from bank-full.csv. \n",
    "     The smallest dataset is provided to test more computationally   demanding **machine learning algorithms** (e.g. **SVM**)."
   ]
  },
  {
   "cell_type": "markdown",
   "id": "fc8e4656",
   "metadata": {},
   "source": [
    "#  <span style=\"color: blue\">Objective of the project :-</span> \n",
    "   <font size = \"4\">To predict if the *client* will **subscribe** a term **deposit** (variable **y**).</font>"
   ]
  },
  {
   "cell_type": "markdown",
   "id": "e223335f",
   "metadata": {},
   "source": [
    "* * *"
   ]
  },
  {
   "cell_type": "markdown",
   "id": "a74e3b92",
   "metadata": {},
   "source": [
    "## Importing all important libraries"
   ]
  },
  {
   "cell_type": "code",
   "execution_count": 2,
   "id": "2ff78160",
   "metadata": {},
   "outputs": [],
   "source": [
    "import numpy as np\n",
    "import pandas as pd\n",
    "import matplotlib.pyplot as plt\n",
    "import seaborn as sns"
   ]
  },
  {
   "cell_type": "code",
   "execution_count": 3,
   "id": "bc5ab6d9",
   "metadata": {},
   "outputs": [],
   "source": [
    "# Supressing Warnings\n",
    "import warnings\n",
    "warnings.filterwarnings('ignore')"
   ]
  },
  {
   "cell_type": "markdown",
   "id": "8dcd39ad",
   "metadata": {},
   "source": [
    "***"
   ]
  },
  {
   "cell_type": "markdown",
   "id": "89c5b930",
   "metadata": {},
   "source": [
    "# <span style = \"color : blue\">Data Loading</span>"
   ]
  },
  {
   "cell_type": "code",
   "execution_count": 4,
   "id": "ad4a171f",
   "metadata": {},
   "outputs": [
    {
     "data": {
      "text/html": [
       "<div>\n",
       "<style scoped>\n",
       "    .dataframe tbody tr th:only-of-type {\n",
       "        vertical-align: middle;\n",
       "    }\n",
       "\n",
       "    .dataframe tbody tr th {\n",
       "        vertical-align: top;\n",
       "    }\n",
       "\n",
       "    .dataframe thead th {\n",
       "        text-align: right;\n",
       "    }\n",
       "</style>\n",
       "<table border=\"1\" class=\"dataframe\">\n",
       "  <thead>\n",
       "    <tr style=\"text-align: right;\">\n",
       "      <th></th>\n",
       "      <th>age</th>\n",
       "      <th>job</th>\n",
       "      <th>marital</th>\n",
       "      <th>education</th>\n",
       "      <th>default</th>\n",
       "      <th>balance</th>\n",
       "      <th>housing</th>\n",
       "      <th>loan</th>\n",
       "      <th>contact</th>\n",
       "      <th>day</th>\n",
       "      <th>month</th>\n",
       "      <th>duration</th>\n",
       "      <th>campaign</th>\n",
       "      <th>pdays</th>\n",
       "      <th>previous</th>\n",
       "      <th>poutcome</th>\n",
       "      <th>deposit</th>\n",
       "    </tr>\n",
       "  </thead>\n",
       "  <tbody>\n",
       "    <tr>\n",
       "      <th>0</th>\n",
       "      <td>59</td>\n",
       "      <td>admin.</td>\n",
       "      <td>married</td>\n",
       "      <td>secondary</td>\n",
       "      <td>no</td>\n",
       "      <td>2343</td>\n",
       "      <td>yes</td>\n",
       "      <td>no</td>\n",
       "      <td>unknown</td>\n",
       "      <td>5</td>\n",
       "      <td>may</td>\n",
       "      <td>1042</td>\n",
       "      <td>1</td>\n",
       "      <td>-1</td>\n",
       "      <td>0</td>\n",
       "      <td>unknown</td>\n",
       "      <td>yes</td>\n",
       "    </tr>\n",
       "    <tr>\n",
       "      <th>1</th>\n",
       "      <td>56</td>\n",
       "      <td>admin.</td>\n",
       "      <td>married</td>\n",
       "      <td>secondary</td>\n",
       "      <td>no</td>\n",
       "      <td>45</td>\n",
       "      <td>no</td>\n",
       "      <td>no</td>\n",
       "      <td>unknown</td>\n",
       "      <td>5</td>\n",
       "      <td>may</td>\n",
       "      <td>1467</td>\n",
       "      <td>1</td>\n",
       "      <td>-1</td>\n",
       "      <td>0</td>\n",
       "      <td>unknown</td>\n",
       "      <td>yes</td>\n",
       "    </tr>\n",
       "    <tr>\n",
       "      <th>2</th>\n",
       "      <td>41</td>\n",
       "      <td>technician</td>\n",
       "      <td>married</td>\n",
       "      <td>secondary</td>\n",
       "      <td>no</td>\n",
       "      <td>1270</td>\n",
       "      <td>yes</td>\n",
       "      <td>no</td>\n",
       "      <td>unknown</td>\n",
       "      <td>5</td>\n",
       "      <td>may</td>\n",
       "      <td>1389</td>\n",
       "      <td>1</td>\n",
       "      <td>-1</td>\n",
       "      <td>0</td>\n",
       "      <td>unknown</td>\n",
       "      <td>yes</td>\n",
       "    </tr>\n",
       "    <tr>\n",
       "      <th>3</th>\n",
       "      <td>55</td>\n",
       "      <td>services</td>\n",
       "      <td>married</td>\n",
       "      <td>secondary</td>\n",
       "      <td>no</td>\n",
       "      <td>2476</td>\n",
       "      <td>yes</td>\n",
       "      <td>no</td>\n",
       "      <td>unknown</td>\n",
       "      <td>5</td>\n",
       "      <td>may</td>\n",
       "      <td>579</td>\n",
       "      <td>1</td>\n",
       "      <td>-1</td>\n",
       "      <td>0</td>\n",
       "      <td>unknown</td>\n",
       "      <td>yes</td>\n",
       "    </tr>\n",
       "    <tr>\n",
       "      <th>4</th>\n",
       "      <td>54</td>\n",
       "      <td>admin.</td>\n",
       "      <td>married</td>\n",
       "      <td>tertiary</td>\n",
       "      <td>no</td>\n",
       "      <td>184</td>\n",
       "      <td>no</td>\n",
       "      <td>no</td>\n",
       "      <td>unknown</td>\n",
       "      <td>5</td>\n",
       "      <td>may</td>\n",
       "      <td>673</td>\n",
       "      <td>2</td>\n",
       "      <td>-1</td>\n",
       "      <td>0</td>\n",
       "      <td>unknown</td>\n",
       "      <td>yes</td>\n",
       "    </tr>\n",
       "  </tbody>\n",
       "</table>\n",
       "</div>"
      ],
      "text/plain": [
       "   age         job  marital  education default  balance housing loan  contact  \\\n",
       "0   59      admin.  married  secondary      no     2343     yes   no  unknown   \n",
       "1   56      admin.  married  secondary      no       45      no   no  unknown   \n",
       "2   41  technician  married  secondary      no     1270     yes   no  unknown   \n",
       "3   55    services  married  secondary      no     2476     yes   no  unknown   \n",
       "4   54      admin.  married   tertiary      no      184      no   no  unknown   \n",
       "\n",
       "   day month  duration  campaign  pdays  previous poutcome deposit  \n",
       "0    5   may      1042         1     -1         0  unknown     yes  \n",
       "1    5   may      1467         1     -1         0  unknown     yes  \n",
       "2    5   may      1389         1     -1         0  unknown     yes  \n",
       "3    5   may       579         1     -1         0  unknown     yes  \n",
       "4    5   may       673         2     -1         0  unknown     yes  "
      ]
     },
     "execution_count": 4,
     "metadata": {},
     "output_type": "execute_result"
    }
   ],
   "source": [
    "# Reading the dataset and loading it into \"bank_client\" variable\n",
    "bank_client = pd.read_csv(r\"C:\\Users\\Dell\\Documents\\DS\\home\\bank (1).csv\")\n",
    "\n",
    "# Displaying first 5 rows of dataset\n",
    "bank_client.head() "
   ]
  },
  {
   "cell_type": "code",
   "execution_count": 5,
   "id": "03479050",
   "metadata": {},
   "outputs": [
    {
     "data": {
      "text/plain": [
       "(11162, 17)"
      ]
     },
     "execution_count": 5,
     "metadata": {},
     "output_type": "execute_result"
    }
   ],
   "source": [
    "# Returning the shape i.e. no. of rows and no. of columns in the dataset.\n",
    "bank_client.shape"
   ]
  },
  {
   "cell_type": "markdown",
   "id": "db0858e6",
   "metadata": {},
   "source": [
    "* <font size = \"3\">There are **11162 rows** and **17 columns**(**features**).</font>"
   ]
  },
  {
   "cell_type": "markdown",
   "id": "c0e21836",
   "metadata": {},
   "source": [
    "***"
   ]
  },
  {
   "cell_type": "markdown",
   "id": "06ef6398",
   "metadata": {},
   "source": [
    "# <span style = \"color : blue\">Data Preprocessing</span>"
   ]
  },
  {
   "cell_type": "code",
   "execution_count": 6,
   "id": "f9e36c47",
   "metadata": {},
   "outputs": [
    {
     "data": {
      "text/plain": [
       "age          0\n",
       "job          0\n",
       "marital      0\n",
       "education    0\n",
       "default      0\n",
       "balance      0\n",
       "housing      0\n",
       "loan         0\n",
       "contact      0\n",
       "day          0\n",
       "month        0\n",
       "duration     0\n",
       "campaign     0\n",
       "pdays        0\n",
       "previous     0\n",
       "poutcome     0\n",
       "deposit      0\n",
       "dtype: int64"
      ]
     },
     "execution_count": 6,
     "metadata": {},
     "output_type": "execute_result"
    }
   ],
   "source": [
    "# Checking null values in the dataset\n",
    "bank_client.isnull().sum()"
   ]
  },
  {
   "cell_type": "markdown",
   "id": "6e41d44c",
   "metadata": {},
   "source": [
    "* <font size = \"3\">From above, it can be clearly seen that there are **no null values** in the dataset.</font> "
   ]
  },
  {
   "cell_type": "code",
   "execution_count": 7,
   "id": "2971f0c8",
   "metadata": {},
   "outputs": [
    {
     "name": "stdout",
     "output_type": "stream",
     "text": [
      "<class 'pandas.core.frame.DataFrame'>\n",
      "RangeIndex: 11162 entries, 0 to 11161\n",
      "Data columns (total 17 columns):\n",
      " #   Column     Non-Null Count  Dtype \n",
      "---  ------     --------------  ----- \n",
      " 0   age        11162 non-null  int64 \n",
      " 1   job        11162 non-null  object\n",
      " 2   marital    11162 non-null  object\n",
      " 3   education  11162 non-null  object\n",
      " 4   default    11162 non-null  object\n",
      " 5   balance    11162 non-null  int64 \n",
      " 6   housing    11162 non-null  object\n",
      " 7   loan       11162 non-null  object\n",
      " 8   contact    11162 non-null  object\n",
      " 9   day        11162 non-null  int64 \n",
      " 10  month      11162 non-null  object\n",
      " 11  duration   11162 non-null  int64 \n",
      " 12  campaign   11162 non-null  int64 \n",
      " 13  pdays      11162 non-null  int64 \n",
      " 14  previous   11162 non-null  int64 \n",
      " 15  poutcome   11162 non-null  object\n",
      " 16  deposit    11162 non-null  object\n",
      "dtypes: int64(7), object(10)\n",
      "memory usage: 1.4+ MB\n"
     ]
    }
   ],
   "source": [
    "# Checking datatypes of every features of the dataset\n",
    "bank_client.info()"
   ]
  },
  {
   "cell_type": "markdown",
   "id": "61336ab9",
   "metadata": {},
   "source": [
    "* <font size = \"3\">The ***numerical*** features are : **{'age', 'balance', 'day', 'duration', 'campaign', 'pdays', 'previous'}**.<br>\n",
    "     The ***categorical*** features are : **{'job', 'marital', 'education', 'default', 'housing', 'loan', 'contact', 'month', \n",
    "    'poutcome', 'deposit'}**.</font>"
   ]
  },
  {
   "cell_type": "code",
   "execution_count": 8,
   "id": "49a6f17c",
   "metadata": {},
   "outputs": [
    {
     "data": {
      "text/html": [
       "<div>\n",
       "<style scoped>\n",
       "    .dataframe tbody tr th:only-of-type {\n",
       "        vertical-align: middle;\n",
       "    }\n",
       "\n",
       "    .dataframe tbody tr th {\n",
       "        vertical-align: top;\n",
       "    }\n",
       "\n",
       "    .dataframe thead th {\n",
       "        text-align: right;\n",
       "    }\n",
       "</style>\n",
       "<table border=\"1\" class=\"dataframe\">\n",
       "  <thead>\n",
       "    <tr style=\"text-align: right;\">\n",
       "      <th></th>\n",
       "      <th>age</th>\n",
       "      <th>balance</th>\n",
       "      <th>day</th>\n",
       "      <th>duration</th>\n",
       "      <th>campaign</th>\n",
       "      <th>pdays</th>\n",
       "      <th>previous</th>\n",
       "    </tr>\n",
       "  </thead>\n",
       "  <tbody>\n",
       "    <tr>\n",
       "      <th>count</th>\n",
       "      <td>11162.000000</td>\n",
       "      <td>11162.000000</td>\n",
       "      <td>11162.000000</td>\n",
       "      <td>11162.000000</td>\n",
       "      <td>11162.000000</td>\n",
       "      <td>11162.000000</td>\n",
       "      <td>11162.000000</td>\n",
       "    </tr>\n",
       "    <tr>\n",
       "      <th>mean</th>\n",
       "      <td>41.231948</td>\n",
       "      <td>1528.538524</td>\n",
       "      <td>15.658036</td>\n",
       "      <td>371.993818</td>\n",
       "      <td>2.508421</td>\n",
       "      <td>51.330407</td>\n",
       "      <td>0.832557</td>\n",
       "    </tr>\n",
       "    <tr>\n",
       "      <th>std</th>\n",
       "      <td>11.913369</td>\n",
       "      <td>3225.413326</td>\n",
       "      <td>8.420740</td>\n",
       "      <td>347.128386</td>\n",
       "      <td>2.722077</td>\n",
       "      <td>108.758282</td>\n",
       "      <td>2.292007</td>\n",
       "    </tr>\n",
       "    <tr>\n",
       "      <th>min</th>\n",
       "      <td>18.000000</td>\n",
       "      <td>-6847.000000</td>\n",
       "      <td>1.000000</td>\n",
       "      <td>2.000000</td>\n",
       "      <td>1.000000</td>\n",
       "      <td>-1.000000</td>\n",
       "      <td>0.000000</td>\n",
       "    </tr>\n",
       "    <tr>\n",
       "      <th>25%</th>\n",
       "      <td>32.000000</td>\n",
       "      <td>122.000000</td>\n",
       "      <td>8.000000</td>\n",
       "      <td>138.000000</td>\n",
       "      <td>1.000000</td>\n",
       "      <td>-1.000000</td>\n",
       "      <td>0.000000</td>\n",
       "    </tr>\n",
       "    <tr>\n",
       "      <th>50%</th>\n",
       "      <td>39.000000</td>\n",
       "      <td>550.000000</td>\n",
       "      <td>15.000000</td>\n",
       "      <td>255.000000</td>\n",
       "      <td>2.000000</td>\n",
       "      <td>-1.000000</td>\n",
       "      <td>0.000000</td>\n",
       "    </tr>\n",
       "    <tr>\n",
       "      <th>75%</th>\n",
       "      <td>49.000000</td>\n",
       "      <td>1708.000000</td>\n",
       "      <td>22.000000</td>\n",
       "      <td>496.000000</td>\n",
       "      <td>3.000000</td>\n",
       "      <td>20.750000</td>\n",
       "      <td>1.000000</td>\n",
       "    </tr>\n",
       "    <tr>\n",
       "      <th>max</th>\n",
       "      <td>95.000000</td>\n",
       "      <td>81204.000000</td>\n",
       "      <td>31.000000</td>\n",
       "      <td>3881.000000</td>\n",
       "      <td>63.000000</td>\n",
       "      <td>854.000000</td>\n",
       "      <td>58.000000</td>\n",
       "    </tr>\n",
       "  </tbody>\n",
       "</table>\n",
       "</div>"
      ],
      "text/plain": [
       "                age       balance           day      duration      campaign  \\\n",
       "count  11162.000000  11162.000000  11162.000000  11162.000000  11162.000000   \n",
       "mean      41.231948   1528.538524     15.658036    371.993818      2.508421   \n",
       "std       11.913369   3225.413326      8.420740    347.128386      2.722077   \n",
       "min       18.000000  -6847.000000      1.000000      2.000000      1.000000   \n",
       "25%       32.000000    122.000000      8.000000    138.000000      1.000000   \n",
       "50%       39.000000    550.000000     15.000000    255.000000      2.000000   \n",
       "75%       49.000000   1708.000000     22.000000    496.000000      3.000000   \n",
       "max       95.000000  81204.000000     31.000000   3881.000000     63.000000   \n",
       "\n",
       "              pdays      previous  \n",
       "count  11162.000000  11162.000000  \n",
       "mean      51.330407      0.832557  \n",
       "std      108.758282      2.292007  \n",
       "min       -1.000000      0.000000  \n",
       "25%       -1.000000      0.000000  \n",
       "50%       -1.000000      0.000000  \n",
       "75%       20.750000      1.000000  \n",
       "max      854.000000     58.000000  "
      ]
     },
     "execution_count": 8,
     "metadata": {},
     "output_type": "execute_result"
    }
   ],
   "source": [
    "# Checking the min, max, 25th percentile, 50th percentile, 75th percentile values of all numerical columns.\n",
    "bank_client.describe()"
   ]
  },
  {
   "cell_type": "markdown",
   "id": "3eb508bd",
   "metadata": {},
   "source": [
    "* <font size = \"3\">From above, it can be seen that in the <span style=\"color: blue\">\"***balance***\"</span> column, there is huge variation between **25th** percentile value and **minimum** value and also between **75th** percentile and **maximum** value. <br> In <span style=\"color: blue\">\"***duration\", \"campaign\", \"pdays\", \"previous***\"</span> columns, there is huge variation between **75th** percentile and **maximum** value. \n",
    "<br> Hence, there is high chance of **outliers** in these columns.</font>"
   ]
  },
  {
   "cell_type": "markdown",
   "id": "94c74d24",
   "metadata": {},
   "source": [
    "***"
   ]
  },
  {
   "cell_type": "markdown",
   "id": "417d51b2",
   "metadata": {},
   "source": [
    "# <span style = \"color : blue\">Data Visualization</span>"
   ]
  },
  {
   "cell_type": "markdown",
   "id": "966c5c8d",
   "metadata": {},
   "source": [
    "* <font size = \"3\">In this step, some **visualizations** will be done on various features of the dataset.</font>"
   ]
  },
  {
   "cell_type": "markdown",
   "id": "e2802073",
   "metadata": {},
   "source": [
    "## 1) Age Feature"
   ]
  },
  {
   "cell_type": "code",
   "execution_count": 9,
   "id": "2539738b",
   "metadata": {},
   "outputs": [
    {
     "data": {
      "image/png": "[encoded data removed]",
      "text/plain": [
       "<Figure size 1440x360 with 1 Axes>"
      ]
     },
     "metadata": {
      "needs_background": "light"
     },
     "output_type": "display_data"
    }
   ],
   "source": [
    "# Count plot of \"age\" feature.\n",
    "\n",
    "fig, ax = plt.subplots()\n",
    "fig.set_size_inches(20, 5)\n",
    "sns.countplot(x = 'age', data = bank_client)          # Function for plotting the Count plot\n",
    "ax.set_xlabel('Age', fontsize=15)                     # Setting X-axis as \"Age\"  \n",
    "ax.set_ylabel('Count', fontsize=15)                   # Setting Y-axis as \"Count\"\n",
    "ax.set_title('Age Count Distribution', fontsize=15)   # Naming the title as \"Age Count Distribution\"\n",
    "sns.despine()                                         # Remove the top and right spines from the plot."
   ]
  },
  {
   "cell_type": "markdown",
   "id": "ec64ab05",
   "metadata": {},
   "source": [
    "* <font size = \"3\">From the above <span style = \"color : green\">***count plot***</span>, that **highest** number of people belong to the range of age between **30** to **36**, where the maximum number of people is of age **31**. \n",
    "<br> There are very few people of age beyond **80**.</font>"
   ]
  },
  {
   "cell_type": "markdown",
   "id": "6f5da8ec",
   "metadata": {},
   "source": [
    "* <font size = \"3\">**Note** :- Generally, <span style = \"color : green\">***count plot***</span> for the **numeric** feature is not preferrable but \"**age**\" feature was **integer** type so it's ok to plot the <span style = \"color : green\">***count plot***</span> for it but if any feature is of **float** type then <span style = \"color : green\">***count plot***</span> should be **prohibited**.</font>  "
   ]
  },
  {
   "cell_type": "code",
   "execution_count": 10,
   "id": "9acd3cbb",
   "metadata": {},
   "outputs": [
    {
     "data": {
      "image/png": "[encoded data removed]",
      "text/plain": [
       "<Figure size 1080x360 with 1 Axes>"
      ]
     },
     "metadata": {
      "needs_background": "light"
     },
     "output_type": "display_data"
    }
   ],
   "source": [
    "# Distribution plot of \"age\" feature.\n",
    "\n",
    "fig, ax = plt.subplots()\n",
    "fig.set_size_inches(15, 5)                     # Setting size of the figure\n",
    "sns.distplot(bank_client['age'])               # Function for plotting the Distribution plot\n",
    "ax.set_xlabel('Age', fontsize=15)              # Setting X-axis as \"Age\"  \n",
    "ax.set_ylabel('Occurence', fontsize=15)        # Setting Y-axis as \"Occurence\"\n",
    "ax.set_title('Age x Occurence', fontsize=15)   # Naming the title as \"Age x Occurence\"\n",
    "sns.despine() "
   ]
  },
  {
   "cell_type": "markdown",
   "id": "336312c7",
   "metadata": {},
   "source": [
    "* <font size = \"3\">From the above <span style = \"color : green\">***distribution plot***</span>, it can be clearly seen that the **maxima** of the **kde** is when the **age** is very near to **30**. <br> The curve is sharply **decreasing** after it crosses **age** >= **60**.</font>"
   ]
  },
  {
   "cell_type": "markdown",
   "id": "f124775c",
   "metadata": {},
   "source": [
    "## 2) Job Feature"
   ]
  },
  {
   "cell_type": "code",
   "execution_count": 11,
   "id": "33c76cf3",
   "metadata": {},
   "outputs": [
    {
     "data": {
      "text/plain": [
       "array(['admin.', 'technician', 'services', 'management', 'retired',\n",
       "       'blue-collar', 'unemployed', 'entrepreneur', 'housemaid',\n",
       "       'unknown', 'self-employed', 'student'], dtype=object)"
      ]
     },
     "execution_count": 11,
     "metadata": {},
     "output_type": "execute_result"
    }
   ],
   "source": [
    "# Categories of \"job\" feature\n",
    "bank_client['job'].unique()"
   ]
  },
  {
   "cell_type": "markdown",
   "id": "46e1dfe3",
   "metadata": {},
   "source": [
    "* <font size = \"3\"> The **frequency** of each category of the <span style = \"color : blue\">\"**job**\"</span> feature is going to be checked.</font>"
   ]
  },
  {
   "cell_type": "code",
   "execution_count": 12,
   "id": "e669d5b5",
   "metadata": {},
   "outputs": [
    {
     "data": {
      "image/png": "[encoded data removed]",
      "text/plain": [
       "<Figure size 1440x360 with 1 Axes>"
      ]
     },
     "metadata": {
      "needs_background": "light"
     },
     "output_type": "display_data"
    }
   ],
   "source": [
    "# Count plot of \"job\" feature.\n",
    "\n",
    "fig, ax = plt.subplots()\n",
    "fig.set_size_inches(20, 5)\n",
    "sns.countplot(x = 'job', data = bank_client)      # Function for plotting the Count plot\n",
    "ax.set_xlabel('Job Type', fontsize=15)            # Setting X-axis as \"Job Type\"  \n",
    "ax.set_ylabel('Count', fontsize=15)               # Setting Y-axis as \"Count\"\n",
    "ax.set_title('Job Distribution', fontsize=15)     # Naming the title as \"Job Distribution\"\n",
    "sns.despine()                                     # Remove the top and right spines from the plot."
   ]
  },
  {
   "cell_type": "markdown",
   "id": "332d58cf",
   "metadata": {},
   "source": [
    "* <font size = \"3\">From the above <span style = \"color : green\">***Count plot***</span>, it is clearly seen that most of the **clients** are in <span style = \"color : blue\">**management**</span> field while least number of **clients** are **unknown**.</font> "
   ]
  },
  {
   "cell_type": "markdown",
   "id": "f8aae365",
   "metadata": {},
   "source": [
    "## 3) Marital Feature"
   ]
  },
  {
   "cell_type": "code",
   "execution_count": 13,
   "id": "13229948",
   "metadata": {},
   "outputs": [
    {
     "data": {
      "text/plain": [
       "array(['married', 'single', 'divorced'], dtype=object)"
      ]
     },
     "execution_count": 13,
     "metadata": {},
     "output_type": "execute_result"
    }
   ],
   "source": [
    "# Categories of \"marital\" feature.\n",
    "bank_client['marital'].unique()"
   ]
  },
  {
   "cell_type": "markdown",
   "id": "84829e90",
   "metadata": {},
   "source": [
    "* <font size = \"3\"> The **frequency** of each category of the <span style = \"color : blue\">\"**marital**\"</span> feature is going to be checked.</font>"
   ]
  },
  {
   "cell_type": "code",
   "execution_count": 14,
   "id": "f39d8bdb",
   "metadata": {},
   "outputs": [
    {
     "data": {
      "image/png": "[encoded data removed]",
      "text/plain": [
       "<Figure size 1440x360 with 1 Axes>"
      ]
     },
     "metadata": {
      "needs_background": "light"
     },
     "output_type": "display_data"
    }
   ],
   "source": [
    "# Count plot of \"marital\" feature.\n",
    "\n",
    "fig, ax = plt.subplots()\n",
    "fig.set_size_inches(20, 5)\n",
    "sns.countplot(x = 'marital', data = bank_client)  # Function for plotting the Count plot\n",
    "ax.set_xlabel('Marital Status', fontsize=15)      # Setting X-axis as \"Marital Status\"  \n",
    "ax.set_ylabel('Count', fontsize=15)               # Setting Y-axis as \"Count\"\n",
    "ax.set_title('Marital Distribution', fontsize=15) # Naming the title as \"Marital Distribution\"\n",
    "sns.despine()                                     # Remove the top and right spines from the plot."
   ]
  },
  {
   "cell_type": "markdown",
   "id": "24856630",
   "metadata": {},
   "source": [
    "* <font size = \"3\">From the above <span style = \"color : green\">***Count plot***</span>, it can be clearly seen that **most** of the **clients** are **married** while **least** number of **clients** are **divorced**.</font> "
   ]
  },
  {
   "cell_type": "markdown",
   "id": "b7122635",
   "metadata": {},
   "source": [
    "## 4) Education Feature"
   ]
  },
  {
   "cell_type": "code",
   "execution_count": 15,
   "id": "d7a931ab",
   "metadata": {},
   "outputs": [
    {
     "data": {
      "image/png": "[encoded data removed]",
      "text/plain": [
       "<Figure size 1440x360 with 1 Axes>"
      ]
     },
     "metadata": {
      "needs_background": "light"
     },
     "output_type": "display_data"
    }
   ],
   "source": [
    "# Count plot of \"education\" feature.\n",
    "\n",
    "fig, ax = plt.subplots()\n",
    "fig.set_size_inches(20, 5)\n",
    "sns.countplot(x = 'education', data = bank_client)    # Function for plotting the Count plot\n",
    "ax.set_xlabel('Education', fontsize=15)               # Setting X-axis as \"Education\"  \n",
    "ax.set_ylabel('Count', fontsize=15)                   # Setting Y-axis as \"Count\"\n",
    "ax.set_title('Education Distribution', fontsize=15)   # Naming the title as \"Education Distribution\"\n",
    "sns.despine()                                         # Remove the top and right spines from the plot."
   ]
  },
  {
   "cell_type": "markdown",
   "id": "ef89e746",
   "metadata": {},
   "source": [
    "* <font size = \"3\">From the above <span style = \"color : green\">***Count plot***</span>, it can be clearly seen that **most** of the **clients** have completed <span style = \"color : blue\">**secondary**</span> education.</font> "
   ]
  },
  {
   "cell_type": "markdown",
   "id": "71232ed4",
   "metadata": {},
   "source": [
    "## 5) Default, Housing, Loan Features"
   ]
  },
  {
   "cell_type": "code",
   "execution_count": 16,
   "id": "e53ce7e2",
   "metadata": {},
   "outputs": [
    {
     "data": {
      "image/png": "[encoded data removed]",
      "text/plain": [
       "<Figure size 1440x576 with 3 Axes>"
      ]
     },
     "metadata": {
      "needs_background": "light"
     },
     "output_type": "display_data"
    }
   ],
   "source": [
    "# Count plot of \"default\",\"housing\", \"loan\" features.\n",
    "\n",
    "fig, (ax1, ax2, ax3) = plt.subplots(nrows = 1, ncols = 3, figsize = (20,8))\n",
    "\n",
    "sns.countplot(x = 'default', data = bank_client, ax = ax1)    # Function for plotting the Count plot\n",
    "ax1.set_title('Default', fontsize=15)                         # Naming the title as \"Default\"\n",
    "ax1.set_xlabel('')\n",
    "ax1.set_ylabel('Count', fontsize=15)                          # Setting Y-axis as \"Count\"\n",
    "ax1.tick_params(labelsize=15)                                 # Setting ticklabel size\n",
    "\n",
    "sns.countplot(x = 'housing', data = bank_client, ax = ax2)   # Function for plotting the Count plot\n",
    "ax2.set_title('Housing', fontsize=15)                        # Naming the title as \"Housing\"\n",
    "ax2.set_xlabel('')\n",
    "ax2.set_ylabel('Count', fontsize=15)                         # Setting Y-axis as \"Count\"\n",
    "ax2.tick_params(labelsize=15)                                 # Setting ticklabel size\n",
    "\n",
    "sns.countplot(x = 'loan', data = bank_client, ax = ax3)     # Function for plotting the Count plot\n",
    "ax3.set_title('Loan', fontsize=15)                         # Naming the title as \"Loan\"\n",
    "ax3.set_xlabel('')\n",
    "ax3.set_ylabel('Count', fontsize=15)                         # Setting Y-axis as \"Count\"\n",
    "ax3.tick_params(labelsize=15)                                 # Setting ticklabel size\n",
    "\n",
    "plt.subplots_adjust(wspace=0.25)                            # Adjusting space between plots"
   ]
  },
  {
   "cell_type": "markdown",
   "id": "7a432958",
   "metadata": {},
   "source": [
    "* <font size = \"3\">Inference from the above <span style = \"color : green\">***Count plots***</span>:-\n",
    "    -  Except few, almost all **clients** have **credit** in default.\n",
    "    -  **Most clients** have taken **housing loan**.\n",
    "    -  **Very few** **clients** have **personal loan**.</font>"
   ]
  },
  {
   "cell_type": "markdown",
   "id": "8a3ecee8",
   "metadata": {},
   "source": [
    "***"
   ]
  },
  {
   "cell_type": "markdown",
   "id": "bfedac28",
   "metadata": {},
   "source": [
    "## Detection and Handling of Outliers"
   ]
  },
  {
   "cell_type": "markdown",
   "id": "609e45ae",
   "metadata": {},
   "source": [
    "* <font size = \"3\"> Now, the **detection** of the **outliers** would be done. As the **prediction** has been done that the chances of **outliers** are in the above mentioned features. But, here **detection** of the **outliers** will be done in every **numerical** features and if present, they will be **handled**.</font>\n",
    "* <font size = \"3\">The **detection** of the **outliers** will be done with the help of <span style = \"color : green\">**boxplot**</span>.</font>\n",
    "* <font size = \"3\">The **spikes** which are be to the **right** of **right whisker** and to the **left** of **left whisker** are **outliers.** </font>"
   ]
  },
  {
   "cell_type": "code",
   "execution_count": 17,
   "id": "63cb1601",
   "metadata": {},
   "outputs": [
    {
     "data": {
      "image/png": "[encoded data removed]",
      "text/plain": [
       "<Figure size 432x288 with 1 Axes>"
      ]
     },
     "metadata": {
      "needs_background": "light"
     },
     "output_type": "display_data"
    }
   ],
   "source": [
    "# Plotting boxplot of \"age\" column\n",
    "\n",
    "sns.boxplot(bank_client['age'])\n",
    "plt.show()"
   ]
  },
  {
   "cell_type": "markdown",
   "id": "cae99ef6",
   "metadata": {},
   "source": [
    "* <font size = \"3\"> As, there are black spikes to the right of right whisker which are **outliers**. \n",
    "  <br> So now, they will be **handled**. </font>"
   ]
  },
  {
   "cell_type": "code",
   "execution_count": 18,
   "id": "04f7a2a6",
   "metadata": {},
   "outputs": [],
   "source": [
    "# Creating a function which will handle the outliers.\n",
    "\n",
    "def handle_outliers(sample):\n",
    "    tenth_percentile = np.percentile(sample, 10)           # tenth percentile value is stored\n",
    "    ninetieth_percentile = np.percentile(sample, 90)       # ninetieth percentile value is stored\n",
    "    sample = np.where(sample > ninetieth_percentile, ninetieth_percentile, sample)\n",
    "    sample = np.where(sample < tenth_percentile, tenth_percentile, sample)\n",
    "    return sample"
   ]
  },
  {
   "cell_type": "markdown",
   "id": "cd34c797",
   "metadata": {},
   "source": [
    "* <font size = \"3\"> In the above function, all the values of a particular column above **90th percentile** are imputed as the **90th percentile** value and all the values below **10th percentile** are imputed as the **10th percentile**.</font>\n",
    "* <font size = \"3\">This technique is called as **capping** the **outliers**.</font>  "
   ]
  },
  {
   "cell_type": "code",
   "execution_count": 19,
   "id": "9d59e12d",
   "metadata": {},
   "outputs": [],
   "source": [
    "# Implementing the above function in \"age\" column.\n",
    "\n",
    "age = np.array(bank_client['age'])\n",
    "bank_client['age'] = handle_outliers(age)"
   ]
  },
  {
   "cell_type": "markdown",
   "id": "0be94426",
   "metadata": {},
   "source": [
    "* <font size = \"3\">Now, the above method has worked or not is to be checked. So, for again the **boxplot** will be **plotted**.</font>"
   ]
  },
  {
   "cell_type": "code",
   "execution_count": 20,
   "id": "e0df5e01",
   "metadata": {},
   "outputs": [
    {
     "data": {
      "image/png": "[encoded data removed]",
      "text/plain": [
       "<Figure size 432x288 with 1 Axes>"
      ]
     },
     "metadata": {
      "needs_background": "light"
     },
     "output_type": "display_data"
    }
   ],
   "source": [
    "# Plotting a boxplot for \"age\" column once again\n",
    "\n",
    "sns.boxplot(bank_client['age'])\n",
    "plt.show()"
   ]
  },
  {
   "cell_type": "markdown",
   "id": "db28c398",
   "metadata": {},
   "source": [
    "* <font size = \"3\"> Now, there are no **spikes** in the above **boxplot** that means there are no **outliers** in the   \n",
    "    \"<span style=\"color: blue\">***age***</span>\" column.</font>\n",
    "* <font size = \"3\">The same procedure is going to be implemented for other ***numerical*** features as well.</font> "
   ]
  },
  {
   "cell_type": "code",
   "execution_count": 21,
   "id": "d45baa58",
   "metadata": {},
   "outputs": [
    {
     "data": {
      "image/png": "[encoded data removed]",
      "text/plain": [
       "<Figure size 432x288 with 1 Axes>"
      ]
     },
     "metadata": {
      "needs_background": "light"
     },
     "output_type": "display_data"
    }
   ],
   "source": [
    "# Boxplot for \"balance\" column\n",
    "\n",
    "sns.boxplot(bank_client['balance'])\n",
    "plt.show()"
   ]
  },
  {
   "cell_type": "markdown",
   "id": "37dd1cbc",
   "metadata": {},
   "source": [
    "* <font size = \"3\">In <span style = \"color : blue\">**balance**</span> column, **outliers** are present.</font>"
   ]
  },
  {
   "cell_type": "code",
   "execution_count": 22,
   "id": "4e015b84",
   "metadata": {},
   "outputs": [],
   "source": [
    "# Implementing function on \"balance\" column for handling outliers.\n",
    "\n",
    "balance = np.array(bank_client['balance'])\n",
    "bank_client['balance'] = handle_outliers(balance)"
   ]
  },
  {
   "cell_type": "code",
   "execution_count": 23,
   "id": "f9d8f9f8",
   "metadata": {},
   "outputs": [
    {
     "data": {
      "image/png": "[encoded data removed]",
      "text/plain": [
       "<Figure size 432x288 with 1 Axes>"
      ]
     },
     "metadata": {
      "needs_background": "light"
     },
     "output_type": "display_data"
    }
   ],
   "source": [
    "# Boxplot for \"duration\" column\n",
    "\n",
    "sns.boxplot(bank_client['duration'])\n",
    "plt.show()"
   ]
  },
  {
   "cell_type": "markdown",
   "id": "fcfdcfe6",
   "metadata": {},
   "source": [
    "* <font size = \"3\">In <span style = \"color : blue\">**duration**</span> column, **outliers** are present.</font>"
   ]
  },
  {
   "cell_type": "code",
   "execution_count": 24,
   "id": "c768c4ab",
   "metadata": {},
   "outputs": [],
   "source": [
    "# Implementing function on \"duration\" column for handling outliers.\n",
    "\n",
    "duration = np.array(bank_client['duration'])\n",
    "bank_client['duration'] = handle_outliers(duration)"
   ]
  },
  {
   "cell_type": "code",
   "execution_count": 25,
   "id": "eda7f186",
   "metadata": {},
   "outputs": [
    {
     "data": {
      "image/png": "[encoded data removed]",
      "text/plain": [
       "<Figure size 432x288 with 1 Axes>"
      ]
     },
     "metadata": {
      "needs_background": "light"
     },
     "output_type": "display_data"
    }
   ],
   "source": [
    "# Boxplot for \"campaign\" column\n",
    "\n",
    "sns.boxplot(bank_client['campaign'])\n",
    "plt.show()"
   ]
  },
  {
   "cell_type": "markdown",
   "id": "2a7dc432",
   "metadata": {},
   "source": [
    "* <font size = \"3\">In <span style = \"color : blue\">**campaign**</span> column, **outliers** are present.</font>"
   ]
  },
  {
   "cell_type": "code",
   "execution_count": 26,
   "id": "1505b318",
   "metadata": {},
   "outputs": [],
   "source": [
    "# Implementing function on \"campaign\" column for handling outliers.\n",
    "\n",
    "campaign = np.array(bank_client['campaign'])\n",
    "bank_client['campaign'] = handle_outliers(campaign)"
   ]
  },
  {
   "cell_type": "code",
   "execution_count": 27,
   "id": "39f1b049",
   "metadata": {},
   "outputs": [
    {
     "data": {
      "image/png": "[encoded data removed]",
      "text/plain": [
       "<Figure size 432x288 with 1 Axes>"
      ]
     },
     "metadata": {
      "needs_background": "light"
     },
     "output_type": "display_data"
    }
   ],
   "source": [
    "# Boxplot for \"pdays\" column\n",
    "\n",
    "sns.boxplot(bank_client['pdays'])\n",
    "plt.show()"
   ]
  },
  {
   "cell_type": "markdown",
   "id": "a3fb555e",
   "metadata": {},
   "source": [
    "* <font size = \"3\">In <span style = \"color : blue\">**pdays**</span> column, **outliers** are present.</font>"
   ]
  },
  {
   "cell_type": "code",
   "execution_count": 28,
   "id": "805a44d1",
   "metadata": {},
   "outputs": [],
   "source": [
    "# Implementing function on \"pdays\" column for handling outliers.\n",
    "\n",
    "pdays = np.array(bank_client['pdays'])\n",
    "bank_client['pdays'] = handle_outliers(pdays)"
   ]
  },
  {
   "cell_type": "code",
   "execution_count": 29,
   "id": "9e8ceb6a",
   "metadata": {},
   "outputs": [
    {
     "data": {
      "image/png": "[encoded data removed]",
      "text/plain": [
       "<Figure size 432x288 with 1 Axes>"
      ]
     },
     "metadata": {
      "needs_background": "light"
     },
     "output_type": "display_data"
    }
   ],
   "source": [
    "# Boxplot for \"previous\" column\n",
    "\n",
    "sns.boxplot(bank_client['previous'])\n",
    "plt.show()"
   ]
  },
  {
   "cell_type": "markdown",
   "id": "ab1e5a8f",
   "metadata": {},
   "source": [
    "* <font size = \"3\">In <span style = \"color : blue\">**previous**</span> column, **outliers** are present.</font>"
   ]
  },
  {
   "cell_type": "code",
   "execution_count": 30,
   "id": "37cace1e",
   "metadata": {},
   "outputs": [],
   "source": [
    "# Implementing function on \"previous\" column for handling outliers.\n",
    "\n",
    "previous = np.array(bank_client['previous'])\n",
    "bank_client['previous'] = handle_outliers(previous)"
   ]
  },
  {
   "cell_type": "markdown",
   "id": "989d2802",
   "metadata": {},
   "source": [
    "* <font size = \"3\">Every **outliers** in the dataset have been handled by **capping** method.</font>"
   ]
  },
  {
   "cell_type": "markdown",
   "id": "0aa0814e",
   "metadata": {},
   "source": [
    "***"
   ]
  },
  {
   "cell_type": "markdown",
   "id": "ebcf471b",
   "metadata": {},
   "source": [
    "# <span style = \"color : blue\">Feature Engineering</span>"
   ]
  },
  {
   "cell_type": "markdown",
   "id": "6d336f18",
   "metadata": {},
   "source": [
    "* <font size = \"3\">In this step, <span style = \"color : maroon\">**encoding**</span> of the **categorical** features will be done. As the **model** won't understand the object type of values, so that's why <span style = \"color : maroon\">**encoding**</span> is **mandatory**. </font>"
   ]
  },
  {
   "cell_type": "code",
   "execution_count": 31,
   "id": "d081a73f",
   "metadata": {},
   "outputs": [
    {
     "name": "stdout",
     "output_type": "stream",
     "text": [
      "<class 'pandas.core.frame.DataFrame'>\n",
      "RangeIndex: 11162 entries, 0 to 11161\n",
      "Data columns (total 17 columns):\n",
      " #   Column     Non-Null Count  Dtype  \n",
      "---  ------     --------------  -----  \n",
      " 0   age        11162 non-null  float64\n",
      " 1   job        11162 non-null  object \n",
      " 2   marital    11162 non-null  object \n",
      " 3   education  11162 non-null  object \n",
      " 4   default    11162 non-null  object \n",
      " 5   balance    11162 non-null  float64\n",
      " 6   housing    11162 non-null  object \n",
      " 7   loan       11162 non-null  object \n",
      " 8   contact    11162 non-null  object \n",
      " 9   day        11162 non-null  int64  \n",
      " 10  month      11162 non-null  object \n",
      " 11  duration   11162 non-null  float64\n",
      " 12  campaign   11162 non-null  float64\n",
      " 13  pdays      11162 non-null  float64\n",
      " 14  previous   11162 non-null  float64\n",
      " 15  poutcome   11162 non-null  object \n",
      " 16  deposit    11162 non-null  object \n",
      "dtypes: float64(6), int64(1), object(10)\n",
      "memory usage: 1.4+ MB\n"
     ]
    }
   ],
   "source": [
    "# Checking the categorical columns\n",
    "bank_client.info()"
   ]
  },
  {
   "cell_type": "markdown",
   "id": "cbeae6f3",
   "metadata": {},
   "source": [
    "* <font size = \"3\">There are **10** categorical columns.</font>"
   ]
  },
  {
   "cell_type": "code",
   "execution_count": 32,
   "id": "c22951c5",
   "metadata": {},
   "outputs": [
    {
     "data": {
      "text/plain": [
       "Index(['job', 'marital', 'education', 'default', 'housing', 'loan', 'contact',\n",
       "       'month', 'poutcome', 'deposit'],\n",
       "      dtype='object')"
      ]
     },
     "execution_count": 32,
     "metadata": {},
     "output_type": "execute_result"
    }
   ],
   "source": [
    "# Storing all the categorical columns in \"columns_to_convert\" variable\n",
    "columns_to_convert = bank_client.select_dtypes('object').columns   \n",
    "columns_to_convert"
   ]
  },
  {
   "cell_type": "markdown",
   "id": "bec8a799",
   "metadata": {},
   "source": [
    "* <font size = \"3\">There are two methods of **Encoding** :-</font>\n",
    " \n",
    "    - <font size = \"3\">**Label Encoding**</font>\n",
    " \n",
    "    - <font size = \"3\">**One-Hot Encoding**</font>"
   ]
  },
  {
   "cell_type": "markdown",
   "id": "bea8f192",
   "metadata": {},
   "source": [
    "## Label Encoding"
   ]
  },
  {
   "cell_type": "markdown",
   "id": "60fb9043",
   "metadata": {},
   "source": [
    "* <font size = \"3\">In this method, the categorical columns which are **binary** i.e. having **two** categories will be **encoded**.</font>  "
   ]
  },
  {
   "cell_type": "code",
   "execution_count": 33,
   "id": "482baa9b",
   "metadata": {},
   "outputs": [],
   "source": [
    "# Storing all binary categorical features in \"label_encod_cols\" list.\n",
    "label_encod_cols = [col for col in columns_to_convert if bank_client[col].nunique() == 2]"
   ]
  },
  {
   "cell_type": "code",
   "execution_count": 34,
   "id": "a0a8c73a",
   "metadata": {},
   "outputs": [
    {
     "data": {
      "text/plain": [
       "['default', 'housing', 'loan', 'deposit']"
      ]
     },
     "execution_count": 34,
     "metadata": {},
     "output_type": "execute_result"
    }
   ],
   "source": [
    "label_encod_cols"
   ]
  },
  {
   "cell_type": "markdown",
   "id": "afc778a0",
   "metadata": {},
   "source": [
    "* <font size = \"3\">Hence, the **binary** categorical columns are :- [<span style = \"color : blue\">\"***default***\"</span>,<span style = \"color : blue\"> \"***housing***\"</span>,<span style = \"color : blue\"> \"***loan***\"</span>,<span style = \"color : blue\"> \"***deposit***\"</span>].</font>"
   ]
  },
  {
   "cell_type": "markdown",
   "id": "4896d540",
   "metadata": {},
   "source": [
    "* <font size = \"3\">We are going to check the categories in all these columns.</font>"
   ]
  },
  {
   "cell_type": "code",
   "execution_count": 35,
   "id": "079a118d",
   "metadata": {},
   "outputs": [
    {
     "name": "stdout",
     "output_type": "stream",
     "text": [
      "Default: ['no' 'yes']\n",
      "Housing: ['yes' 'no']\n",
      "Loan: ['no' 'yes']\n",
      "Deposit: ['yes' 'no']\n"
     ]
    }
   ],
   "source": [
    "print(\"Default:\", bank_client['default'].unique())\n",
    "print(\"Housing:\", bank_client['housing'].unique())\n",
    "print(\"Loan:\", bank_client['loan'].unique())\n",
    "print(\"Deposit:\", bank_client['deposit'].unique())"
   ]
  },
  {
   "cell_type": "markdown",
   "id": "814869aa",
   "metadata": {},
   "source": [
    "* <font size = \"3\">From above, it is seen that all **four** columns are having **\"Yes\"** and **\"No\"** values.</font>"
   ]
  },
  {
   "cell_type": "code",
   "execution_count": 36,
   "id": "fa1c5ff0",
   "metadata": {},
   "outputs": [],
   "source": [
    "# Mapping \"yes\" and \"no\" values with \"1\" and \"0\" respectively.\n",
    "def binary_map(x):\n",
    "    return x.map({'yes': 1, 'no': 0})"
   ]
  },
  {
   "cell_type": "code",
   "execution_count": 37,
   "id": "4be1face",
   "metadata": {},
   "outputs": [],
   "source": [
    "# Applying the above function in these 4 columns \n",
    "bank_client[label_encod_cols] = bank_client[label_encod_cols].apply(binary_map)"
   ]
  },
  {
   "cell_type": "code",
   "execution_count": 38,
   "id": "cbee1e45",
   "metadata": {},
   "outputs": [
    {
     "name": "stdout",
     "output_type": "stream",
     "text": [
      "Default: [0 1]\n",
      "Housing: [1 0]\n",
      "Loan: [0 1]\n",
      "Deposit: [1 0]\n"
     ]
    }
   ],
   "source": [
    "print(\"Default:\", bank_client['default'].unique())\n",
    "print(\"Housing:\", bank_client['housing'].unique())\n",
    "print(\"Loan:\", bank_client['loan'].unique())\n",
    "print(\"Deposit:\", bank_client['deposit'].unique())"
   ]
  },
  {
   "cell_type": "markdown",
   "id": "9016c2cc",
   "metadata": {},
   "source": [
    "* <font size = \"3\">The above four columns are successfully **encoded**.</font>"
   ]
  },
  {
   "cell_type": "markdown",
   "id": "ad9bc989",
   "metadata": {},
   "source": [
    "## One Hot Encoding"
   ]
  },
  {
   "cell_type": "markdown",
   "id": "ca242320",
   "metadata": {},
   "source": [
    "* <font size = \"3\">In this method, the categorical columns who are having **more** than **two** categories are **encoded**.</font>"
   ]
  },
  {
   "cell_type": "code",
   "execution_count": 39,
   "id": "37154bbd",
   "metadata": {},
   "outputs": [
    {
     "data": {
      "text/plain": [
       "['job', 'marital', 'education', 'contact', 'month', 'poutcome']"
      ]
     },
     "execution_count": 39,
     "metadata": {},
     "output_type": "execute_result"
    }
   ],
   "source": [
    "# Storing all multiclass categories in \"one_hot_encod_cols\" list.\n",
    "one_hot_encod_cols = [col for col in columns_to_convert if bank_client[col].nunique() > 2]\n",
    "one_hot_encod_cols"
   ]
  },
  {
   "cell_type": "markdown",
   "id": "5d46751a",
   "metadata": {},
   "source": [
    "* The multiclass categorical columns are :- [<span style = \"color : blue\">\"***job***\"</span>,<span style = \"color : blue\"> \"***marital***\"</span>,<span style = \"color : blue\"> \"***education***\"</span>,<span style = \"color : blue\"> \"***contact***\"</span>, <span style = \"color : blue\"> \"***month***\"</span>,<span style = \"color : blue\"> \"***poutcome***\"</span>].</font>"
   ]
  },
  {
   "cell_type": "markdown",
   "id": "ed2bc998",
   "metadata": {},
   "source": [
    "* <font size = \"3\">In this method, <span style = \"color : green\">**dummy**</span> variables are going to be added, that means for **each category** of a feature, a column will be created.</font> "
   ]
  },
  {
   "cell_type": "code",
   "execution_count": 40,
   "id": "c2ea5287",
   "metadata": {},
   "outputs": [],
   "source": [
    "# Creating dummy variable for getting dummies for every multiclass categorical features and also dropping the first dummy column of each feature.\n",
    "dummy = pd.get_dummies(bank_client[one_hot_encod_cols], drop_first = True)"
   ]
  },
  {
   "cell_type": "markdown",
   "id": "6ec40dc1",
   "metadata": {},
   "source": [
    "* <font size = \"3\">After creating <span style = \"color : green\">**dummy**</span> variable, it is added to the **dataset**.</font>"
   ]
  },
  {
   "cell_type": "code",
   "execution_count": 41,
   "id": "d8c52fc3",
   "metadata": {},
   "outputs": [],
   "source": [
    "# Adding dummy to the dataset\n",
    "bank_client = pd.concat([bank_client, dummy], axis = 1)"
   ]
  },
  {
   "cell_type": "code",
   "execution_count": 42,
   "id": "e923f7a3",
   "metadata": {},
   "outputs": [
    {
     "data": {
      "text/html": [
       "<div>\n",
       "<style scoped>\n",
       "    .dataframe tbody tr th:only-of-type {\n",
       "        vertical-align: middle;\n",
       "    }\n",
       "\n",
       "    .dataframe tbody tr th {\n",
       "        vertical-align: top;\n",
       "    }\n",
       "\n",
       "    .dataframe thead th {\n",
       "        text-align: right;\n",
       "    }\n",
       "</style>\n",
       "<table border=\"1\" class=\"dataframe\">\n",
       "  <thead>\n",
       "    <tr style=\"text-align: right;\">\n",
       "      <th></th>\n",
       "      <th>age</th>\n",
       "      <th>job</th>\n",
       "      <th>marital</th>\n",
       "      <th>education</th>\n",
       "      <th>default</th>\n",
       "      <th>balance</th>\n",
       "      <th>housing</th>\n",
       "      <th>loan</th>\n",
       "      <th>contact</th>\n",
       "      <th>day</th>\n",
       "      <th>...</th>\n",
       "      <th>month_jul</th>\n",
       "      <th>month_jun</th>\n",
       "      <th>month_mar</th>\n",
       "      <th>month_may</th>\n",
       "      <th>month_nov</th>\n",
       "      <th>month_oct</th>\n",
       "      <th>month_sep</th>\n",
       "      <th>poutcome_other</th>\n",
       "      <th>poutcome_success</th>\n",
       "      <th>poutcome_unknown</th>\n",
       "    </tr>\n",
       "  </thead>\n",
       "  <tbody>\n",
       "    <tr>\n",
       "      <th>0</th>\n",
       "      <td>58.0</td>\n",
       "      <td>admin.</td>\n",
       "      <td>married</td>\n",
       "      <td>secondary</td>\n",
       "      <td>0</td>\n",
       "      <td>2343.0</td>\n",
       "      <td>1</td>\n",
       "      <td>0</td>\n",
       "      <td>unknown</td>\n",
       "      <td>5</td>\n",
       "      <td>...</td>\n",
       "      <td>0</td>\n",
       "      <td>0</td>\n",
       "      <td>0</td>\n",
       "      <td>1</td>\n",
       "      <td>0</td>\n",
       "      <td>0</td>\n",
       "      <td>0</td>\n",
       "      <td>0</td>\n",
       "      <td>0</td>\n",
       "      <td>1</td>\n",
       "    </tr>\n",
       "    <tr>\n",
       "      <th>1</th>\n",
       "      <td>56.0</td>\n",
       "      <td>admin.</td>\n",
       "      <td>married</td>\n",
       "      <td>secondary</td>\n",
       "      <td>0</td>\n",
       "      <td>45.0</td>\n",
       "      <td>0</td>\n",
       "      <td>0</td>\n",
       "      <td>unknown</td>\n",
       "      <td>5</td>\n",
       "      <td>...</td>\n",
       "      <td>0</td>\n",
       "      <td>0</td>\n",
       "      <td>0</td>\n",
       "      <td>1</td>\n",
       "      <td>0</td>\n",
       "      <td>0</td>\n",
       "      <td>0</td>\n",
       "      <td>0</td>\n",
       "      <td>0</td>\n",
       "      <td>1</td>\n",
       "    </tr>\n",
       "    <tr>\n",
       "      <th>2</th>\n",
       "      <td>41.0</td>\n",
       "      <td>technician</td>\n",
       "      <td>married</td>\n",
       "      <td>secondary</td>\n",
       "      <td>0</td>\n",
       "      <td>1270.0</td>\n",
       "      <td>1</td>\n",
       "      <td>0</td>\n",
       "      <td>unknown</td>\n",
       "      <td>5</td>\n",
       "      <td>...</td>\n",
       "      <td>0</td>\n",
       "      <td>0</td>\n",
       "      <td>0</td>\n",
       "      <td>1</td>\n",
       "      <td>0</td>\n",
       "      <td>0</td>\n",
       "      <td>0</td>\n",
       "      <td>0</td>\n",
       "      <td>0</td>\n",
       "      <td>1</td>\n",
       "    </tr>\n",
       "    <tr>\n",
       "      <th>3</th>\n",
       "      <td>55.0</td>\n",
       "      <td>services</td>\n",
       "      <td>married</td>\n",
       "      <td>secondary</td>\n",
       "      <td>0</td>\n",
       "      <td>2476.0</td>\n",
       "      <td>1</td>\n",
       "      <td>0</td>\n",
       "      <td>unknown</td>\n",
       "      <td>5</td>\n",
       "      <td>...</td>\n",
       "      <td>0</td>\n",
       "      <td>0</td>\n",
       "      <td>0</td>\n",
       "      <td>1</td>\n",
       "      <td>0</td>\n",
       "      <td>0</td>\n",
       "      <td>0</td>\n",
       "      <td>0</td>\n",
       "      <td>0</td>\n",
       "      <td>1</td>\n",
       "    </tr>\n",
       "    <tr>\n",
       "      <th>4</th>\n",
       "      <td>54.0</td>\n",
       "      <td>admin.</td>\n",
       "      <td>married</td>\n",
       "      <td>tertiary</td>\n",
       "      <td>0</td>\n",
       "      <td>184.0</td>\n",
       "      <td>0</td>\n",
       "      <td>0</td>\n",
       "      <td>unknown</td>\n",
       "      <td>5</td>\n",
       "      <td>...</td>\n",
       "      <td>0</td>\n",
       "      <td>0</td>\n",
       "      <td>0</td>\n",
       "      <td>1</td>\n",
       "      <td>0</td>\n",
       "      <td>0</td>\n",
       "      <td>0</td>\n",
       "      <td>0</td>\n",
       "      <td>0</td>\n",
       "      <td>1</td>\n",
       "    </tr>\n",
       "  </tbody>\n",
       "</table>\n",
       "<p>5 rows × 49 columns</p>\n",
       "</div>"
      ],
      "text/plain": [
       "    age         job  marital  education  default  balance  housing  loan  \\\n",
       "0  58.0      admin.  married  secondary        0   2343.0        1     0   \n",
       "1  56.0      admin.  married  secondary        0     45.0        0     0   \n",
       "2  41.0  technician  married  secondary        0   1270.0        1     0   \n",
       "3  55.0    services  married  secondary        0   2476.0        1     0   \n",
       "4  54.0      admin.  married   tertiary        0    184.0        0     0   \n",
       "\n",
       "   contact  day  ... month_jul  month_jun  month_mar  month_may  month_nov  \\\n",
       "0  unknown    5  ...         0          0          0          1          0   \n",
       "1  unknown    5  ...         0          0          0          1          0   \n",
       "2  unknown    5  ...         0          0          0          1          0   \n",
       "3  unknown    5  ...         0          0          0          1          0   \n",
       "4  unknown    5  ...         0          0          0          1          0   \n",
       "\n",
       "  month_oct  month_sep  poutcome_other  poutcome_success  poutcome_unknown  \n",
       "0         0          0               0                 0                 1  \n",
       "1         0          0               0                 0                 1  \n",
       "2         0          0               0                 0                 1  \n",
       "3         0          0               0                 0                 1  \n",
       "4         0          0               0                 0                 1  \n",
       "\n",
       "[5 rows x 49 columns]"
      ]
     },
     "execution_count": 42,
     "metadata": {},
     "output_type": "execute_result"
    }
   ],
   "source": [
    "# The first five rows of the dataset\n",
    "bank_client.head()"
   ]
  },
  {
   "cell_type": "markdown",
   "id": "a109e67b",
   "metadata": {},
   "source": [
    "* <font size = \"3\">After adding the <span style = \"color : green\">**dummy**</span> to the dataset, the original feature of which **dummies** are created are to be **dropped**.</font>"
   ]
  },
  {
   "cell_type": "code",
   "execution_count": 43,
   "id": "41fb30ec",
   "metadata": {},
   "outputs": [],
   "source": [
    "# Dropping the original multiclass categorical columns.\n",
    "bank_client = bank_client.drop(one_hot_encod_cols, 1)"
   ]
  },
  {
   "cell_type": "code",
   "execution_count": 44,
   "id": "ec3894ac",
   "metadata": {},
   "outputs": [
    {
     "data": {
      "text/plain": [
       "(11162, 43)"
      ]
     },
     "execution_count": 44,
     "metadata": {},
     "output_type": "execute_result"
    }
   ],
   "source": [
    "# Checking the shape(no. of rows and no. of columns) of the dataset.\n",
    "bank_client.shape"
   ]
  },
  {
   "cell_type": "markdown",
   "id": "2ba31de2",
   "metadata": {},
   "source": [
    "* <font size = \"3\">Earlier there were **17** columns but after adding **dummies** to the dataset, the no. of columns have become **43**.</font> "
   ]
  },
  {
   "cell_type": "code",
   "execution_count": 45,
   "id": "4301626e",
   "metadata": {},
   "outputs": [
    {
     "name": "stdout",
     "output_type": "stream",
     "text": [
      "<class 'pandas.core.frame.DataFrame'>\n",
      "RangeIndex: 11162 entries, 0 to 11161\n",
      "Data columns (total 43 columns):\n",
      " #   Column               Non-Null Count  Dtype  \n",
      "---  ------               --------------  -----  \n",
      " 0   age                  11162 non-null  float64\n",
      " 1   default              11162 non-null  int64  \n",
      " 2   balance              11162 non-null  float64\n",
      " 3   housing              11162 non-null  int64  \n",
      " 4   loan                 11162 non-null  int64  \n",
      " 5   day                  11162 non-null  int64  \n",
      " 6   duration             11162 non-null  float64\n",
      " 7   campaign             11162 non-null  float64\n",
      " 8   pdays                11162 non-null  float64\n",
      " 9   previous             11162 non-null  float64\n",
      " 10  deposit              11162 non-null  int64  \n",
      " 11  job_blue-collar      11162 non-null  uint8  \n",
      " 12  job_entrepreneur     11162 non-null  uint8  \n",
      " 13  job_housemaid        11162 non-null  uint8  \n",
      " 14  job_management       11162 non-null  uint8  \n",
      " 15  job_retired          11162 non-null  uint8  \n",
      " 16  job_self-employed    11162 non-null  uint8  \n",
      " 17  job_services         11162 non-null  uint8  \n",
      " 18  job_student          11162 non-null  uint8  \n",
      " 19  job_technician       11162 non-null  uint8  \n",
      " 20  job_unemployed       11162 non-null  uint8  \n",
      " 21  job_unknown          11162 non-null  uint8  \n",
      " 22  marital_married      11162 non-null  uint8  \n",
      " 23  marital_single       11162 non-null  uint8  \n",
      " 24  education_secondary  11162 non-null  uint8  \n",
      " 25  education_tertiary   11162 non-null  uint8  \n",
      " 26  education_unknown    11162 non-null  uint8  \n",
      " 27  contact_telephone    11162 non-null  uint8  \n",
      " 28  contact_unknown      11162 non-null  uint8  \n",
      " 29  month_aug            11162 non-null  uint8  \n",
      " 30  month_dec            11162 non-null  uint8  \n",
      " 31  month_feb            11162 non-null  uint8  \n",
      " 32  month_jan            11162 non-null  uint8  \n",
      " 33  month_jul            11162 non-null  uint8  \n",
      " 34  month_jun            11162 non-null  uint8  \n",
      " 35  month_mar            11162 non-null  uint8  \n",
      " 36  month_may            11162 non-null  uint8  \n",
      " 37  month_nov            11162 non-null  uint8  \n",
      " 38  month_oct            11162 non-null  uint8  \n",
      " 39  month_sep            11162 non-null  uint8  \n",
      " 40  poutcome_other       11162 non-null  uint8  \n",
      " 41  poutcome_success     11162 non-null  uint8  \n",
      " 42  poutcome_unknown     11162 non-null  uint8  \n",
      "dtypes: float64(6), int64(5), uint8(32)\n",
      "memory usage: 1.3 MB\n"
     ]
    }
   ],
   "source": [
    "# Checking the datatype of every features.\n",
    "bank_client.info()"
   ]
  },
  {
   "cell_type": "markdown",
   "id": "4fd2d49c",
   "metadata": {},
   "source": [
    "* <font size = \"3\">Now, all the columns are **numeric** type, so the **model** will be able to understand all the features.</font> "
   ]
  },
  {
   "cell_type": "markdown",
   "id": "79f136dc",
   "metadata": {},
   "source": [
    "## Data Splitting\n",
    "* <font size = \"3\">The data is splitted into **input** variable and **output** variable(**target** variable) i.e. the **target** variable will be seperated from the **feature** variable.</font>"
   ]
  },
  {
   "cell_type": "code",
   "execution_count": 46,
   "id": "f062919c",
   "metadata": {},
   "outputs": [],
   "source": [
    "# Splitting the data\n",
    "X = bank_client.drop(['deposit'], axis=1)   # Dropping the target feature \"deposit\" and all the input data are stored in \"X\" variable\n",
    "y = bank_client['deposit']   # The output data is stored in \"y\" variable"
   ]
  },
  {
   "cell_type": "markdown",
   "id": "cb86a419",
   "metadata": {},
   "source": [
    "* <font size = \"3\">**\"X\"** has become **input** variable.</font>\n",
    "* <font size = \"3\">**\"y\"** has become **output** variable.</font>"
   ]
  },
  {
   "cell_type": "markdown",
   "id": "c19ca00d",
   "metadata": {},
   "source": [
    "## Multicollinearity\n",
    "* <font size = \"3\"><span style = \"color : green\">**Multicollinearity**</span> occurs when **two** or more **independent** variables are **highly** correlated with one another. This means that an independent variable can be **predicted** from another independent variable.</font>\n",
    "* <font size = \"3\">The features which are having <span style = \"color : green\">**multicollinearity**</span>, they aren't helping much with **prediction** and unnecessarily making the model **complex**.</font>\n",
    "* <font size = \"3\">The features which are showing **high** <span style = \"color : green\">**multicollinearity**</span>, it's better to **drop** them.</font>"
   ]
  },
  {
   "cell_type": "markdown",
   "id": "043db8ba",
   "metadata": {},
   "source": [
    "## VIF (Variance Inflation Factor)"
   ]
  },
  {
   "cell_type": "markdown",
   "id": "5f088a0f",
   "metadata": {},
   "source": [
    "* <font size = \"3\"><span style = \"color : green\">**VIF**</span> method is used to calculate <span style = \"color : green\">**VIF**</span> of every independent feature.</font>\n",
    "* <font size = \"3\"><span style = \"color : green\">**VIF**</span> value helps to determine **multicollinearity**. **More** the value of <span style = \"color : green\">**VIF**</span>, **more** is the **multicollinearity**.</font>\n",
    "* <font size = \"3\">**Minimum** value of <span style = \"color : green\">**VIF**</span> is **1**. <span style = \"color : green\">**VIF**</span> = **1** means there is no **correlation** between the particular independent variable with the others.</font>\n",
    "* <font size = \"3\"><span style = \"color : green\">**VIF**</span> exceeding **5** indicates **high** **multicollinearity** between the particular independent variable and the others.</font>"
   ]
  },
  {
   "cell_type": "code",
   "execution_count": 47,
   "id": "0fea3270",
   "metadata": {},
   "outputs": [],
   "source": [
    "# Importing VIF\n",
    "from statsmodels.stats.outliers_influence import variance_inflation_factor"
   ]
  },
  {
   "cell_type": "markdown",
   "id": "6f18e38c",
   "metadata": {},
   "source": [
    "* <font size = \"3\">Since, <span style = \"color : green\">**VIF**</span> is calculated for independent variables, that means **input** data will be considered for checking <span style = \"color : green\">**VIF**</span>.</font> "
   ]
  },
  {
   "cell_type": "code",
   "execution_count": 48,
   "id": "ef45b31b",
   "metadata": {},
   "outputs": [
    {
     "data": {
      "text/html": [
       "<div>\n",
       "<style scoped>\n",
       "    .dataframe tbody tr th:only-of-type {\n",
       "        vertical-align: middle;\n",
       "    }\n",
       "\n",
       "    .dataframe tbody tr th {\n",
       "        vertical-align: top;\n",
       "    }\n",
       "\n",
       "    .dataframe thead th {\n",
       "        text-align: right;\n",
       "    }\n",
       "</style>\n",
       "<table border=\"1\" class=\"dataframe\">\n",
       "  <thead>\n",
       "    <tr style=\"text-align: right;\">\n",
       "      <th></th>\n",
       "      <th>Features</th>\n",
       "      <th>VIF</th>\n",
       "    </tr>\n",
       "  </thead>\n",
       "  <tbody>\n",
       "    <tr>\n",
       "      <th>41</th>\n",
       "      <td>poutcome_unknown</td>\n",
       "      <td>34.42</td>\n",
       "    </tr>\n",
       "    <tr>\n",
       "      <th>0</th>\n",
       "      <td>age</td>\n",
       "      <td>24.77</td>\n",
       "    </tr>\n",
       "    <tr>\n",
       "      <th>8</th>\n",
       "      <td>pdays</td>\n",
       "      <td>8.00</td>\n",
       "    </tr>\n",
       "    <tr>\n",
       "      <th>9</th>\n",
       "      <td>previous</td>\n",
       "      <td>6.12</td>\n",
       "    </tr>\n",
       "    <tr>\n",
       "      <th>21</th>\n",
       "      <td>marital_married</td>\n",
       "      <td>5.67</td>\n",
       "    </tr>\n",
       "    <tr>\n",
       "      <th>5</th>\n",
       "      <td>day</td>\n",
       "      <td>5.46</td>\n",
       "    </tr>\n",
       "    <tr>\n",
       "      <th>23</th>\n",
       "      <td>education_secondary</td>\n",
       "      <td>5.13</td>\n",
       "    </tr>\n",
       "    <tr>\n",
       "      <th>24</th>\n",
       "      <td>education_tertiary</td>\n",
       "      <td>5.11</td>\n",
       "    </tr>\n",
       "    <tr>\n",
       "      <th>35</th>\n",
       "      <td>month_may</td>\n",
       "      <td>4.63</td>\n",
       "    </tr>\n",
       "    <tr>\n",
       "      <th>7</th>\n",
       "      <td>campaign</td>\n",
       "      <td>4.07</td>\n",
       "    </tr>\n",
       "    <tr>\n",
       "      <th>22</th>\n",
       "      <td>marital_single</td>\n",
       "      <td>3.95</td>\n",
       "    </tr>\n",
       "    <tr>\n",
       "      <th>13</th>\n",
       "      <td>job_management</td>\n",
       "      <td>3.93</td>\n",
       "    </tr>\n",
       "    <tr>\n",
       "      <th>6</th>\n",
       "      <td>duration</td>\n",
       "      <td>2.93</td>\n",
       "    </tr>\n",
       "    <tr>\n",
       "      <th>33</th>\n",
       "      <td>month_jun</td>\n",
       "      <td>2.90</td>\n",
       "    </tr>\n",
       "    <tr>\n",
       "      <th>28</th>\n",
       "      <td>month_aug</td>\n",
       "      <td>2.81</td>\n",
       "    </tr>\n",
       "    <tr>\n",
       "      <th>32</th>\n",
       "      <td>month_jul</td>\n",
       "      <td>2.72</td>\n",
       "    </tr>\n",
       "    <tr>\n",
       "      <th>3</th>\n",
       "      <td>housing</td>\n",
       "      <td>2.68</td>\n",
       "    </tr>\n",
       "    <tr>\n",
       "      <th>10</th>\n",
       "      <td>job_blue-collar</td>\n",
       "      <td>2.57</td>\n",
       "    </tr>\n",
       "    <tr>\n",
       "      <th>27</th>\n",
       "      <td>contact_unknown</td>\n",
       "      <td>2.49</td>\n",
       "    </tr>\n",
       "    <tr>\n",
       "      <th>18</th>\n",
       "      <td>job_technician</td>\n",
       "      <td>2.37</td>\n",
       "    </tr>\n",
       "    <tr>\n",
       "      <th>14</th>\n",
       "      <td>job_retired</td>\n",
       "      <td>2.00</td>\n",
       "    </tr>\n",
       "    <tr>\n",
       "      <th>36</th>\n",
       "      <td>month_nov</td>\n",
       "      <td>1.96</td>\n",
       "    </tr>\n",
       "    <tr>\n",
       "      <th>40</th>\n",
       "      <td>poutcome_success</td>\n",
       "      <td>1.92</td>\n",
       "    </tr>\n",
       "    <tr>\n",
       "      <th>2</th>\n",
       "      <td>balance</td>\n",
       "      <td>1.91</td>\n",
       "    </tr>\n",
       "    <tr>\n",
       "      <th>30</th>\n",
       "      <td>month_feb</td>\n",
       "      <td>1.91</td>\n",
       "    </tr>\n",
       "    <tr>\n",
       "      <th>16</th>\n",
       "      <td>job_services</td>\n",
       "      <td>1.67</td>\n",
       "    </tr>\n",
       "    <tr>\n",
       "      <th>25</th>\n",
       "      <td>education_unknown</td>\n",
       "      <td>1.43</td>\n",
       "    </tr>\n",
       "    <tr>\n",
       "      <th>37</th>\n",
       "      <td>month_oct</td>\n",
       "      <td>1.43</td>\n",
       "    </tr>\n",
       "    <tr>\n",
       "      <th>39</th>\n",
       "      <td>poutcome_other</td>\n",
       "      <td>1.43</td>\n",
       "    </tr>\n",
       "    <tr>\n",
       "      <th>31</th>\n",
       "      <td>month_jan</td>\n",
       "      <td>1.40</td>\n",
       "    </tr>\n",
       "    <tr>\n",
       "      <th>38</th>\n",
       "      <td>month_sep</td>\n",
       "      <td>1.37</td>\n",
       "    </tr>\n",
       "    <tr>\n",
       "      <th>17</th>\n",
       "      <td>job_student</td>\n",
       "      <td>1.37</td>\n",
       "    </tr>\n",
       "    <tr>\n",
       "      <th>15</th>\n",
       "      <td>job_self-employed</td>\n",
       "      <td>1.36</td>\n",
       "    </tr>\n",
       "    <tr>\n",
       "      <th>34</th>\n",
       "      <td>month_mar</td>\n",
       "      <td>1.31</td>\n",
       "    </tr>\n",
       "    <tr>\n",
       "      <th>11</th>\n",
       "      <td>job_entrepreneur</td>\n",
       "      <td>1.28</td>\n",
       "    </tr>\n",
       "    <tr>\n",
       "      <th>12</th>\n",
       "      <td>job_housemaid</td>\n",
       "      <td>1.28</td>\n",
       "    </tr>\n",
       "    <tr>\n",
       "      <th>19</th>\n",
       "      <td>job_unemployed</td>\n",
       "      <td>1.28</td>\n",
       "    </tr>\n",
       "    <tr>\n",
       "      <th>4</th>\n",
       "      <td>loan</td>\n",
       "      <td>1.23</td>\n",
       "    </tr>\n",
       "    <tr>\n",
       "      <th>26</th>\n",
       "      <td>contact_telephone</td>\n",
       "      <td>1.18</td>\n",
       "    </tr>\n",
       "    <tr>\n",
       "      <th>29</th>\n",
       "      <td>month_dec</td>\n",
       "      <td>1.14</td>\n",
       "    </tr>\n",
       "    <tr>\n",
       "      <th>20</th>\n",
       "      <td>job_unknown</td>\n",
       "      <td>1.11</td>\n",
       "    </tr>\n",
       "    <tr>\n",
       "      <th>1</th>\n",
       "      <td>default</td>\n",
       "      <td>1.04</td>\n",
       "    </tr>\n",
       "  </tbody>\n",
       "</table>\n",
       "</div>"
      ],
      "text/plain": [
       "               Features    VIF\n",
       "41     poutcome_unknown  34.42\n",
       "0                   age  24.77\n",
       "8                 pdays   8.00\n",
       "9              previous   6.12\n",
       "21      marital_married   5.67\n",
       "5                   day   5.46\n",
       "23  education_secondary   5.13\n",
       "24   education_tertiary   5.11\n",
       "35            month_may   4.63\n",
       "7              campaign   4.07\n",
       "22       marital_single   3.95\n",
       "13       job_management   3.93\n",
       "6              duration   2.93\n",
       "33            month_jun   2.90\n",
       "28            month_aug   2.81\n",
       "32            month_jul   2.72\n",
       "3               housing   2.68\n",
       "10      job_blue-collar   2.57\n",
       "27      contact_unknown   2.49\n",
       "18       job_technician   2.37\n",
       "14          job_retired   2.00\n",
       "36            month_nov   1.96\n",
       "40     poutcome_success   1.92\n",
       "2               balance   1.91\n",
       "30            month_feb   1.91\n",
       "16         job_services   1.67\n",
       "25    education_unknown   1.43\n",
       "37            month_oct   1.43\n",
       "39       poutcome_other   1.43\n",
       "31            month_jan   1.40\n",
       "38            month_sep   1.37\n",
       "17          job_student   1.37\n",
       "15    job_self-employed   1.36\n",
       "34            month_mar   1.31\n",
       "11     job_entrepreneur   1.28\n",
       "12        job_housemaid   1.28\n",
       "19       job_unemployed   1.28\n",
       "4                  loan   1.23\n",
       "26    contact_telephone   1.18\n",
       "29            month_dec   1.14\n",
       "20          job_unknown   1.11\n",
       "1               default   1.04"
      ]
     },
     "execution_count": 48,
     "metadata": {},
     "output_type": "execute_result"
    }
   ],
   "source": [
    "# Create a dataframe that will contain the names of all the feature variables and their respective VIFs.\n",
    "vif = pd.DataFrame()\n",
    "vif['Features'] = X.columns   # storing all independent columns under \"Features\" column of \"vif\" dataframe.\n",
    "vif['VIF'] = [variance_inflation_factor(X.values, i) for i in range(X.shape[1])]  # storing \"VIF\" of each independent feature in \"VIF\" column of \"vif\" dataframe.\n",
    "vif['VIF'] = round(vif['VIF'], 2)     # rounding of VIFs with 2 decimal places\n",
    "vif = vif.sort_values(by = \"VIF\", ascending = False)      # sorting \"vif\" dataframe with the decreasing order of \"VIFs\"\n",
    "vif     "
   ]
  },
  {
   "cell_type": "markdown",
   "id": "a2591b0f",
   "metadata": {},
   "source": [
    "* <font size = \"3\">From the above result, it is visible that <span style = \"color : blue\">**\"poutcome_unknown\"**</span> feature is having **highest** <span style = \"color : green\">**VIF**</span> and it is much **greater** than **5**. That means, it is showing the **highest multicollinearity** in the dataset.</font>\n",
    "* <font size = \"3\">The <span style = \"color : blue\">**\"poutcome_unknown\"**</span> feature will be **dropped**. After **dropping** it, <span style = \"color : green\">**VIFs**</span> of other independent features will **decrease**.</font>"
   ]
  },
  {
   "cell_type": "code",
   "execution_count": 49,
   "id": "b28efec8",
   "metadata": {},
   "outputs": [],
   "source": [
    "# Dropping the feature \"poutcome_unknown\".\n",
    "X = X.drop('poutcome_unknown', axis=1)"
   ]
  },
  {
   "cell_type": "markdown",
   "id": "fae47c74",
   "metadata": {},
   "source": [
    "* <font size = \"3\">After dropping the above feature, <span style = \"color : green\">**VIF**</span> is **computed** again.</font>"
   ]
  },
  {
   "cell_type": "code",
   "execution_count": 50,
   "id": "4e2a88c2",
   "metadata": {},
   "outputs": [
    {
     "data": {
      "text/html": [
       "<div>\n",
       "<style scoped>\n",
       "    .dataframe tbody tr th:only-of-type {\n",
       "        vertical-align: middle;\n",
       "    }\n",
       "\n",
       "    .dataframe tbody tr th {\n",
       "        vertical-align: top;\n",
       "    }\n",
       "\n",
       "    .dataframe thead th {\n",
       "        text-align: right;\n",
       "    }\n",
       "</style>\n",
       "<table border=\"1\" class=\"dataframe\">\n",
       "  <thead>\n",
       "    <tr style=\"text-align: right;\">\n",
       "      <th></th>\n",
       "      <th>Features</th>\n",
       "      <th>VIF</th>\n",
       "    </tr>\n",
       "  </thead>\n",
       "  <tbody>\n",
       "    <tr>\n",
       "      <th>0</th>\n",
       "      <td>age</td>\n",
       "      <td>18.00</td>\n",
       "    </tr>\n",
       "    <tr>\n",
       "      <th>21</th>\n",
       "      <td>marital_married</td>\n",
       "      <td>5.39</td>\n",
       "    </tr>\n",
       "    <tr>\n",
       "      <th>5</th>\n",
       "      <td>day</td>\n",
       "      <td>5.28</td>\n",
       "    </tr>\n",
       "    <tr>\n",
       "      <th>9</th>\n",
       "      <td>previous</td>\n",
       "      <td>4.87</td>\n",
       "    </tr>\n",
       "    <tr>\n",
       "      <th>24</th>\n",
       "      <td>education_tertiary</td>\n",
       "      <td>4.84</td>\n",
       "    </tr>\n",
       "    <tr>\n",
       "      <th>23</th>\n",
       "      <td>education_secondary</td>\n",
       "      <td>4.71</td>\n",
       "    </tr>\n",
       "    <tr>\n",
       "      <th>8</th>\n",
       "      <td>pdays</td>\n",
       "      <td>4.60</td>\n",
       "    </tr>\n",
       "    <tr>\n",
       "      <th>35</th>\n",
       "      <td>month_may</td>\n",
       "      <td>4.43</td>\n",
       "    </tr>\n",
       "    <tr>\n",
       "      <th>7</th>\n",
       "      <td>campaign</td>\n",
       "      <td>4.00</td>\n",
       "    </tr>\n",
       "    <tr>\n",
       "      <th>13</th>\n",
       "      <td>job_management</td>\n",
       "      <td>3.85</td>\n",
       "    </tr>\n",
       "    <tr>\n",
       "      <th>22</th>\n",
       "      <td>marital_single</td>\n",
       "      <td>3.51</td>\n",
       "    </tr>\n",
       "    <tr>\n",
       "      <th>6</th>\n",
       "      <td>duration</td>\n",
       "      <td>2.88</td>\n",
       "    </tr>\n",
       "    <tr>\n",
       "      <th>33</th>\n",
       "      <td>month_jun</td>\n",
       "      <td>2.79</td>\n",
       "    </tr>\n",
       "    <tr>\n",
       "      <th>28</th>\n",
       "      <td>month_aug</td>\n",
       "      <td>2.69</td>\n",
       "    </tr>\n",
       "    <tr>\n",
       "      <th>3</th>\n",
       "      <td>housing</td>\n",
       "      <td>2.61</td>\n",
       "    </tr>\n",
       "    <tr>\n",
       "      <th>32</th>\n",
       "      <td>month_jul</td>\n",
       "      <td>2.58</td>\n",
       "    </tr>\n",
       "    <tr>\n",
       "      <th>27</th>\n",
       "      <td>contact_unknown</td>\n",
       "      <td>2.48</td>\n",
       "    </tr>\n",
       "    <tr>\n",
       "      <th>10</th>\n",
       "      <td>job_blue-collar</td>\n",
       "      <td>2.44</td>\n",
       "    </tr>\n",
       "    <tr>\n",
       "      <th>18</th>\n",
       "      <td>job_technician</td>\n",
       "      <td>2.32</td>\n",
       "    </tr>\n",
       "    <tr>\n",
       "      <th>14</th>\n",
       "      <td>job_retired</td>\n",
       "      <td>2.00</td>\n",
       "    </tr>\n",
       "    <tr>\n",
       "      <th>36</th>\n",
       "      <td>month_nov</td>\n",
       "      <td>1.92</td>\n",
       "    </tr>\n",
       "    <tr>\n",
       "      <th>2</th>\n",
       "      <td>balance</td>\n",
       "      <td>1.91</td>\n",
       "    </tr>\n",
       "    <tr>\n",
       "      <th>30</th>\n",
       "      <td>month_feb</td>\n",
       "      <td>1.83</td>\n",
       "    </tr>\n",
       "    <tr>\n",
       "      <th>40</th>\n",
       "      <td>poutcome_success</td>\n",
       "      <td>1.79</td>\n",
       "    </tr>\n",
       "    <tr>\n",
       "      <th>16</th>\n",
       "      <td>job_services</td>\n",
       "      <td>1.62</td>\n",
       "    </tr>\n",
       "    <tr>\n",
       "      <th>25</th>\n",
       "      <td>education_unknown</td>\n",
       "      <td>1.42</td>\n",
       "    </tr>\n",
       "    <tr>\n",
       "      <th>37</th>\n",
       "      <td>month_oct</td>\n",
       "      <td>1.41</td>\n",
       "    </tr>\n",
       "    <tr>\n",
       "      <th>39</th>\n",
       "      <td>poutcome_other</td>\n",
       "      <td>1.40</td>\n",
       "    </tr>\n",
       "    <tr>\n",
       "      <th>31</th>\n",
       "      <td>month_jan</td>\n",
       "      <td>1.38</td>\n",
       "    </tr>\n",
       "    <tr>\n",
       "      <th>15</th>\n",
       "      <td>job_self-employed</td>\n",
       "      <td>1.35</td>\n",
       "    </tr>\n",
       "    <tr>\n",
       "      <th>38</th>\n",
       "      <td>month_sep</td>\n",
       "      <td>1.35</td>\n",
       "    </tr>\n",
       "    <tr>\n",
       "      <th>17</th>\n",
       "      <td>job_student</td>\n",
       "      <td>1.33</td>\n",
       "    </tr>\n",
       "    <tr>\n",
       "      <th>34</th>\n",
       "      <td>month_mar</td>\n",
       "      <td>1.28</td>\n",
       "    </tr>\n",
       "    <tr>\n",
       "      <th>19</th>\n",
       "      <td>job_unemployed</td>\n",
       "      <td>1.27</td>\n",
       "    </tr>\n",
       "    <tr>\n",
       "      <th>11</th>\n",
       "      <td>job_entrepreneur</td>\n",
       "      <td>1.27</td>\n",
       "    </tr>\n",
       "    <tr>\n",
       "      <th>12</th>\n",
       "      <td>job_housemaid</td>\n",
       "      <td>1.26</td>\n",
       "    </tr>\n",
       "    <tr>\n",
       "      <th>4</th>\n",
       "      <td>loan</td>\n",
       "      <td>1.23</td>\n",
       "    </tr>\n",
       "    <tr>\n",
       "      <th>26</th>\n",
       "      <td>contact_telephone</td>\n",
       "      <td>1.18</td>\n",
       "    </tr>\n",
       "    <tr>\n",
       "      <th>29</th>\n",
       "      <td>month_dec</td>\n",
       "      <td>1.12</td>\n",
       "    </tr>\n",
       "    <tr>\n",
       "      <th>20</th>\n",
       "      <td>job_unknown</td>\n",
       "      <td>1.10</td>\n",
       "    </tr>\n",
       "    <tr>\n",
       "      <th>1</th>\n",
       "      <td>default</td>\n",
       "      <td>1.04</td>\n",
       "    </tr>\n",
       "  </tbody>\n",
       "</table>\n",
       "</div>"
      ],
      "text/plain": [
       "               Features    VIF\n",
       "0                   age  18.00\n",
       "21      marital_married   5.39\n",
       "5                   day   5.28\n",
       "9              previous   4.87\n",
       "24   education_tertiary   4.84\n",
       "23  education_secondary   4.71\n",
       "8                 pdays   4.60\n",
       "35            month_may   4.43\n",
       "7              campaign   4.00\n",
       "13       job_management   3.85\n",
       "22       marital_single   3.51\n",
       "6              duration   2.88\n",
       "33            month_jun   2.79\n",
       "28            month_aug   2.69\n",
       "3               housing   2.61\n",
       "32            month_jul   2.58\n",
       "27      contact_unknown   2.48\n",
       "10      job_blue-collar   2.44\n",
       "18       job_technician   2.32\n",
       "14          job_retired   2.00\n",
       "36            month_nov   1.92\n",
       "2               balance   1.91\n",
       "30            month_feb   1.83\n",
       "40     poutcome_success   1.79\n",
       "16         job_services   1.62\n",
       "25    education_unknown   1.42\n",
       "37            month_oct   1.41\n",
       "39       poutcome_other   1.40\n",
       "31            month_jan   1.38\n",
       "15    job_self-employed   1.35\n",
       "38            month_sep   1.35\n",
       "17          job_student   1.33\n",
       "34            month_mar   1.28\n",
       "19       job_unemployed   1.27\n",
       "11     job_entrepreneur   1.27\n",
       "12        job_housemaid   1.26\n",
       "4                  loan   1.23\n",
       "26    contact_telephone   1.18\n",
       "29            month_dec   1.12\n",
       "20          job_unknown   1.10\n",
       "1               default   1.04"
      ]
     },
     "execution_count": 50,
     "metadata": {},
     "output_type": "execute_result"
    }
   ],
   "source": [
    "# Calculating \"VIF\" after dropping \"poutcome_unknown\" feature.\n",
    "vif = pd.DataFrame()           # Dataframe is to be created again after dropping \"poutcome_unknown\" feature.\n",
    "vif['Features'] = X.columns   # storing all independent columns under \"Features\" column of \"vif\" dataframe.\n",
    "vif['VIF'] = [variance_inflation_factor(X.values, i) for i in range(X.shape[1])]  # storing \"VIF\" of each independent feature in \"VIF\" column of \"vif\" dataframe.\n",
    "vif['VIF'] = round(vif['VIF'], 2)     # rounding of VIFs with 2 decimal places\n",
    "vif = vif.sort_values(by = \"VIF\", ascending = False)      # sorting \"vif\" dataframe with the decreasing order of \"VIFs\"\n",
    "vif     "
   ]
  },
  {
   "cell_type": "markdown",
   "id": "bafaa8b9",
   "metadata": {},
   "source": [
    "* <font size = \"3\">From above result, <span style = \"color : green\">**VIF**</span> of <span style = \"color : blue\">**\"age\"**</span> feature is **highest** and it is **greater** than **5**, so now <span style = \"color : blue\">**\"age\"**</span> feature will be **dropped**.</font>"
   ]
  },
  {
   "cell_type": "code",
   "execution_count": 51,
   "id": "95eac0c9",
   "metadata": {},
   "outputs": [],
   "source": [
    "# Dropping the feature \"age\".\n",
    "X = X.drop(['age'], axis=1)"
   ]
  },
  {
   "cell_type": "markdown",
   "id": "2a8ad11b",
   "metadata": {},
   "source": [
    "* <font size = \"3\">After dropping the above feature, <span style = \"color : green\">**VIF**</span> is **computed** again.</font>"
   ]
  },
  {
   "cell_type": "code",
   "execution_count": 52,
   "id": "142ee037",
   "metadata": {},
   "outputs": [
    {
     "data": {
      "text/html": [
       "<div>\n",
       "<style scoped>\n",
       "    .dataframe tbody tr th:only-of-type {\n",
       "        vertical-align: middle;\n",
       "    }\n",
       "\n",
       "    .dataframe tbody tr th {\n",
       "        vertical-align: top;\n",
       "    }\n",
       "\n",
       "    .dataframe thead th {\n",
       "        text-align: right;\n",
       "    }\n",
       "</style>\n",
       "<table border=\"1\" class=\"dataframe\">\n",
       "  <thead>\n",
       "    <tr style=\"text-align: right;\">\n",
       "      <th></th>\n",
       "      <th>Features</th>\n",
       "      <th>VIF</th>\n",
       "    </tr>\n",
       "  </thead>\n",
       "  <tbody>\n",
       "    <tr>\n",
       "      <th>20</th>\n",
       "      <td>marital_married</td>\n",
       "      <td>5.19</td>\n",
       "    </tr>\n",
       "    <tr>\n",
       "      <th>4</th>\n",
       "      <td>day</td>\n",
       "      <td>5.02</td>\n",
       "    </tr>\n",
       "    <tr>\n",
       "      <th>8</th>\n",
       "      <td>previous</td>\n",
       "      <td>4.87</td>\n",
       "    </tr>\n",
       "    <tr>\n",
       "      <th>23</th>\n",
       "      <td>education_tertiary</td>\n",
       "      <td>4.76</td>\n",
       "    </tr>\n",
       "    <tr>\n",
       "      <th>7</th>\n",
       "      <td>pdays</td>\n",
       "      <td>4.59</td>\n",
       "    </tr>\n",
       "    <tr>\n",
       "      <th>22</th>\n",
       "      <td>education_secondary</td>\n",
       "      <td>4.47</td>\n",
       "    </tr>\n",
       "    <tr>\n",
       "      <th>34</th>\n",
       "      <td>month_may</td>\n",
       "      <td>4.07</td>\n",
       "    </tr>\n",
       "    <tr>\n",
       "      <th>6</th>\n",
       "      <td>campaign</td>\n",
       "      <td>3.96</td>\n",
       "    </tr>\n",
       "    <tr>\n",
       "      <th>12</th>\n",
       "      <td>job_management</td>\n",
       "      <td>3.67</td>\n",
       "    </tr>\n",
       "    <tr>\n",
       "      <th>21</th>\n",
       "      <td>marital_single</td>\n",
       "      <td>3.50</td>\n",
       "    </tr>\n",
       "    <tr>\n",
       "      <th>5</th>\n",
       "      <td>duration</td>\n",
       "      <td>2.82</td>\n",
       "    </tr>\n",
       "    <tr>\n",
       "      <th>2</th>\n",
       "      <td>housing</td>\n",
       "      <td>2.60</td>\n",
       "    </tr>\n",
       "    <tr>\n",
       "      <th>32</th>\n",
       "      <td>month_jun</td>\n",
       "      <td>2.53</td>\n",
       "    </tr>\n",
       "    <tr>\n",
       "      <th>26</th>\n",
       "      <td>contact_unknown</td>\n",
       "      <td>2.48</td>\n",
       "    </tr>\n",
       "    <tr>\n",
       "      <th>27</th>\n",
       "      <td>month_aug</td>\n",
       "      <td>2.40</td>\n",
       "    </tr>\n",
       "    <tr>\n",
       "      <th>31</th>\n",
       "      <td>month_jul</td>\n",
       "      <td>2.36</td>\n",
       "    </tr>\n",
       "    <tr>\n",
       "      <th>9</th>\n",
       "      <td>job_blue-collar</td>\n",
       "      <td>2.31</td>\n",
       "    </tr>\n",
       "    <tr>\n",
       "      <th>17</th>\n",
       "      <td>job_technician</td>\n",
       "      <td>2.24</td>\n",
       "    </tr>\n",
       "    <tr>\n",
       "      <th>1</th>\n",
       "      <td>balance</td>\n",
       "      <td>1.87</td>\n",
       "    </tr>\n",
       "    <tr>\n",
       "      <th>39</th>\n",
       "      <td>poutcome_success</td>\n",
       "      <td>1.79</td>\n",
       "    </tr>\n",
       "    <tr>\n",
       "      <th>35</th>\n",
       "      <td>month_nov</td>\n",
       "      <td>1.78</td>\n",
       "    </tr>\n",
       "    <tr>\n",
       "      <th>29</th>\n",
       "      <td>month_feb</td>\n",
       "      <td>1.66</td>\n",
       "    </tr>\n",
       "    <tr>\n",
       "      <th>15</th>\n",
       "      <td>job_services</td>\n",
       "      <td>1.59</td>\n",
       "    </tr>\n",
       "    <tr>\n",
       "      <th>13</th>\n",
       "      <td>job_retired</td>\n",
       "      <td>1.57</td>\n",
       "    </tr>\n",
       "    <tr>\n",
       "      <th>38</th>\n",
       "      <td>poutcome_other</td>\n",
       "      <td>1.40</td>\n",
       "    </tr>\n",
       "    <tr>\n",
       "      <th>24</th>\n",
       "      <td>education_unknown</td>\n",
       "      <td>1.38</td>\n",
       "    </tr>\n",
       "    <tr>\n",
       "      <th>36</th>\n",
       "      <td>month_oct</td>\n",
       "      <td>1.35</td>\n",
       "    </tr>\n",
       "    <tr>\n",
       "      <th>30</th>\n",
       "      <td>month_jan</td>\n",
       "      <td>1.34</td>\n",
       "    </tr>\n",
       "    <tr>\n",
       "      <th>16</th>\n",
       "      <td>job_student</td>\n",
       "      <td>1.33</td>\n",
       "    </tr>\n",
       "    <tr>\n",
       "      <th>14</th>\n",
       "      <td>job_self-employed</td>\n",
       "      <td>1.32</td>\n",
       "    </tr>\n",
       "    <tr>\n",
       "      <th>37</th>\n",
       "      <td>month_sep</td>\n",
       "      <td>1.29</td>\n",
       "    </tr>\n",
       "    <tr>\n",
       "      <th>18</th>\n",
       "      <td>job_unemployed</td>\n",
       "      <td>1.24</td>\n",
       "    </tr>\n",
       "    <tr>\n",
       "      <th>10</th>\n",
       "      <td>job_entrepreneur</td>\n",
       "      <td>1.24</td>\n",
       "    </tr>\n",
       "    <tr>\n",
       "      <th>33</th>\n",
       "      <td>month_mar</td>\n",
       "      <td>1.23</td>\n",
       "    </tr>\n",
       "    <tr>\n",
       "      <th>3</th>\n",
       "      <td>loan</td>\n",
       "      <td>1.23</td>\n",
       "    </tr>\n",
       "    <tr>\n",
       "      <th>11</th>\n",
       "      <td>job_housemaid</td>\n",
       "      <td>1.20</td>\n",
       "    </tr>\n",
       "    <tr>\n",
       "      <th>25</th>\n",
       "      <td>contact_telephone</td>\n",
       "      <td>1.17</td>\n",
       "    </tr>\n",
       "    <tr>\n",
       "      <th>28</th>\n",
       "      <td>month_dec</td>\n",
       "      <td>1.11</td>\n",
       "    </tr>\n",
       "    <tr>\n",
       "      <th>19</th>\n",
       "      <td>job_unknown</td>\n",
       "      <td>1.10</td>\n",
       "    </tr>\n",
       "    <tr>\n",
       "      <th>0</th>\n",
       "      <td>default</td>\n",
       "      <td>1.04</td>\n",
       "    </tr>\n",
       "  </tbody>\n",
       "</table>\n",
       "</div>"
      ],
      "text/plain": [
       "               Features   VIF\n",
       "20      marital_married  5.19\n",
       "4                   day  5.02\n",
       "8              previous  4.87\n",
       "23   education_tertiary  4.76\n",
       "7                 pdays  4.59\n",
       "22  education_secondary  4.47\n",
       "34            month_may  4.07\n",
       "6              campaign  3.96\n",
       "12       job_management  3.67\n",
       "21       marital_single  3.50\n",
       "5              duration  2.82\n",
       "2               housing  2.60\n",
       "32            month_jun  2.53\n",
       "26      contact_unknown  2.48\n",
       "27            month_aug  2.40\n",
       "31            month_jul  2.36\n",
       "9       job_blue-collar  2.31\n",
       "17       job_technician  2.24\n",
       "1               balance  1.87\n",
       "39     poutcome_success  1.79\n",
       "35            month_nov  1.78\n",
       "29            month_feb  1.66\n",
       "15         job_services  1.59\n",
       "13          job_retired  1.57\n",
       "38       poutcome_other  1.40\n",
       "24    education_unknown  1.38\n",
       "36            month_oct  1.35\n",
       "30            month_jan  1.34\n",
       "16          job_student  1.33\n",
       "14    job_self-employed  1.32\n",
       "37            month_sep  1.29\n",
       "18       job_unemployed  1.24\n",
       "10     job_entrepreneur  1.24\n",
       "33            month_mar  1.23\n",
       "3                  loan  1.23\n",
       "11        job_housemaid  1.20\n",
       "25    contact_telephone  1.17\n",
       "28            month_dec  1.11\n",
       "19          job_unknown  1.10\n",
       "0               default  1.04"
      ]
     },
     "execution_count": 52,
     "metadata": {},
     "output_type": "execute_result"
    }
   ],
   "source": [
    "# Calculating \"VIF\" after dropping \"age\" feature.\n",
    "vif = pd.DataFrame()           # Dataframe is to be created again after dropping \"age\" feature.\n",
    "vif['Features'] = X.columns   # storing all independent columns under \"Features\" column of \"vif\" dataframe.\n",
    "vif['VIF'] = [variance_inflation_factor(X.values, i) for i in range(X.shape[1])]  # storing \"VIF\" of each independent feature in \"VIF\" column of \"vif\" dataframe.\n",
    "vif['VIF'] = round(vif['VIF'], 2)     # rounding of VIFs with 2 decimal places\n",
    "vif = vif.sort_values(by = \"VIF\", ascending = False)      # sorting \"vif\" dataframe with the decreasing order of \"VIFs\"\n",
    "vif     "
   ]
  },
  {
   "cell_type": "markdown",
   "id": "0251aa62",
   "metadata": {},
   "source": [
    "* <font size = \"3\">From above result, <span style = \"color : green\">**VIF**</span> of <span style = \"color : blue\">**\"marital_married\"**</span> feature is **highest** and it is **greater** than **5**, so now <span style = \"color : blue\">**\"marital_married\"**</span> feature will be **dropped**.</font>"
   ]
  },
  {
   "cell_type": "code",
   "execution_count": 53,
   "id": "9b11ebe8",
   "metadata": {},
   "outputs": [],
   "source": [
    "# Dropping the feature \"marital_married\".\n",
    "X = X.drop(['marital_married'], axis=1)"
   ]
  },
  {
   "cell_type": "markdown",
   "id": "18a79e62",
   "metadata": {},
   "source": [
    "* <font size = \"3\">After dropping the above feature, <span style = \"color : green\">**VIF**</span> is **computed** again.</font>"
   ]
  },
  {
   "cell_type": "code",
   "execution_count": 54,
   "id": "1c30c959",
   "metadata": {},
   "outputs": [
    {
     "data": {
      "text/html": [
       "<div>\n",
       "<style scoped>\n",
       "    .dataframe tbody tr th:only-of-type {\n",
       "        vertical-align: middle;\n",
       "    }\n",
       "\n",
       "    .dataframe tbody tr th {\n",
       "        vertical-align: top;\n",
       "    }\n",
       "\n",
       "    .dataframe thead th {\n",
       "        text-align: right;\n",
       "    }\n",
       "</style>\n",
       "<table border=\"1\" class=\"dataframe\">\n",
       "  <thead>\n",
       "    <tr style=\"text-align: right;\">\n",
       "      <th></th>\n",
       "      <th>Features</th>\n",
       "      <th>VIF</th>\n",
       "    </tr>\n",
       "  </thead>\n",
       "  <tbody>\n",
       "    <tr>\n",
       "      <th>4</th>\n",
       "      <td>day</td>\n",
       "      <td>4.93</td>\n",
       "    </tr>\n",
       "    <tr>\n",
       "      <th>8</th>\n",
       "      <td>previous</td>\n",
       "      <td>4.86</td>\n",
       "    </tr>\n",
       "    <tr>\n",
       "      <th>22</th>\n",
       "      <td>education_tertiary</td>\n",
       "      <td>4.66</td>\n",
       "    </tr>\n",
       "    <tr>\n",
       "      <th>7</th>\n",
       "      <td>pdays</td>\n",
       "      <td>4.58</td>\n",
       "    </tr>\n",
       "    <tr>\n",
       "      <th>21</th>\n",
       "      <td>education_secondary</td>\n",
       "      <td>4.30</td>\n",
       "    </tr>\n",
       "    <tr>\n",
       "      <th>33</th>\n",
       "      <td>month_may</td>\n",
       "      <td>3.97</td>\n",
       "    </tr>\n",
       "    <tr>\n",
       "      <th>6</th>\n",
       "      <td>campaign</td>\n",
       "      <td>3.94</td>\n",
       "    </tr>\n",
       "    <tr>\n",
       "      <th>12</th>\n",
       "      <td>job_management</td>\n",
       "      <td>3.60</td>\n",
       "    </tr>\n",
       "    <tr>\n",
       "      <th>5</th>\n",
       "      <td>duration</td>\n",
       "      <td>2.81</td>\n",
       "    </tr>\n",
       "    <tr>\n",
       "      <th>2</th>\n",
       "      <td>housing</td>\n",
       "      <td>2.58</td>\n",
       "    </tr>\n",
       "    <tr>\n",
       "      <th>25</th>\n",
       "      <td>contact_unknown</td>\n",
       "      <td>2.48</td>\n",
       "    </tr>\n",
       "    <tr>\n",
       "      <th>31</th>\n",
       "      <td>month_jun</td>\n",
       "      <td>2.46</td>\n",
       "    </tr>\n",
       "    <tr>\n",
       "      <th>26</th>\n",
       "      <td>month_aug</td>\n",
       "      <td>2.31</td>\n",
       "    </tr>\n",
       "    <tr>\n",
       "      <th>30</th>\n",
       "      <td>month_jul</td>\n",
       "      <td>2.30</td>\n",
       "    </tr>\n",
       "    <tr>\n",
       "      <th>17</th>\n",
       "      <td>job_technician</td>\n",
       "      <td>2.20</td>\n",
       "    </tr>\n",
       "    <tr>\n",
       "      <th>9</th>\n",
       "      <td>job_blue-collar</td>\n",
       "      <td>2.16</td>\n",
       "    </tr>\n",
       "    <tr>\n",
       "      <th>1</th>\n",
       "      <td>balance</td>\n",
       "      <td>1.86</td>\n",
       "    </tr>\n",
       "    <tr>\n",
       "      <th>38</th>\n",
       "      <td>poutcome_success</td>\n",
       "      <td>1.79</td>\n",
       "    </tr>\n",
       "    <tr>\n",
       "      <th>34</th>\n",
       "      <td>month_nov</td>\n",
       "      <td>1.75</td>\n",
       "    </tr>\n",
       "    <tr>\n",
       "      <th>20</th>\n",
       "      <td>marital_single</td>\n",
       "      <td>1.68</td>\n",
       "    </tr>\n",
       "    <tr>\n",
       "      <th>28</th>\n",
       "      <td>month_feb</td>\n",
       "      <td>1.61</td>\n",
       "    </tr>\n",
       "    <tr>\n",
       "      <th>15</th>\n",
       "      <td>job_services</td>\n",
       "      <td>1.57</td>\n",
       "    </tr>\n",
       "    <tr>\n",
       "      <th>13</th>\n",
       "      <td>job_retired</td>\n",
       "      <td>1.55</td>\n",
       "    </tr>\n",
       "    <tr>\n",
       "      <th>37</th>\n",
       "      <td>poutcome_other</td>\n",
       "      <td>1.40</td>\n",
       "    </tr>\n",
       "    <tr>\n",
       "      <th>23</th>\n",
       "      <td>education_unknown</td>\n",
       "      <td>1.36</td>\n",
       "    </tr>\n",
       "    <tr>\n",
       "      <th>35</th>\n",
       "      <td>month_oct</td>\n",
       "      <td>1.34</td>\n",
       "    </tr>\n",
       "    <tr>\n",
       "      <th>29</th>\n",
       "      <td>month_jan</td>\n",
       "      <td>1.33</td>\n",
       "    </tr>\n",
       "    <tr>\n",
       "      <th>16</th>\n",
       "      <td>job_student</td>\n",
       "      <td>1.32</td>\n",
       "    </tr>\n",
       "    <tr>\n",
       "      <th>14</th>\n",
       "      <td>job_self-employed</td>\n",
       "      <td>1.31</td>\n",
       "    </tr>\n",
       "    <tr>\n",
       "      <th>36</th>\n",
       "      <td>month_sep</td>\n",
       "      <td>1.27</td>\n",
       "    </tr>\n",
       "    <tr>\n",
       "      <th>10</th>\n",
       "      <td>job_entrepreneur</td>\n",
       "      <td>1.23</td>\n",
       "    </tr>\n",
       "    <tr>\n",
       "      <th>3</th>\n",
       "      <td>loan</td>\n",
       "      <td>1.23</td>\n",
       "    </tr>\n",
       "    <tr>\n",
       "      <th>18</th>\n",
       "      <td>job_unemployed</td>\n",
       "      <td>1.23</td>\n",
       "    </tr>\n",
       "    <tr>\n",
       "      <th>32</th>\n",
       "      <td>month_mar</td>\n",
       "      <td>1.21</td>\n",
       "    </tr>\n",
       "    <tr>\n",
       "      <th>11</th>\n",
       "      <td>job_housemaid</td>\n",
       "      <td>1.18</td>\n",
       "    </tr>\n",
       "    <tr>\n",
       "      <th>24</th>\n",
       "      <td>contact_telephone</td>\n",
       "      <td>1.16</td>\n",
       "    </tr>\n",
       "    <tr>\n",
       "      <th>27</th>\n",
       "      <td>month_dec</td>\n",
       "      <td>1.10</td>\n",
       "    </tr>\n",
       "    <tr>\n",
       "      <th>19</th>\n",
       "      <td>job_unknown</td>\n",
       "      <td>1.09</td>\n",
       "    </tr>\n",
       "    <tr>\n",
       "      <th>0</th>\n",
       "      <td>default</td>\n",
       "      <td>1.04</td>\n",
       "    </tr>\n",
       "  </tbody>\n",
       "</table>\n",
       "</div>"
      ],
      "text/plain": [
       "               Features   VIF\n",
       "4                   day  4.93\n",
       "8              previous  4.86\n",
       "22   education_tertiary  4.66\n",
       "7                 pdays  4.58\n",
       "21  education_secondary  4.30\n",
       "33            month_may  3.97\n",
       "6              campaign  3.94\n",
       "12       job_management  3.60\n",
       "5              duration  2.81\n",
       "2               housing  2.58\n",
       "25      contact_unknown  2.48\n",
       "31            month_jun  2.46\n",
       "26            month_aug  2.31\n",
       "30            month_jul  2.30\n",
       "17       job_technician  2.20\n",
       "9       job_blue-collar  2.16\n",
       "1               balance  1.86\n",
       "38     poutcome_success  1.79\n",
       "34            month_nov  1.75\n",
       "20       marital_single  1.68\n",
       "28            month_feb  1.61\n",
       "15         job_services  1.57\n",
       "13          job_retired  1.55\n",
       "37       poutcome_other  1.40\n",
       "23    education_unknown  1.36\n",
       "35            month_oct  1.34\n",
       "29            month_jan  1.33\n",
       "16          job_student  1.32\n",
       "14    job_self-employed  1.31\n",
       "36            month_sep  1.27\n",
       "10     job_entrepreneur  1.23\n",
       "3                  loan  1.23\n",
       "18       job_unemployed  1.23\n",
       "32            month_mar  1.21\n",
       "11        job_housemaid  1.18\n",
       "24    contact_telephone  1.16\n",
       "27            month_dec  1.10\n",
       "19          job_unknown  1.09\n",
       "0               default  1.04"
      ]
     },
     "execution_count": 54,
     "metadata": {},
     "output_type": "execute_result"
    }
   ],
   "source": [
    "# Calculating \"VIF\" after dropping \"marital_married\" feature.\n",
    "vif = pd.DataFrame()           # Dataframe is to be created again after dropping \"marital_married\" feature.\n",
    "vif['Features'] = X.columns   # storing all independent columns under \"Features\" column of \"vif\" dataframe.\n",
    "vif['VIF'] = [variance_inflation_factor(X.values, i) for i in range(X.shape[1])]  # storing \"VIF\" of each independent feature in \"VIF\" column of \"vif\" dataframe.\n",
    "vif['VIF'] = round(vif['VIF'], 2)     # rounding of VIFs with 2 decimal places\n",
    "vif = vif.sort_values(by = \"VIF\", ascending = False)      # sorting \"vif\" dataframe with the decreasing order of \"VIFs\"\n",
    "vif     "
   ]
  },
  {
   "cell_type": "markdown",
   "id": "26ba5553",
   "metadata": {},
   "source": [
    "* <font size = \"3\">Now every features have <span style = \"color : green\">***VIF***</span> less than **5**.\n",
    "So the features which were showing **multicollinearity** are **dropped**.</font>"
   ]
  },
  {
   "cell_type": "markdown",
   "id": "51525274",
   "metadata": {},
   "source": [
    "## Analysis of Target Data"
   ]
  },
  {
   "cell_type": "code",
   "execution_count": 55,
   "id": "089a4d23",
   "metadata": {},
   "outputs": [
    {
     "data": {
      "text/plain": [
       "0    5873\n",
       "1    5289\n",
       "Name: deposit, dtype: int64"
      ]
     },
     "execution_count": 55,
     "metadata": {},
     "output_type": "execute_result"
    }
   ],
   "source": [
    "# Checking the total no. of values in \"target\" variable \n",
    "y.value_counts()"
   ]
  },
  {
   "cell_type": "markdown",
   "id": "dcdc58db",
   "metadata": {},
   "source": [
    "* <font size = \"3\">Since **\"target\"** variable has only **two** values, hence this is **classification** problem. </font>"
   ]
  },
  {
   "cell_type": "code",
   "execution_count": 56,
   "id": "b10952b3",
   "metadata": {},
   "outputs": [
    {
     "data": {
      "image/png": "[encoded data removed]",
      "text/plain": [
       "<Figure size 432x288 with 1 Axes>"
      ]
     },
     "metadata": {
      "needs_background": "light"
     },
     "output_type": "display_data"
    }
   ],
   "source": [
    "# Plotting the Count plot for checking the total number of each value of \"target\" variable\n",
    "sns.countplot(y)\n",
    "plt.show()"
   ]
  },
  {
   "cell_type": "markdown",
   "id": "2f9de376",
   "metadata": {},
   "source": [
    "* <font size =\"3\">From the <span style = \"color : green\">***Count plot***</span> above, it is clearly seen that there is **not much difference** between the number of both values, so it could be said that the **output** variable is well **stratified**.</font>"
   ]
  },
  {
   "cell_type": "markdown",
   "id": "887c6dfd",
   "metadata": {},
   "source": [
    "## Feature Selection"
   ]
  },
  {
   "cell_type": "markdown",
   "id": "dc37cb7d",
   "metadata": {},
   "source": [
    "* <font size = \"3\">The **features** which are **not well correlated** with **target** variable are considered **redundant** and **irrelevant**.</font> \n",
    "* <font size = \"3\">Using <span style = \"color : green\">**Feature Selection**</span>, those **irrelevant** columns will be **identified** and they will be **dropped**.</font>\n",
    "* <font size = \"3\"><span style = \"color : green\">**Feature Selection**</span> helps **training** the **machine learning algorithm faster**.</font>"
   ]
  },
  {
   "cell_type": "markdown",
   "id": "cdc9aa81",
   "metadata": {},
   "source": [
    "* <font size = \"3\">The method of <span style = \"color : green\">**Feature Selection**</span> going to be used is <span style = \"color : maroon\">**Wrapper Method**</span>.</font>\n",
    "* <font size = \"3\">The <span style = \"color : maroon\">**Wrapper Method**</span> will be <span style = \"color : purple\">**Extra Trees Classifier**</span>.</font>"
   ]
  },
  {
   "cell_type": "markdown",
   "id": "90636981",
   "metadata": {},
   "source": [
    "* <font size = \"3\">In <span style = \"color : maroon\">**Wrapper Method**</span>, the **model** is built and **score** of each **feature** is **calculated**.</font>"
   ]
  },
  {
   "cell_type": "code",
   "execution_count": 57,
   "id": "c686cb8b",
   "metadata": {},
   "outputs": [
    {
     "data": {
      "text/plain": [
       "ExtraTreesClassifier()"
      ]
     },
     "execution_count": 57,
     "metadata": {},
     "output_type": "execute_result"
    }
   ],
   "source": [
    "# Model Building Using \"ExtraTreesClassifier\".\n",
    "from sklearn.ensemble import ExtraTreesClassifier    # Importing \"ExtraTreesCLassifier\" method\n",
    "\n",
    "model = ExtraTreesClassifier()   # Building model using \"ExtraTreesClassifier\"\n",
    "model.fit(X,y)                   #  Fitting the \"input\" data and \"output\" data in the model."
   ]
  },
  {
   "cell_type": "markdown",
   "id": "5dfd20f5",
   "metadata": {},
   "source": [
    "* <font size = \"3\">The **model** is built and now the **score** of each **feature** will be **calculated**.</font>"
   ]
  },
  {
   "cell_type": "code",
   "execution_count": 58,
   "id": "8cbb91d5",
   "metadata": {},
   "outputs": [
    {
     "data": {
      "text/html": [
       "<div>\n",
       "<style scoped>\n",
       "    .dataframe tbody tr th:only-of-type {\n",
       "        vertical-align: middle;\n",
       "    }\n",
       "\n",
       "    .dataframe tbody tr th {\n",
       "        vertical-align: top;\n",
       "    }\n",
       "\n",
       "    .dataframe thead th {\n",
       "        text-align: right;\n",
       "    }\n",
       "</style>\n",
       "<table border=\"1\" class=\"dataframe\">\n",
       "  <thead>\n",
       "    <tr style=\"text-align: right;\">\n",
       "      <th></th>\n",
       "      <th>specs</th>\n",
       "      <th>score</th>\n",
       "    </tr>\n",
       "  </thead>\n",
       "  <tbody>\n",
       "    <tr>\n",
       "      <th>0</th>\n",
       "      <td>default</td>\n",
       "      <td>0.002919</td>\n",
       "    </tr>\n",
       "    <tr>\n",
       "      <th>1</th>\n",
       "      <td>balance</td>\n",
       "      <td>0.077189</td>\n",
       "    </tr>\n",
       "    <tr>\n",
       "      <th>2</th>\n",
       "      <td>housing</td>\n",
       "      <td>0.032314</td>\n",
       "    </tr>\n",
       "    <tr>\n",
       "      <th>3</th>\n",
       "      <td>loan</td>\n",
       "      <td>0.014988</td>\n",
       "    </tr>\n",
       "    <tr>\n",
       "      <th>4</th>\n",
       "      <td>day</td>\n",
       "      <td>0.079478</td>\n",
       "    </tr>\n",
       "    <tr>\n",
       "      <th>5</th>\n",
       "      <td>duration</td>\n",
       "      <td>0.313540</td>\n",
       "    </tr>\n",
       "    <tr>\n",
       "      <th>6</th>\n",
       "      <td>campaign</td>\n",
       "      <td>0.047911</td>\n",
       "    </tr>\n",
       "    <tr>\n",
       "      <th>7</th>\n",
       "      <td>pdays</td>\n",
       "      <td>0.027211</td>\n",
       "    </tr>\n",
       "    <tr>\n",
       "      <th>8</th>\n",
       "      <td>previous</td>\n",
       "      <td>0.027010</td>\n",
       "    </tr>\n",
       "    <tr>\n",
       "      <th>9</th>\n",
       "      <td>job_blue-collar</td>\n",
       "      <td>0.011263</td>\n",
       "    </tr>\n",
       "    <tr>\n",
       "      <th>10</th>\n",
       "      <td>job_entrepreneur</td>\n",
       "      <td>0.004998</td>\n",
       "    </tr>\n",
       "    <tr>\n",
       "      <th>11</th>\n",
       "      <td>job_housemaid</td>\n",
       "      <td>0.004170</td>\n",
       "    </tr>\n",
       "    <tr>\n",
       "      <th>12</th>\n",
       "      <td>job_management</td>\n",
       "      <td>0.012094</td>\n",
       "    </tr>\n",
       "    <tr>\n",
       "      <th>13</th>\n",
       "      <td>job_retired</td>\n",
       "      <td>0.008829</td>\n",
       "    </tr>\n",
       "    <tr>\n",
       "      <th>14</th>\n",
       "      <td>job_self-employed</td>\n",
       "      <td>0.006217</td>\n",
       "    </tr>\n",
       "    <tr>\n",
       "      <th>15</th>\n",
       "      <td>job_services</td>\n",
       "      <td>0.008162</td>\n",
       "    </tr>\n",
       "    <tr>\n",
       "      <th>16</th>\n",
       "      <td>job_student</td>\n",
       "      <td>0.007330</td>\n",
       "    </tr>\n",
       "    <tr>\n",
       "      <th>17</th>\n",
       "      <td>job_technician</td>\n",
       "      <td>0.012900</td>\n",
       "    </tr>\n",
       "    <tr>\n",
       "      <th>18</th>\n",
       "      <td>job_unemployed</td>\n",
       "      <td>0.005670</td>\n",
       "    </tr>\n",
       "    <tr>\n",
       "      <th>19</th>\n",
       "      <td>job_unknown</td>\n",
       "      <td>0.001482</td>\n",
       "    </tr>\n",
       "    <tr>\n",
       "      <th>20</th>\n",
       "      <td>marital_single</td>\n",
       "      <td>0.018823</td>\n",
       "    </tr>\n",
       "    <tr>\n",
       "      <th>21</th>\n",
       "      <td>education_secondary</td>\n",
       "      <td>0.016126</td>\n",
       "    </tr>\n",
       "    <tr>\n",
       "      <th>22</th>\n",
       "      <td>education_tertiary</td>\n",
       "      <td>0.013521</td>\n",
       "    </tr>\n",
       "    <tr>\n",
       "      <th>23</th>\n",
       "      <td>education_unknown</td>\n",
       "      <td>0.006572</td>\n",
       "    </tr>\n",
       "    <tr>\n",
       "      <th>24</th>\n",
       "      <td>contact_telephone</td>\n",
       "      <td>0.010626</td>\n",
       "    </tr>\n",
       "    <tr>\n",
       "      <th>25</th>\n",
       "      <td>contact_unknown</td>\n",
       "      <td>0.041422</td>\n",
       "    </tr>\n",
       "    <tr>\n",
       "      <th>26</th>\n",
       "      <td>month_aug</td>\n",
       "      <td>0.016580</td>\n",
       "    </tr>\n",
       "    <tr>\n",
       "      <th>27</th>\n",
       "      <td>month_dec</td>\n",
       "      <td>0.003183</td>\n",
       "    </tr>\n",
       "    <tr>\n",
       "      <th>28</th>\n",
       "      <td>month_feb</td>\n",
       "      <td>0.010840</td>\n",
       "    </tr>\n",
       "    <tr>\n",
       "      <th>29</th>\n",
       "      <td>month_jan</td>\n",
       "      <td>0.007809</td>\n",
       "    </tr>\n",
       "    <tr>\n",
       "      <th>30</th>\n",
       "      <td>month_jul</td>\n",
       "      <td>0.014125</td>\n",
       "    </tr>\n",
       "    <tr>\n",
       "      <th>31</th>\n",
       "      <td>month_jun</td>\n",
       "      <td>0.012887</td>\n",
       "    </tr>\n",
       "    <tr>\n",
       "      <th>32</th>\n",
       "      <td>month_mar</td>\n",
       "      <td>0.014808</td>\n",
       "    </tr>\n",
       "    <tr>\n",
       "      <th>33</th>\n",
       "      <td>month_may</td>\n",
       "      <td>0.016092</td>\n",
       "    </tr>\n",
       "    <tr>\n",
       "      <th>34</th>\n",
       "      <td>month_nov</td>\n",
       "      <td>0.012559</td>\n",
       "    </tr>\n",
       "    <tr>\n",
       "      <th>35</th>\n",
       "      <td>month_oct</td>\n",
       "      <td>0.013303</td>\n",
       "    </tr>\n",
       "    <tr>\n",
       "      <th>36</th>\n",
       "      <td>month_sep</td>\n",
       "      <td>0.008699</td>\n",
       "    </tr>\n",
       "    <tr>\n",
       "      <th>37</th>\n",
       "      <td>poutcome_other</td>\n",
       "      <td>0.006203</td>\n",
       "    </tr>\n",
       "    <tr>\n",
       "      <th>38</th>\n",
       "      <td>poutcome_success</td>\n",
       "      <td>0.050150</td>\n",
       "    </tr>\n",
       "  </tbody>\n",
       "</table>\n",
       "</div>"
      ],
      "text/plain": [
       "                  specs     score\n",
       "0               default  0.002919\n",
       "1               balance  0.077189\n",
       "2               housing  0.032314\n",
       "3                  loan  0.014988\n",
       "4                   day  0.079478\n",
       "5              duration  0.313540\n",
       "6              campaign  0.047911\n",
       "7                 pdays  0.027211\n",
       "8              previous  0.027010\n",
       "9       job_blue-collar  0.011263\n",
       "10     job_entrepreneur  0.004998\n",
       "11        job_housemaid  0.004170\n",
       "12       job_management  0.012094\n",
       "13          job_retired  0.008829\n",
       "14    job_self-employed  0.006217\n",
       "15         job_services  0.008162\n",
       "16          job_student  0.007330\n",
       "17       job_technician  0.012900\n",
       "18       job_unemployed  0.005670\n",
       "19          job_unknown  0.001482\n",
       "20       marital_single  0.018823\n",
       "21  education_secondary  0.016126\n",
       "22   education_tertiary  0.013521\n",
       "23    education_unknown  0.006572\n",
       "24    contact_telephone  0.010626\n",
       "25      contact_unknown  0.041422\n",
       "26            month_aug  0.016580\n",
       "27            month_dec  0.003183\n",
       "28            month_feb  0.010840\n",
       "29            month_jan  0.007809\n",
       "30            month_jul  0.014125\n",
       "31            month_jun  0.012887\n",
       "32            month_mar  0.014808\n",
       "33            month_may  0.016092\n",
       "34            month_nov  0.012559\n",
       "35            month_oct  0.013303\n",
       "36            month_sep  0.008699\n",
       "37       poutcome_other  0.006203\n",
       "38     poutcome_success  0.050150"
      ]
     },
     "execution_count": 58,
     "metadata": {},
     "output_type": "execute_result"
    }
   ],
   "source": [
    "dfsco = pd.DataFrame(model.feature_importances_)  # a dataframe having scores of each feature\n",
    "dfcols = pd.DataFrame(X.columns)  # a dataframe having column names \n",
    "\n",
    "feat_importances = pd.concat([dfcols, dfsco], axis = 1)   # a new dataframe created by concatenating column names and respective scores\n",
    "feat_importances.columns = ['specs', 'score']    # naming columns of the new dataframe\n",
    "\n",
    "feat_importances    "
   ]
  },
  {
   "cell_type": "markdown",
   "id": "e19cd906",
   "metadata": {},
   "source": [
    "* <font size = \"3\">The **score** of the **feature** depicts its **importance** in the **model building**.</font> \n",
    "* <font size = \"3\">**Higher** the **score**, **higher** is its **importance** and **vice-versa**.</font>  "
   ]
  },
  {
   "cell_type": "code",
   "execution_count": 59,
   "id": "c0e48f87",
   "metadata": {},
   "outputs": [
    {
     "data": {
      "text/html": [
       "<div>\n",
       "<style scoped>\n",
       "    .dataframe tbody tr th:only-of-type {\n",
       "        vertical-align: middle;\n",
       "    }\n",
       "\n",
       "    .dataframe tbody tr th {\n",
       "        vertical-align: top;\n",
       "    }\n",
       "\n",
       "    .dataframe thead th {\n",
       "        text-align: right;\n",
       "    }\n",
       "</style>\n",
       "<table border=\"1\" class=\"dataframe\">\n",
       "  <thead>\n",
       "    <tr style=\"text-align: right;\">\n",
       "      <th></th>\n",
       "      <th>specs</th>\n",
       "      <th>score</th>\n",
       "    </tr>\n",
       "  </thead>\n",
       "  <tbody>\n",
       "    <tr>\n",
       "      <th>5</th>\n",
       "      <td>duration</td>\n",
       "      <td>0.313540</td>\n",
       "    </tr>\n",
       "    <tr>\n",
       "      <th>4</th>\n",
       "      <td>day</td>\n",
       "      <td>0.079478</td>\n",
       "    </tr>\n",
       "    <tr>\n",
       "      <th>1</th>\n",
       "      <td>balance</td>\n",
       "      <td>0.077189</td>\n",
       "    </tr>\n",
       "    <tr>\n",
       "      <th>38</th>\n",
       "      <td>poutcome_success</td>\n",
       "      <td>0.050150</td>\n",
       "    </tr>\n",
       "    <tr>\n",
       "      <th>6</th>\n",
       "      <td>campaign</td>\n",
       "      <td>0.047911</td>\n",
       "    </tr>\n",
       "    <tr>\n",
       "      <th>25</th>\n",
       "      <td>contact_unknown</td>\n",
       "      <td>0.041422</td>\n",
       "    </tr>\n",
       "    <tr>\n",
       "      <th>2</th>\n",
       "      <td>housing</td>\n",
       "      <td>0.032314</td>\n",
       "    </tr>\n",
       "    <tr>\n",
       "      <th>7</th>\n",
       "      <td>pdays</td>\n",
       "      <td>0.027211</td>\n",
       "    </tr>\n",
       "    <tr>\n",
       "      <th>8</th>\n",
       "      <td>previous</td>\n",
       "      <td>0.027010</td>\n",
       "    </tr>\n",
       "    <tr>\n",
       "      <th>20</th>\n",
       "      <td>marital_single</td>\n",
       "      <td>0.018823</td>\n",
       "    </tr>\n",
       "    <tr>\n",
       "      <th>26</th>\n",
       "      <td>month_aug</td>\n",
       "      <td>0.016580</td>\n",
       "    </tr>\n",
       "    <tr>\n",
       "      <th>21</th>\n",
       "      <td>education_secondary</td>\n",
       "      <td>0.016126</td>\n",
       "    </tr>\n",
       "    <tr>\n",
       "      <th>33</th>\n",
       "      <td>month_may</td>\n",
       "      <td>0.016092</td>\n",
       "    </tr>\n",
       "    <tr>\n",
       "      <th>3</th>\n",
       "      <td>loan</td>\n",
       "      <td>0.014988</td>\n",
       "    </tr>\n",
       "    <tr>\n",
       "      <th>32</th>\n",
       "      <td>month_mar</td>\n",
       "      <td>0.014808</td>\n",
       "    </tr>\n",
       "  </tbody>\n",
       "</table>\n",
       "</div>"
      ],
      "text/plain": [
       "                  specs     score\n",
       "5              duration  0.313540\n",
       "4                   day  0.079478\n",
       "1               balance  0.077189\n",
       "38     poutcome_success  0.050150\n",
       "6              campaign  0.047911\n",
       "25      contact_unknown  0.041422\n",
       "2               housing  0.032314\n",
       "7                 pdays  0.027211\n",
       "8              previous  0.027010\n",
       "20       marital_single  0.018823\n",
       "26            month_aug  0.016580\n",
       "21  education_secondary  0.016126\n",
       "33            month_may  0.016092\n",
       "3                  loan  0.014988\n",
       "32            month_mar  0.014808"
      ]
     },
     "execution_count": 59,
     "metadata": {},
     "output_type": "execute_result"
    }
   ],
   "source": [
    "df = feat_importances.nlargest(15, 'score') # The top 15 features according to the \"score\" value is stored in \"df\" variable\n",
    "df"
   ]
  },
  {
   "cell_type": "code",
   "execution_count": 60,
   "id": "69e938ee",
   "metadata": {},
   "outputs": [
    {
     "data": {
      "image/png": "[encoded data removed]",
      "text/plain": [
       "<Figure size 2160x576 with 1 Axes>"
      ]
     },
     "metadata": {
      "needs_background": "light"
     },
     "output_type": "display_data"
    }
   ],
   "source": [
    "# Plotting a bar graph for the top 15 columns having highest scores\n",
    "fig, ax = plt.subplots(figsize=(30, 8))\n",
    "sns.barplot(x = df['specs'], y = df['score'], ax = ax)\n",
    "plt.show()"
   ]
  },
  {
   "cell_type": "markdown",
   "id": "917c94ee",
   "metadata": {},
   "source": [
    "* <font size = \"3\">The first **15** columns having **highest** scores are **selected** because these features are considered **important** for **model building** while the rest features are considered **redundant**. Hence, those **redundant** features are **not selected** for the **model building** which will be done later.</font>\n",
    "* <font size = \"3\">The <span style = \"color : blue\">**\"duration\"**</span> feature is having the **highest** score, that means it is the **most important** feature for **model building**.</font> \n",
    "* <font size = \"3\">Now, the **input** variable will be **modified** by having only the **15** most important features.</font>"
   ]
  },
  {
   "cell_type": "code",
   "execution_count": 61,
   "id": "1495bd7d",
   "metadata": {},
   "outputs": [],
   "source": [
    "inp = X[df['specs']]    # Storing 15 important features as \"input\" and storing them in \"inp\" variable\n",
    "out = y                 # Storing \"target\" data in \"out\" variable"
   ]
  },
  {
   "cell_type": "markdown",
   "id": "5ed9c05f",
   "metadata": {},
   "source": [
    "* <font size = \"3\"><span style = \"color : blue\">**\"Duration\"**</span> feature tells about the **duration** of the **last contact** of **client** with the **bank**.</font>\n",
    "* <font size = \"3\"><span style = \"color : blue\">**\"Duration\"**</span> feature is the **most** important feature, that means it will make the **most impact** in the **prediction**. In other words, it can be said that the **duration** of the **last contact** of **client** with the **bank** will make more impact  in **predicting** whether the **client** has **subscribed** a term **deposit** or not.</font>\n"
   ]
  },
  {
   "cell_type": "markdown",
   "id": "6b72df3c",
   "metadata": {},
   "source": [
    "***"
   ]
  },
  {
   "cell_type": "markdown",
   "id": "1e46cfc5",
   "metadata": {},
   "source": [
    "# <span style = \"color : blue\">Model Training & Prediction</span>"
   ]
  },
  {
   "cell_type": "markdown",
   "id": "6a41fa47",
   "metadata": {},
   "source": [
    "## Train-Test Split"
   ]
  },
  {
   "cell_type": "markdown",
   "id": "5a276ef5",
   "metadata": {},
   "source": [
    "* <font size = \"3\">In the first stage of **model training**, the dataset is going to be **splitted** into **two** sections :-\n",
    " * **Train Data**\n",
    " * **Test Data** </font>\n",
    "  \n",
    "* <font size = \"3\">**Train data** will be **passed** to the **model** during **training** of the **model**.</font>\n",
    "* <font size = \"3\">**Test data** will be used for **testing**, i.e. it will be used after **training** of the **model**. </font>"
   ]
  },
  {
   "cell_type": "code",
   "execution_count": 62,
   "id": "650c05ba",
   "metadata": {},
   "outputs": [],
   "source": [
    "from sklearn.model_selection import train_test_split  \n",
    "X_train, X_test, y_train, y_test = train_test_split(inp, out, train_size=0.7, random_state=42)  # random_state will split the data randomly.\n",
    "# Splitting the whole data into train data and test data with training size 70%."
   ]
  },
  {
   "cell_type": "markdown",
   "id": "9248c084",
   "metadata": {},
   "source": [
    "* <font size = \"3\">The data is **splitted** in such a way that **70%** of the data is splitted for **train data** while rest **30%** for **test data**.</font>\n",
    "* <font size = \"3\">The use of <span style = \"color : green\">**\"random_state\"**</span> function above is for selecting the data for **training** from **random** rows.</font>\n",
    "* <font size = \"3\">The **input** data for **train** data is passed to <span style = \"color : blue\">**\"X_train\"**</span> variable.</font>\n",
    "* <font size = \"3\">The **output** data for **train** data is passed to <span style = \"color : blue\">**\"y_train\"**</span> variable.</font>\n",
    "* <font size = \"3\">The **input** data for **test** data is passed to <span style = \"color : blue\">**\"X_test\"**</span> variable.</font>\n",
    "* <font size = \"3\">The **output** data for **test** data is passed to <span style = \"color : blue\">**\"y_test\"**</span> variable.</font>"
   ]
  },
  {
   "cell_type": "markdown",
   "id": "c0882492",
   "metadata": {},
   "source": [
    "* <font size = \"3\">Though the **model** is going to be trained using **train** data which has been got from <span style = \"color : green\">**Train-Test Split**</span> method but for evaluating the **accuracy** of the model, <span style = \"color : green\">**K-Fold Cross Validation**</span> is going to be used.</font>"
   ]
  },
  {
   "cell_type": "markdown",
   "id": "b48ffcbf",
   "metadata": {},
   "source": [
    "## K-Fold Cross Validation"
   ]
  },
  {
   "cell_type": "markdown",
   "id": "0db25e77",
   "metadata": {},
   "source": [
    "* <font size = \"3\">Using this method, for **\"k\"** number of times, the set of **train** data and the set of **test** data are selected from the whole dataset.\n",
    "* <font size = \"3\">In each of the **\"k\"** number of times, the whole dataset divides into **\"k\"** number of folds where the **train** data gets **\"k-1\"** folds and the **test** data gets remaining i.e. a **single** fold and the **accuracy** of the **model** is evaluated.</font>\n",
    "* <font size = \"3\">The above step is the same for every **\"k\"** times but the difference lies in the **train** data and **test** data. Both set of **train** data and **test** data will be different for each of the **\"k\"** times.</font>\n",
    "* <font size = \"3\">This method is used for getting the most **optimum accuracy score** of the **model**.</font>"
   ]
  },
  {
   "cell_type": "code",
   "execution_count": 63,
   "id": "a33f529b",
   "metadata": {},
   "outputs": [],
   "source": [
    "from sklearn.model_selection import KFold, cross_val_score # KFold and cross_val_score is imported\n",
    "\n",
    "k_fold = KFold(n_splits=10, shuffle=True, random_state=42)# KFold method where \"k\" value taken is 10"
   ]
  },
  {
   "cell_type": "markdown",
   "id": "bac77c58",
   "metadata": {},
   "source": [
    "* <font size = \"3\">**\"k\"** is **10** that means for **10** times, the different set of **train** data and **test** data is selected.</font>\n",
    "* <font size = \"3\">**\"shuffle\"** parameter is **True** that means first the whole data will be **shuffled** i.e. **position** of each datapoints will **change**. After **shuffling**, the data will be splitted into **K-Folds**(in this case **10-Folds**).</font>\n",
    "* <font size = \"3\">For each of the **ten** times, **training** of the **model** will be done and **accuracy** of the model will be **evaluated**.</font>\n",
    "* <font size = \"3\">As there is 10-Fold, so there will be **10** number of **accuracy scores**.</font>\n",
    "* <font size = \"3\">Since, only one value of **accuracy** will be accepted so to get that, the mean of all **accuracy scores** will be calculated and it will be the **final accuracy score** of the **model**.</font>"
   ]
  },
  {
   "cell_type": "markdown",
   "id": "81f0264f",
   "metadata": {},
   "source": [
    "## Model 1 - Logistic Regression"
   ]
  },
  {
   "cell_type": "markdown",
   "id": "9d10c365",
   "metadata": {},
   "source": [
    "* <font size = \"3\">This algorithm predicts the result using the <span style = \"color : purple\">**Sigmoid function**</span>.</font>\n",
    "* <font size = \"3\">The equation of <span style = \"color : purple\">**Sigmoid function**</span> is :-\n",
    "    <span style = \"color : green\">**$$y = {1 \\over 1 + e^{-x}}$$**</span></font>"
   ]
  },
  {
   "cell_type": "markdown",
   "id": "14d30a1f",
   "metadata": {},
   "source": [
    "* <font size = \"3\">The **first** model is going to be trained using <span style = \"color : green\">\"***Logistic Regression***\"</span> algorithm.</font>"
   ]
  },
  {
   "cell_type": "code",
   "execution_count": 68,
   "id": "109ccc47",
   "metadata": {},
   "outputs": [
    {
     "data": {
      "text/plain": [
       "LogisticRegression()"
      ]
     },
     "execution_count": 68,
     "metadata": {},
     "output_type": "execute_result"
    }
   ],
   "source": [
    "from sklearn.linear_model import LogisticRegression   # Importing \"LogisticRegression\" \n",
    "\n",
    "log_model = LogisticRegression()  # This is first model \"log_model\" built using LogisticRegression algorithm \n",
    "log_model.fit(X_train,y_train)    # Fitting \"train data\" to the \"log_model\" "
   ]
  },
  {
   "cell_type": "markdown",
   "id": "1cab8d16",
   "metadata": {},
   "source": [
    "* <font size = \"3\">The <span style = \"color : purple\">**\"log_model\"**</span> is trained using <span style = \"color : green\">\"***Logistic Regression***\"</span> algorithm.</font>"
   ]
  },
  {
   "cell_type": "markdown",
   "id": "57ad538c",
   "metadata": {},
   "source": [
    "* <font size = \"3\">Since, the **model** is trained, so now the **prediction** could be done.</font>\n",
    "* <font size = \"3\">**Prediction** means for given **input** data, what **model** is **predicting** as **output**.</font>\n",
    "* <font size = \"3\">For **prediction**, the **input** data which is going to be passed to the **model** is **input test data** which is <span style = \"color : green\">**\"X_test\"**</span>.</font> "
   ]
  },
  {
   "cell_type": "code",
   "execution_count": 69,
   "id": "2967fc40",
   "metadata": {},
   "outputs": [],
   "source": [
    "# The prediction is done by passing \"X_test\" and the predicted values are stored in \"log_pred\" variable.\n",
    "log_pred = log_model.predict(X_test) "
   ]
  },
  {
   "cell_type": "markdown",
   "id": "25f786fc",
   "metadata": {},
   "source": [
    "* <font size = \"3\">After prediction, **accuracy** of the **model** is to be **evaluated**.</font>\n",
    "* <font size = \"3\">**Accuracy** is the measure of how much **correct** prediction **model** has made. The **correct** prediction means for a particular data, the model is giving **same** result as what the **actual** result was.</font>\n",
    "* <font size = \"3\"><span style = \"color : green\">**\"cross_val_score\"**</span> method is going to be used which will calculate all the **accuracy scores** of <span style = \"color : purple\">**K-Fold Cross Validation**</span>, where **\"k\"** is **10**.</font>\n",
    "* <font size = \"3\">In <span style = \"color : green\">**\"cross_val_score\"**</span> method, the **input** and **output** data going to be passed is from the whole dataset, rather than passing only the **train** data. This is because **K-Fold** will split the data into **test** and **train**. So this is why the whole dataset will be passed.</font>"
   ]
  },
  {
   "cell_type": "code",
   "execution_count": 71,
   "id": "89886512",
   "metadata": {},
   "outputs": [
    {
     "data": {
      "text/plain": [
       "0.8085491251207311"
      ]
     },
     "execution_count": 71,
     "metadata": {},
     "output_type": "execute_result"
    }
   ],
   "source": [
    "# mean of accuracy scores of all K-Folds is stored in \"log_score\" variable\n",
    "log_score = cross_val_score(log_model, inp, out, cv = k_fold, n_jobs = -1).mean()  \n",
    "log_score"
   ]
  },
  {
   "cell_type": "markdown",
   "id": "276a7e54",
   "metadata": {},
   "source": [
    "* <font size = \"3\">Hence the **accuracy** for <span style = \"color : green\">\"***Logistic Regression***\"</span> model is **0.8085491251207311**, i.e **80.85%** which is **very good**.</font>\n",
    "* <font size = \"3\">It means that out of **100%** data, **80.85%** data points are **correctly predicted**.</font> "
   ]
  },
  {
   "cell_type": "markdown",
   "id": "6240b3ce",
   "metadata": {},
   "source": [
    "* <font size = \"3\">In the above method, **n_jobs** parameter is used.</font> \n",
    "* <font size = \"3\">**n_jobs** is used for **parallel computation** in the **model evaluation** stage.</font>\n",
    "* <font size = \"3\">The value of **n_jobs** will decide how many **CPUs** of our system will be used for the **computation**.</font>\n",
    "* <font size = \"3\">The value of **n_jobs** in this case is taken as **-1**, that means all the present **CPUs** of the system will be used for **computation**.</font> "
   ]
  },
  {
   "cell_type": "markdown",
   "id": "06a041be",
   "metadata": {},
   "source": [
    "* <font size = \"3\">Since **multiple** models is going to be used, hence the **accuracy** of each model has to be stored.</font>"
   ]
  },
  {
   "cell_type": "code",
   "execution_count": 82,
   "id": "6cb35a57",
   "metadata": {},
   "outputs": [],
   "source": [
    "# Creating a dictionary \"models_with_scores\" and storing algorithm name as key and its corresponding value is its \"accuracy\"\n",
    "models_with_scores = {}\n",
    "models_with_scores['Logistic Regression'] = log_score"
   ]
  },
  {
   "cell_type": "markdown",
   "id": "2334f4a0",
   "metadata": {},
   "source": [
    "## Model 2 - Decision Trees"
   ]
  },
  {
   "cell_type": "markdown",
   "id": "e1985294",
   "metadata": {},
   "source": [
    "* <font size = \"3\">This algorithm uses the technique of **tree splitting**.</font>\n",
    "* <font size = \"3\">The **splitting** of **tree** is done by taking some conditions with some values of **feature** variable.</font>\n",
    "* <font size = \"3\">There are two criterias for **tree splitting** :-</font>\n",
    "    * <font size = \"3\"><span style = \"color : green\">**Gini Impurity**</span></font>\n",
    "    * <font size = \"3\"><span style = \"color : green\">**Information Gain**</span></font>"
   ]
  },
  {
   "cell_type": "markdown",
   "id": "c3105e89",
   "metadata": {},
   "source": [
    "* <font size = \"3\">The **second** model is going to be trained using <span style = \"color : green\">\"***Decision Trees***\"</span> algorithm.</font>"
   ]
  },
  {
   "cell_type": "code",
   "execution_count": 83,
   "id": "9671f1ac",
   "metadata": {},
   "outputs": [
    {
     "data": {
      "text/plain": [
       "DecisionTreeClassifier()"
      ]
     },
     "execution_count": 83,
     "metadata": {},
     "output_type": "execute_result"
    }
   ],
   "source": [
    "from sklearn.tree import DecisionTreeClassifier     # Importing \"DecisionTreeClassifier\" \n",
    "\n",
    "dtree_model = DecisionTreeClassifier(criterion = 'gini')  # The \"dtree_model\" is built using Decision Tree algorithm \n",
    "dtree_model.fit(X_train, y_train)     # Fitting \"train data\" to the \"dtree_model\"  "
   ]
  },
  {
   "cell_type": "markdown",
   "id": "41a4b866",
   "metadata": {},
   "source": [
    "* <font size = \"3\">The <span style = \"color : purple\">**\"dtree_model\"**</span> is trained using <span style = \"color : green\">\"***Decision Trees***\"</span> algorithm.</font>"
   ]
  },
  {
   "cell_type": "markdown",
   "id": "80933b25",
   "metadata": {},
   "source": [
    "* <font size = \"3\">In this algorithm, **criterion** parameter is used.</font>\n",
    "* <font size = \"3\">The **criterion** used in this case is <span style = \"color : green\">**gini**</span> which means that the tree has splitted above based on the **gini** value.</font>\n",
    "* <font size = \"3\"><span style = \"color : green\">**Gini**</span> is the **probability** of correctly labelling a randomly chosen element, if it was randomly labelled according to the **distribution** of labels in the node.</font>"
   ]
  },
  {
   "cell_type": "code",
   "execution_count": 85,
   "id": "e4aab5ec",
   "metadata": {},
   "outputs": [],
   "source": [
    "# The prediction is done by passing \"X_test\" and the predicted values are stored in \"dtree_pred\" variable.\n",
    "dtree_pred = dtree_model.predict(X_test)"
   ]
  },
  {
   "cell_type": "code",
   "execution_count": 105,
   "id": "d6432c30",
   "metadata": {},
   "outputs": [
    {
     "data": {
      "text/plain": [
       "0.7580195127116605"
      ]
     },
     "execution_count": 105,
     "metadata": {},
     "output_type": "execute_result"
    }
   ],
   "source": [
    "# mean of accuracy scores of all K-Folds is stored in \"dtree_score\" variable\n",
    "dtree_score = cross_val_score(dtree_model, inp, out, cv = k_fold, n_jobs = -1).mean()\n",
    "dtree_score"
   ]
  },
  {
   "cell_type": "markdown",
   "id": "53b1b9c3",
   "metadata": {},
   "source": [
    "* <font size = \"3\">Hence the **accuracy** for <span style = \"color : green\">\"***Decision Trees***\"</span> model is **0.7580195127116605**, i.e **75.80%** which is **decent**.</font>\n",
    "* <font size = \"3\">It means that out of **100%** data, **75.80%** data points are **correctly predicted**.</font> "
   ]
  },
  {
   "cell_type": "code",
   "execution_count": 87,
   "id": "21ffab71",
   "metadata": {},
   "outputs": [],
   "source": [
    "# Storing the algorithm name with accuracy in \"models_with_scores\" dictionary\n",
    "models_with_scores['Decision Trees'] = dtree_score"
   ]
  },
  {
   "cell_type": "markdown",
   "id": "b2f9b126",
   "metadata": {},
   "source": [
    "## Model 3 :-   K-Nearest Neighbors "
   ]
  },
  {
   "cell_type": "markdown",
   "id": "28744f35",
   "metadata": {},
   "source": [
    "* <font size = \"3\">In this algorithm, for a given value of **\"k\"**, the **\"k\"** number of points are considered which are the **most closest** to the for each **datapoint**.</font>\n",
    "* <font size = \"3\">After that, the **classes** of those **\"k\"** points are identied and then it is found out that which **class** has **more** number of points in those **\"k\"** points.</font>\n",
    "* <font size = \"3\">That **class** will be the **class** of the particular **datapoint**.</font>"
   ]
  },
  {
   "cell_type": "markdown",
   "id": "97e86cbc",
   "metadata": {},
   "source": [
    "* <font size = \"3\">The **third** model is going to be trained using <span style = \"color : green\">\"***KNN***\"</span> algorithm.</font>"
   ]
  },
  {
   "cell_type": "markdown",
   "id": "79bfd11f",
   "metadata": {},
   "source": [
    "* <font size = \"3\">The **model** is built using <span style = \"color : green\">**KNeighborsClassifier**</span>.</font>\n",
    "* <font size = \"3\"><span style = \"color : green\">**KNeighborsClassifier**</span> takes the value of **\"k\"** for the training of **model**.</font>\n",
    "* <font size = \"3\">The value of **\"k\"** should be that which gives the **best** performance of the **model**.</font>\n",
    "* <font size = \"3\">For multiple values of **\"k\"**, the **model** is trained and the **train error** and **test error** are calculated.</font>"
   ]
  },
  {
   "cell_type": "markdown",
   "id": "3199874c",
   "metadata": {},
   "source": [
    "## Finding the optimal value of \"k\""
   ]
  },
  {
   "cell_type": "code",
   "execution_count": 89,
   "id": "48828003",
   "metadata": {},
   "outputs": [
    {
     "name": "stdout",
     "output_type": "stream",
     "text": [
      "Train error:\n",
      " [0.0, 0.16165365416613336, 0.1528222193779598, 0.19121976193523615, 0.1857161141686932, 0.20107513119160375, 0.19569947523358505, 0.20401894278766158, 0.20069115576603097, 0.2084986560860105, 0.20913861512863177, 0.20977857417125303, 0.2113144758735441, 0.2129783693843594, 0.21323435300140792, 0.21182644310764112, 0.21259439395878663, 0.21400230385255345, 0.2146422628951747, 0.215794189171893, 0.21592218098041727, 0.21771406629975681, 0.21873800076795086, 0.22014591066171765, 0.2195059516190964, 0.21924996800204788, 0.22091386151286319, 0.22078586970433892, 0.22078586970433892, 0.21937795981057212, 0.22104185332138743, 0.2230897222577755, 0.22180980417253296, 0.22526558300268784, 0.2236016894918725, 0.22808140279022143, 0.22718546013055166, 0.22769742736464865, 0.22577755023678484]\n",
      "Test error:\n",
      " [0.2988951925948044, 0.30128396536279484, 0.26336219767094654, 0.26366079426694533, 0.2547028963869812, 0.25082114063899674, 0.244252015527023, 0.24604359510301582, 0.24096745297103614, 0.23708569722305164, 0.23798148701104807, 0.23798148701104807, 0.2394744699910421, 0.24186324275903254, 0.24037025977903853, 0.2397730665870409, 0.24066885637503732, 0.2397730665870409, 0.2388772767990445, 0.23857868020304568, 0.23618990743505525, 0.23618990743505525, 0.2397730665870409, 0.2388772767990445, 0.24066885637503732, 0.23857868020304568, 0.2400716631830397, 0.23618990743505525, 0.23768289041504928, 0.23499552105106003, 0.23648850403105404, 0.23708569722305164, 0.23768289041504928, 0.2397730665870409, 0.2388772767990445, 0.24037025977903853, 0.2397730665870409, 0.24066885637503732, 0.24037025977903853]\n"
     ]
    }
   ],
   "source": [
    "from sklearn.neighbors import KNeighborsClassifier    # Importing \"KNeighborsClassifier\" \n",
    "\n",
    "train_error = []     # list created for storing the error of train data\n",
    "test_error = []      # list created for storing the error of test data\n",
    "\n",
    "for i in range(1,40):              # The range of \"k\" value is 1 to 40\n",
    "    knn_model = KNeighborsClassifier(n_neighbors = i)     # model building with \"k\" value initially 1\n",
    "    knn_model.fit(X_train, y_train)                       # fitting train data to the model\n",
    "    knn_pred_train = knn_model.predict(X_train)           # predicting through train data\n",
    "    knn_pred_test = knn_model.predict(X_test)             # predicting through test data\n",
    "    \n",
    "    train_error.append(np.mean(y_train != knn_pred_train))  # ratio of train error with the total train data is added to the error list\n",
    "    test_error.append(np.mean(y_test != knn_pred_test))     # ratio of test error with the total test data is added to the error list\n",
    "    \n",
    "print(\"Train error:\\n\", train_error)   \n",
    "print(\"Test error:\\n\", test_error)"
   ]
  },
  {
   "cell_type": "markdown",
   "id": "bd6865d1",
   "metadata": {},
   "source": [
    "* <font size = \"3\">The **train error** and **test error** of the **model** for multiple values of **\"k\"** is calculated.</font>\n",
    "* <font size = \"3\">For each value of **\"k\"**, the **train error** and **test error** values are observed.</font>\n",
    "* <font size = \"3\">Where the **average** of **train error** and **test error** is **minimum**, that value of **\"k\"** is the **optimal** value of **\"k\"**.</font>\n",
    "* <font size = \"3\">From the above, it is **ambiguish** to understand where the **error** is **minimum**, so for this **visualization** should be used.</font>"
   ]
  },
  {
   "cell_type": "markdown",
   "id": "66c02242",
   "metadata": {},
   "source": [
    "# Visualizing the Errors"
   ]
  },
  {
   "cell_type": "markdown",
   "id": "9d1c12b3",
   "metadata": {},
   "source": [
    "* <font size = \"3\">The above **train error** and **test error** calculated is **visualized** with the help of <span style = \"color : purple\">**line plot**</span>.</font>"
   ]
  },
  {
   "cell_type": "code",
   "execution_count": 95,
   "id": "9c71c193",
   "metadata": {},
   "outputs": [
    {
     "data": {
      "image/png": "[encoded data removed]",
      "text/plain": [
       "<Figure size 1080x864 with 1 Axes>"
      ]
     },
     "metadata": {
      "needs_background": "light"
     },
     "output_type": "display_data"
    }
   ],
   "source": [
    "plt.figure(figsize = (15,12))     #   Setting the size of the figure\n",
    "\n",
    "sns.lineplot(x = range(1,40), y = train_error, label = \"Train error\")    #  lineplot for train error\n",
    "sns.lineplot(x = range(1,40), y = test_error, label = \"Test error\")      #  lineplot for test error\n",
    "plt.xlabel('K Value')          # naming x-axis as \"K Value\"\n",
    "plt.ylabel('Errors in prediction')     # naming y-axis as \"Errors in prediction\"\n",
    "plt.show()"
   ]
  },
  {
   "cell_type": "markdown",
   "id": "3d94c77f",
   "metadata": {},
   "source": [
    "* <font size = \"3\">From the <span style = \"color : purple\">**line plot**</span>, the **average** of **train error** and **test error** is **minimum** nearly at **\"k\"=22**.</font> \n",
    "* <font size = \"3\">The **optimum** value of **\"k\"** to be considered is **22**.</font>\n",
    "* <font size = \"3\">That means the **accuracy** of the **model** will be **high** at this particular value of **\"k\"**.</font>"
   ]
  },
  {
   "cell_type": "markdown",
   "id": "184a592e",
   "metadata": {},
   "source": [
    "## Model Training & Prediction Using Optimal Value of \"k\""
   ]
  },
  {
   "cell_type": "markdown",
   "id": "4c51b6e6",
   "metadata": {},
   "source": [
    "* <font size = \"3\">Now, the **model** will be **trained** using the **optimal** value of **\"k\"**.</font>"
   ]
  },
  {
   "cell_type": "code",
   "execution_count": 96,
   "id": "bd905225",
   "metadata": {},
   "outputs": [
    {
     "data": {
      "text/plain": [
       "KNeighborsClassifier(n_neighbors=22)"
      ]
     },
     "execution_count": 96,
     "metadata": {},
     "output_type": "execute_result"
    }
   ],
   "source": [
    "knn_model = KNeighborsClassifier(n_neighbors = 22)   # model building using \"KNeighborsClassifier\"\n",
    "knn_model.fit(X_train, y_train)       #   fitting train data to the \"knn_model\""
   ]
  },
  {
   "cell_type": "markdown",
   "id": "f2c59cb1",
   "metadata": {},
   "source": [
    "* <font size = \"3\">The <span style = \"color : purple\">**\"knn_model\"**</span> is trained using <span style = \"color : green\">\"***K-Nearest Neighbors***\"</span> algorithm.</font>"
   ]
  },
  {
   "cell_type": "code",
   "execution_count": 97,
   "id": "8e4b9dc4",
   "metadata": {},
   "outputs": [],
   "source": [
    "# storing the predicting values in \"knn_pred\"\n",
    "knn_pred = knn_model.predict(X_test)    "
   ]
  },
  {
   "cell_type": "code",
   "execution_count": 106,
   "id": "9d480f1a",
   "metadata": {},
   "outputs": [
    {
     "data": {
      "text/plain": [
       "0.7650059523236524"
      ]
     },
     "execution_count": 106,
     "metadata": {},
     "output_type": "execute_result"
    }
   ],
   "source": [
    "# mean of accuracy scores of all K-Folds is stored in \"knn_score\" variable\n",
    "knn_score = cross_val_score(knn_model, inp, out, cv = k_fold, n_jobs = -1).mean()\n",
    "knn_score"
   ]
  },
  {
   "cell_type": "markdown",
   "id": "9f621350",
   "metadata": {},
   "source": [
    "* <font size = \"3\">Hence the **accuracy** for <span style = \"color : green\">\"***K-Nearest Neighbors***\"</span> model is **0.7650059523236524**, i.e **76.50%** which is **decent**.</font>\n",
    "* <font size = \"3\">It means that out of **100%** data, **76.50%** data points are **correctly predicted**.</font> "
   ]
  },
  {
   "cell_type": "code",
   "execution_count": 107,
   "id": "ae9e5ad6",
   "metadata": {},
   "outputs": [],
   "source": [
    "# Storing the algorithm name with accuracy in \"models_with_scores\" dictionary\n",
    "models_with_scores['K-Nearest Neighbors'] = knn_score"
   ]
  },
  {
   "cell_type": "markdown",
   "id": "8e23cfa6",
   "metadata": {},
   "source": [
    "## Model 4 - Naive Bayes "
   ]
  },
  {
   "cell_type": "markdown",
   "id": "d330178d",
   "metadata": {},
   "source": [
    "* <font size = \"3\">This algorithm does prediction on the basis of <span style = \"color : purple\">**Baye's Theorem of Probability**</span>.</font>\n",
    "* <font size = \"3\">The formula for <span style = \"color : purple\">**Baye's Theorem**</span> is :-\n",
    "    <span style = \"color : green\">$$P(A/B) = {{P(B/A).P(A)} \\over P(B)}$$</span></font>"
   ]
  },
  {
   "cell_type": "markdown",
   "id": "08f7e8a6",
   "metadata": {},
   "source": [
    "* <font size = \"3\">The **fourth** model is going to be trained using <span style = \"color : green\">\"***Naive Bayes***\"</span> algorithm.</font>"
   ]
  },
  {
   "cell_type": "code",
   "execution_count": 108,
   "id": "e909452d",
   "metadata": {},
   "outputs": [
    {
     "data": {
      "text/plain": [
       "GaussianNB()"
      ]
     },
     "execution_count": 108,
     "metadata": {},
     "output_type": "execute_result"
    }
   ],
   "source": [
    "from sklearn.naive_bayes import GaussianNB    # Importing \"GaussianNB\" \n",
    "\n",
    "nb_model = GaussianNB()              # model building using \"GaussianNB\"\n",
    "nb_model.fit(X_train, y_train)       # Fitting \"train data\" to the \"nb_model\" "
   ]
  },
  {
   "cell_type": "markdown",
   "id": "b7923227",
   "metadata": {},
   "source": [
    "* <font size = \"3\">The <span style = \"color : purple\">**\"nb_model\"**</span> is trained using <span style = \"color : green\">\"***Naive Bayes***\"</span> algorithm.</font>"
   ]
  },
  {
   "cell_type": "code",
   "execution_count": 160,
   "id": "f5d28a58",
   "metadata": {},
   "outputs": [],
   "source": [
    "# storing the predicting values in \"nb_pred\"\n",
    "nb_pred = nb_model.predict(X_test)"
   ]
  },
  {
   "cell_type": "code",
   "execution_count": 109,
   "id": "97417c42",
   "metadata": {},
   "outputs": [
    {
     "data": {
      "text/plain": [
       "0.7225404549436374"
      ]
     },
     "execution_count": 109,
     "metadata": {},
     "output_type": "execute_result"
    }
   ],
   "source": [
    "# mean of accuracy scores of all K-Folds is stored in \"nb_score\" variable\n",
    "nb_score = cross_val_score(nb_model, inp, out, cv = k_fold, n_jobs = -1).mean()\n",
    "nb_score"
   ]
  },
  {
   "cell_type": "markdown",
   "id": "087a1823",
   "metadata": {},
   "source": [
    "* <font size = \"3\">Hence the **accuracy** for <span style = \"color : green\">\"***Naive Bayes***\"</span> model is **0.7225404549436374**, i.e **72.25%** which is **fairly decent**.</font>\n",
    "* <font size = \"3\">It means that out of **100%** data, **72.25%** data points are **correctly predicted**.</font> "
   ]
  },
  {
   "cell_type": "code",
   "execution_count": 110,
   "id": "01958063",
   "metadata": {},
   "outputs": [],
   "source": [
    "# Storing the algorithm name with accuracy in \"models_with_scores\" dictionary\n",
    "models_with_scores['Naive Bayes'] = nb_score"
   ]
  },
  {
   "cell_type": "markdown",
   "id": "2499f299",
   "metadata": {},
   "source": [
    "## Model 5 - Support Vector Machines"
   ]
  },
  {
   "cell_type": "markdown",
   "id": "2287ca41",
   "metadata": {},
   "source": [
    "* <font size = \"3\">This algorithm does prediction using a <span style = \"color : green\">**hyperplane**</span> that distinctly **classifies** the data points.</font>\n",
    "* <font size = \"3\">There could be **multiple** <span style = \"color : green\">**hyperplanes**</span> but only one **optimal** <span style = \"color : green\">**hyperplane**</span> will be selected.</font>\n",
    "* <font size = \"3\">An **optimal** <span style = \"color : green\">**hyperplane**</span> is one where the **marginal distance**(distance between <span style = \"color : green\">**hyperplane**</span> & **margins**) is **maximum**.</font>\n",
    "* <font size = \"3\">A **margin** is drawn **touching** the **most nearest** data points to the <span style = \"color : green\">**hyperplane**</span>.</font>"
   ]
  },
  {
   "cell_type": "markdown",
   "id": "3eb8cd94",
   "metadata": {},
   "source": [
    "* <font size = \"3\">The **fifth** model is going to be trained using <span style = \"color : green\">\"***Support Vector Machines***\"</span> algorithm.</font>"
   ]
  },
  {
   "cell_type": "code",
   "execution_count": 111,
   "id": "8b2b859c",
   "metadata": {},
   "outputs": [
    {
     "data": {
      "text/plain": [
       "SVC()"
      ]
     },
     "execution_count": 111,
     "metadata": {},
     "output_type": "execute_result"
    }
   ],
   "source": [
    "from sklearn.svm import SVC       # Importing \"SVC(Support Vector Classifier)\"\n",
    "\n",
    "svc_model = SVC()                 # model building using \"SVC(Support Vector Classifier)\"\n",
    "svc_model.fit(X_train, y_train)   # Fitting \"train data\" to the \"svc_model\" "
   ]
  },
  {
   "cell_type": "markdown",
   "id": "f553303b",
   "metadata": {},
   "source": [
    "* <font size = \"3\">The <span style = \"color : purple\">**\"svc_model\"**</span> is trained using <span style = \"color : green\">\"***Support Vector Machines***\"</span> algorithm.</font>"
   ]
  },
  {
   "cell_type": "code",
   "execution_count": 114,
   "id": "65132fad",
   "metadata": {},
   "outputs": [],
   "source": [
    "# storing the predicting values in \"svc_pred\"\n",
    "svc_pred = svc_model.predict(X_test)"
   ]
  },
  {
   "cell_type": "code",
   "execution_count": 117,
   "id": "3e348268",
   "metadata": {},
   "outputs": [
    {
     "data": {
      "text/plain": [
       "0.7533610573637142"
      ]
     },
     "execution_count": 117,
     "metadata": {},
     "output_type": "execute_result"
    }
   ],
   "source": [
    "# mean of accuracy scores of all K-Folds is stored in \"svc_score\" variable\n",
    "svc_score = cross_val_score(svc_model, inp, out, cv = k_fold).mean()\n",
    "svc_score"
   ]
  },
  {
   "cell_type": "markdown",
   "id": "d0d2c011",
   "metadata": {},
   "source": [
    "* <font size = \"3\">Hence the **accuracy** for <span style = \"color : green\">\"***Support Vector Machines***\"</span> model is **0.7533610573637142**, i.e **75.34%** which is **decent**.</font>\n",
    "* <font size = \"3\">It means that out of **100%** data, **75.34%** data points are **correctly predicted**.</font> "
   ]
  },
  {
   "cell_type": "code",
   "execution_count": 118,
   "id": "61e40520",
   "metadata": {},
   "outputs": [],
   "source": [
    "# Storing the algorithm name with accuracy in \"models_with_scores\" dictionary\n",
    "models_with_scores['Support Vector Machine'] = svc_score"
   ]
  },
  {
   "cell_type": "markdown",
   "id": "6b99e853",
   "metadata": {},
   "source": [
    "## Model 6 - Random Forest"
   ]
  },
  {
   "cell_type": "markdown",
   "id": "8878d738",
   "metadata": {},
   "source": [
    "* <font size = \"3\">This algorithm is the combination of multiple <span style = \"color : green\">**Decision trees**</span> each giving different results.</font>\n",
    "* <font size = \"3\">It is also known as **ensemble learning technique** because here the results of **multiple** models are combined to predict the results.</font>\n",
    "* <font size = \"3\">The **sampling** done in <span style = \"color : green\">**Random Forest**</span> is with **replacement** i.e. there may be **repetition** of some data points in a **sample**, and this **sampling** is known as <span style = \"color : purple\">**Bootstrap Sampling**</span>.</font>\n",
    "* <font size = \"3\"><span style = \"color : green\">**Random forest**</span> is a part of <span style = \"color : purple\">**Bagging technique**</span> which means the combination of **bootstrap** and **aggregate**, i.e. taking **bootstrap** samples from data and calculating the **aggregate**(**mean** or **highest frequency**) from the results.</font>"
   ]
  },
  {
   "cell_type": "markdown",
   "id": "2cca2c17",
   "metadata": {},
   "source": [
    "* <font size = \"3\">The **sixth** model is going to be trained using <span style = \"color : green\">\"***Random Forest***\"</span> algorithm.</font>"
   ]
  },
  {
   "cell_type": "markdown",
   "id": "9f02c30b",
   "metadata": {},
   "source": [
    "* <font size = \"3\">The <span style = \"color : purple\">**n_estimators**</span> parameter is used for <span style = \"color : green\">**\"RandomForestClassifier\"**</span></font>.\n",
    "* <font size = \"3\"><span style = \"color : purple\">**n_estimators**</span> depicts the number of **trees** used for **model training**.</font>"
   ]
  },
  {
   "cell_type": "code",
   "execution_count": 119,
   "id": "66becb34",
   "metadata": {},
   "outputs": [
    {
     "data": {
      "text/plain": [
       "RandomForestClassifier()"
      ]
     },
     "execution_count": 119,
     "metadata": {},
     "output_type": "execute_result"
    }
   ],
   "source": [
    "from sklearn.ensemble import RandomForestClassifier    # Importing \"RandomForestClassifier\" \n",
    "\n",
    "randforest_model = RandomForestClassifier(n_estimators = 100)      # model building using \"RandomForestClassifier\"\n",
    "randforest_model.fit(X_train, y_train)           # Fitting \"train data\" to the \"randforest_model\" "
   ]
  },
  {
   "cell_type": "markdown",
   "id": "6b2696b4",
   "metadata": {},
   "source": [
    "* <font size = \"3\">The <span style = \"color : purple\">**\"randforest_model\"**</span> is trained using <span style = \"color : green\">\"***Random Forest***\"</span> algorithm by taking **100 trees**.</font>"
   ]
  },
  {
   "cell_type": "code",
   "execution_count": 121,
   "id": "13dd05d4",
   "metadata": {},
   "outputs": [],
   "source": [
    "# storing the predicting values in \"randforest_pred\"\n",
    "randforest_pred = randforest_model.predict(X_test)"
   ]
  },
  {
   "cell_type": "code",
   "execution_count": 122,
   "id": "c7e0b95a",
   "metadata": {},
   "outputs": [
    {
     "data": {
      "text/plain": [
       "0.8291560375172875"
      ]
     },
     "execution_count": 122,
     "metadata": {},
     "output_type": "execute_result"
    }
   ],
   "source": [
    "# mean of accuracy scores of all K-Folds is stored in \"randforest_score\" variable\n",
    "randforest_score = cross_val_score(randforest_model, inp, out, cv = k_fold, n_jobs = -1).mean()\n",
    "randforest_score"
   ]
  },
  {
   "cell_type": "markdown",
   "id": "66521455",
   "metadata": {},
   "source": [
    "* <font size = \"3\">Hence the **accuracy** for <span style = \"color : green\">\"***Random Forest***\"</span> model is **0.8291560375172875**, i.e **82.92%** which is **very good**.</font>\n",
    "* <font size = \"3\">It means that out of **100%** data, **82.92%** data points are **correctly predicted**.</font> "
   ]
  },
  {
   "cell_type": "code",
   "execution_count": 123,
   "id": "d9ae74af",
   "metadata": {},
   "outputs": [],
   "source": [
    "# Storing the algorithm name with accuracy in \"models_with_scores\" dictionary\n",
    "models_with_scores['Random Forest'] = randforest_score"
   ]
  },
  {
   "cell_type": "markdown",
   "id": "4ed2dd23",
   "metadata": {},
   "source": [
    "## Model 7 - Gradient Boosting"
   ]
  },
  {
   "cell_type": "markdown",
   "id": "470e72a7",
   "metadata": {},
   "source": [
    "* <font size = \"3\">It gives a prediction model in the form of an **ensemble** of **weak** prediction models, which are typically <span style = \"color : green\">**Decision trees**</span>.</font>\n",
    "* <font size = \"3\">It is also known as **ensemble learning technique** because here the results of **multiple** models are combined to predict the results.</font>\n",
    "* <font size = \"3\">It is a part of <span style = \"color : purple\">**Boosting technique**</span> which means a **first** model is built on the **training** dataset, then a **second** model is built to **rectify** the **errors** present in the **first** model. This procedure is continued until and unless the **errors** are **minimized**, and the dataset is predicted **correctly**.</font>\n",
    "* <font size = \"3\"><span style = \"color : green\">**Gradient boosting**</span> has a **fixed base estimator** and it **minimizes bias error** of the model.</font>"
   ]
  },
  {
   "cell_type": "markdown",
   "id": "7b377032",
   "metadata": {},
   "source": [
    "* <font size = \"3\">The **seventh** model is going to be trained using <span style = \"color : green\">\"***Gradient Boosting***\"</span> algorithm.</font>"
   ]
  },
  {
   "cell_type": "code",
   "execution_count": 124,
   "id": "ad02b5cb",
   "metadata": {},
   "outputs": [
    {
     "data": {
      "text/plain": [
       "GradientBoostingClassifier()"
      ]
     },
     "execution_count": 124,
     "metadata": {},
     "output_type": "execute_result"
    }
   ],
   "source": [
    "from sklearn.ensemble import GradientBoostingClassifier    # Importing \"GradientBoostingClassifier\" \n",
    "\n",
    "gb_model = GradientBoostingClassifier()          # model building using \"GradientBoostingClassifier\"\n",
    "gb_model.fit(X_train, y_train)                  # Fitting \"train data\" to the \"gb_model\" "
   ]
  },
  {
   "cell_type": "markdown",
   "id": "082e90a0",
   "metadata": {},
   "source": [
    "* <font size = \"3\">The <span style = \"color : purple\">**\"gb_model\"**</span> is trained using <span style = \"color : green\">\"***Gradient Boosting***\"</span> algorithm.</font>"
   ]
  },
  {
   "cell_type": "code",
   "execution_count": 125,
   "id": "9a9959a3",
   "metadata": {},
   "outputs": [],
   "source": [
    "# storing the predicting values in \"gb_pred\"\n",
    "gb_pred = gb_model.predict(X_test)"
   ]
  },
  {
   "cell_type": "code",
   "execution_count": 126,
   "id": "1041a873",
   "metadata": {},
   "outputs": [
    {
     "data": {
      "text/plain": [
       "0.8301400159798231"
      ]
     },
     "execution_count": 126,
     "metadata": {},
     "output_type": "execute_result"
    }
   ],
   "source": [
    "# mean of accuracy scores of all K-Folds is stored in \"gb_score\" variable\n",
    "gb_score = cross_val_score(gb_model, inp, out, cv = k_fold, n_jobs = 1).mean()\n",
    "gb_score"
   ]
  },
  {
   "cell_type": "markdown",
   "id": "f14b68f6",
   "metadata": {},
   "source": [
    "* <font size = \"3\">Hence the **accuracy** for <span style = \"color : green\">\"***Gradient Boosting***\"</span> model is **0.8301400159798231**, i.e **83.01%** which is **very good**.</font>\n",
    "* <font size = \"3\">It means that out of **100%** data, **83.01%** data points are **correctly predicted**.</font> "
   ]
  },
  {
   "cell_type": "code",
   "execution_count": 127,
   "id": "c2a6957b",
   "metadata": {},
   "outputs": [],
   "source": [
    "# Storing the algorithm name with accuracy in \"models_with_scores\" dictionary\n",
    "models_with_scores['Gradient Boosting'] = gb_score"
   ]
  },
  {
   "cell_type": "markdown",
   "id": "fe22a4aa",
   "metadata": {},
   "source": [
    "## Model 8 - Extreme Gradient Boosting"
   ]
  },
  {
   "cell_type": "markdown",
   "id": "6b3c8c7a",
   "metadata": {},
   "source": [
    "* <font size = \"3\"><span style = \"color : green\">**Extreme Gradient Boosting**</span> is an efficient **open-source** implementation of the **stochastic** <span style = \"color : green\">**gradient boosting**</span> ensemble algorithm.</font>\n",
    "* <font size = \"3\"><span style = \"color : green\">**XGBoost**</span> is a more **regularized** form of <span style = \"color : green\">**Gradient Boosting.**</span></font>\n",
    "* <font size = \"3\"><span style = \"color : green\">**XGBoost**</span> uses **advanced regularization** (**L1** & **L2**), which improves **model generalization** capabilities.</font>\n",
    "* <font size = \"3\"><span style = \"color : green\">**XGBoost**</span> delivers **high** performance as compared to <span style = \"color : green\">**Gradient Boosting**</span> as its training is very **fast** and can be **parallelized** across **clusters**.</font>"
   ]
  },
  {
   "cell_type": "markdown",
   "id": "957f15c1",
   "metadata": {},
   "source": [
    "* <font size = \"3\">The **eighth** model is going to be trained using <span style = \"color : green\">\"***Extreme Gradient Boosting***\"</span> algorithm.</font>"
   ]
  },
  {
   "cell_type": "code",
   "execution_count": 128,
   "id": "b5eab68b",
   "metadata": {},
   "outputs": [
    {
     "data": {
      "text/plain": [
       "XGBClassifier(base_score=0.5, booster='gbtree', callbacks=None,\n",
       "              colsample_bylevel=1, colsample_bynode=1, colsample_bytree=1,\n",
       "              early_stopping_rounds=None, enable_categorical=False,\n",
       "              eval_metric=None, gamma=0, gpu_id=-1, grow_policy='depthwise',\n",
       "              importance_type=None, interaction_constraints='',\n",
       "              learning_rate=0.300000012, max_bin=256, max_cat_to_onehot=4,\n",
       "              max_delta_step=0, max_depth=6, max_leaves=0, min_child_weight=1,\n",
       "              missing=nan, monotone_constraints='()', n_estimators=100,\n",
       "              n_jobs=0, num_parallel_tree=1, predictor='auto', random_state=0,\n",
       "              reg_alpha=0, reg_lambda=1, ...)"
      ]
     },
     "execution_count": 128,
     "metadata": {},
     "output_type": "execute_result"
    }
   ],
   "source": [
    "from xgboost import XGBClassifier    # Importing \"XGBClassifier\"  \n",
    "\n",
    "xgb_model = XGBClassifier()         # model building using \"XGBClassifier\"\n",
    "xgb_model.fit(X_train, y_train)     # Fitting \"train data\" to the \"xgb_model\" "
   ]
  },
  {
   "cell_type": "markdown",
   "id": "5bf04397",
   "metadata": {},
   "source": [
    "* <font size = \"3\">The <span style = \"color : purple\">**\"xgb_model\"**</span> is trained using <span style = \"color : green\">\"***Extreme Gradient Boosting***\"</span> algorithm.</font>\n",
    "* <font size = \"3\">In above, the <span style = \"color : purple\">**base_score**</span> is displaying **0.5** that is **default** value.</font>\n",
    "* <font size = \"3\"><span style = \"color : purple\">**base_score**</span> is the **initial** prediction **score** of all **instances**, i.e. **global bias**.</font>"
   ]
  },
  {
   "cell_type": "code",
   "execution_count": 129,
   "id": "e211c7b6",
   "metadata": {},
   "outputs": [],
   "source": [
    "# storing the predicting values in \"xgb_pred\"\n",
    "xgb_pred = xgb_model.predict(X_test)"
   ]
  },
  {
   "cell_type": "code",
   "execution_count": 130,
   "id": "52a65532",
   "metadata": {},
   "outputs": [
    {
     "data": {
      "text/plain": [
       "0.8285271929740119"
      ]
     },
     "execution_count": 130,
     "metadata": {},
     "output_type": "execute_result"
    }
   ],
   "source": [
    "# mean of accuracy scores of all K-Folds is stored in \"xgb_score\" variable\n",
    "xgb_score = cross_val_score(xgb_model, inp, out, cv = k_fold, n_jobs = 1).mean()\n",
    "xgb_score"
   ]
  },
  {
   "cell_type": "markdown",
   "id": "6ac9a6ec",
   "metadata": {},
   "source": [
    "* <font size = \"3\">Hence the **accuracy** for <span style = \"color : green\">\"***Extreme Gradient Boosting***\"</span> model is **0.8285271929740119**, i.e **82.85%** which is **very good**.</font>\n",
    "* <font size = \"3\">It means that out of **100%** data, **82.85%** data points are **correctly predicted**.</font> "
   ]
  },
  {
   "cell_type": "code",
   "execution_count": 131,
   "id": "3aa8671f",
   "metadata": {},
   "outputs": [],
   "source": [
    "# Storing the algorithm name with accuracy in \"models_with_scores\" dictionary\n",
    "models_with_scores['XG Boosting'] = xgb_score"
   ]
  },
  {
   "cell_type": "markdown",
   "id": "bbbc302f",
   "metadata": {},
   "source": [
    "* <font size = \"3\">The **model** **training** and **prediction** is completed.</font>\n",
    "* <font size = \"3\">The **accuracy** of each **model** has also been evaluated.</font>"
   ]
  },
  {
   "cell_type": "markdown",
   "id": "88b41f95",
   "metadata": {},
   "source": [
    "***"
   ]
  },
  {
   "cell_type": "markdown",
   "id": "750ee8fe",
   "metadata": {},
   "source": [
    "# <span style = \"color : blue\">Estimation of Accuracy of Models</span>"
   ]
  },
  {
   "cell_type": "markdown",
   "id": "5c78452b",
   "metadata": {},
   "source": [
    "* <font size = \"3\">In this step, the **comparison** of **accuracy** of all **models** will be done.</font>\n",
    "* <font size = \"3\">The **objective** of this step is to find out which **model** is giving **best accuracy score**.</font>"
   ]
  },
  {
   "cell_type": "code",
   "execution_count": 132,
   "id": "bba36850",
   "metadata": {},
   "outputs": [
    {
     "data": {
      "text/html": [
       "<div>\n",
       "<style scoped>\n",
       "    .dataframe tbody tr th:only-of-type {\n",
       "        vertical-align: middle;\n",
       "    }\n",
       "\n",
       "    .dataframe tbody tr th {\n",
       "        vertical-align: top;\n",
       "    }\n",
       "\n",
       "    .dataframe thead th {\n",
       "        text-align: right;\n",
       "    }\n",
       "</style>\n",
       "<table border=\"1\" class=\"dataframe\">\n",
       "  <thead>\n",
       "    <tr style=\"text-align: right;\">\n",
       "      <th></th>\n",
       "      <th>Models</th>\n",
       "      <th>Scores</th>\n",
       "    </tr>\n",
       "  </thead>\n",
       "  <tbody>\n",
       "    <tr>\n",
       "      <th>0</th>\n",
       "      <td>Logistic Regression</td>\n",
       "      <td>0.801723</td>\n",
       "    </tr>\n",
       "    <tr>\n",
       "      <th>1</th>\n",
       "      <td>Decision Trees</td>\n",
       "      <td>0.752716</td>\n",
       "    </tr>\n",
       "    <tr>\n",
       "      <th>2</th>\n",
       "      <td>K-Nearest Neighbors</td>\n",
       "      <td>0.765006</td>\n",
       "    </tr>\n",
       "    <tr>\n",
       "      <th>3</th>\n",
       "      <td>Naive Bayes</td>\n",
       "      <td>0.722540</td>\n",
       "    </tr>\n",
       "    <tr>\n",
       "      <th>4</th>\n",
       "      <td>Support Vector Machine</td>\n",
       "      <td>0.753361</td>\n",
       "    </tr>\n",
       "    <tr>\n",
       "      <th>5</th>\n",
       "      <td>Random Forest</td>\n",
       "      <td>0.829156</td>\n",
       "    </tr>\n",
       "    <tr>\n",
       "      <th>6</th>\n",
       "      <td>Gradient Boosting</td>\n",
       "      <td>0.830140</td>\n",
       "    </tr>\n",
       "    <tr>\n",
       "      <th>7</th>\n",
       "      <td>XG Boosting</td>\n",
       "      <td>0.828527</td>\n",
       "    </tr>\n",
       "  </tbody>\n",
       "</table>\n",
       "</div>"
      ],
      "text/plain": [
       "                   Models    Scores\n",
       "0     Logistic Regression  0.801723\n",
       "1          Decision Trees  0.752716\n",
       "2     K-Nearest Neighbors  0.765006\n",
       "3             Naive Bayes  0.722540\n",
       "4  Support Vector Machine  0.753361\n",
       "5           Random Forest  0.829156\n",
       "6       Gradient Boosting  0.830140\n",
       "7             XG Boosting  0.828527"
      ]
     },
     "execution_count": 132,
     "metadata": {},
     "output_type": "execute_result"
    }
   ],
   "source": [
    "# Creating a dataframe \"models\" taking Models and respective scores from \"models_with_scores\" dictionary\n",
    "models = pd.DataFrame({'Models': [key for key in models_with_scores],\n",
    "                       'Scores': [models_with_scores[key] for key in models_with_scores]})\n",
    "\n",
    "models"
   ]
  },
  {
   "cell_type": "markdown",
   "id": "95c33962",
   "metadata": {},
   "source": [
    "* <font size = \"3\">In above, all the **models** trained are displayed and also their **accuracy scores**.</font>\n",
    "* <font size = \"3\">Now to get the **best** model, **\"models\"** dataframe is going to be arranged in **descending order**.</font>"
   ]
  },
  {
   "cell_type": "code",
   "execution_count": 133,
   "id": "3125f36f",
   "metadata": {},
   "outputs": [
    {
     "data": {
      "text/html": [
       "<div>\n",
       "<style scoped>\n",
       "    .dataframe tbody tr th:only-of-type {\n",
       "        vertical-align: middle;\n",
       "    }\n",
       "\n",
       "    .dataframe tbody tr th {\n",
       "        vertical-align: top;\n",
       "    }\n",
       "\n",
       "    .dataframe thead th {\n",
       "        text-align: right;\n",
       "    }\n",
       "</style>\n",
       "<table border=\"1\" class=\"dataframe\">\n",
       "  <thead>\n",
       "    <tr style=\"text-align: right;\">\n",
       "      <th></th>\n",
       "      <th>Models</th>\n",
       "      <th>Scores</th>\n",
       "    </tr>\n",
       "  </thead>\n",
       "  <tbody>\n",
       "    <tr>\n",
       "      <th>6</th>\n",
       "      <td>Gradient Boosting</td>\n",
       "      <td>0.830140</td>\n",
       "    </tr>\n",
       "    <tr>\n",
       "      <th>5</th>\n",
       "      <td>Random Forest</td>\n",
       "      <td>0.829156</td>\n",
       "    </tr>\n",
       "    <tr>\n",
       "      <th>7</th>\n",
       "      <td>XG Boosting</td>\n",
       "      <td>0.828527</td>\n",
       "    </tr>\n",
       "    <tr>\n",
       "      <th>0</th>\n",
       "      <td>Logistic Regression</td>\n",
       "      <td>0.801723</td>\n",
       "    </tr>\n",
       "    <tr>\n",
       "      <th>2</th>\n",
       "      <td>K-Nearest Neighbors</td>\n",
       "      <td>0.765006</td>\n",
       "    </tr>\n",
       "    <tr>\n",
       "      <th>4</th>\n",
       "      <td>Support Vector Machine</td>\n",
       "      <td>0.753361</td>\n",
       "    </tr>\n",
       "    <tr>\n",
       "      <th>1</th>\n",
       "      <td>Decision Trees</td>\n",
       "      <td>0.752716</td>\n",
       "    </tr>\n",
       "    <tr>\n",
       "      <th>3</th>\n",
       "      <td>Naive Bayes</td>\n",
       "      <td>0.722540</td>\n",
       "    </tr>\n",
       "  </tbody>\n",
       "</table>\n",
       "</div>"
      ],
      "text/plain": [
       "                   Models    Scores\n",
       "6       Gradient Boosting  0.830140\n",
       "5           Random Forest  0.829156\n",
       "7             XG Boosting  0.828527\n",
       "0     Logistic Regression  0.801723\n",
       "2     K-Nearest Neighbors  0.765006\n",
       "4  Support Vector Machine  0.753361\n",
       "1          Decision Trees  0.752716\n",
       "3             Naive Bayes  0.722540"
      ]
     },
     "execution_count": 133,
     "metadata": {},
     "output_type": "execute_result"
    }
   ],
   "source": [
    "# Arranging \"models\" dataframe in descending order\n",
    "models.sort_values(by = 'Scores', ascending = False)"
   ]
  },
  {
   "cell_type": "markdown",
   "id": "72d3667a",
   "metadata": {},
   "source": [
    "* <font size = \"3\">From above the inferences are :-\n",
    "    * <span style = \"color : purple\">**Model 7**</span> which was trained using <span style = \"color : green\">***Gradient Boosting***</span> is  giving the **highest accuracy** which is **83.01%**.\n",
    "    * <span style = \"color : purple\">**Model 4**</span> which was trained using <span style = \"color : green\">***Naive Bayes***</span> is giving the **lowest accuracy** which is **72.25%**.</font>      "
   ]
  },
  {
   "cell_type": "markdown",
   "id": "1a82c4c3",
   "metadata": {},
   "source": [
    "***"
   ]
  },
  {
   "cell_type": "markdown",
   "id": "893be1ff",
   "metadata": {},
   "source": [
    "# <span style = \"color : blue\">Metrics for Model Evaluation</span>"
   ]
  },
  {
   "cell_type": "markdown",
   "id": "5bdb52ab",
   "metadata": {},
   "source": [
    "* <font size = \"3\">Apart from **accuracy**, there are other **parameters** as well which are **crucial** for **model evaluation**.</font>"
   ]
  },
  {
   "cell_type": "markdown",
   "id": "d067df3e",
   "metadata": {},
   "source": [
    "* <font size = \"3\">Now, no. of **correct** predictions and no. of **wrong** predictions are going to be checked with the help of <span style =  \"color : green\">**Confusion Matrix**</span>.</font>"
   ]
  },
  {
   "cell_type": "markdown",
   "id": "31c74362",
   "metadata": {},
   "source": [
    "## Confusion Matrix"
   ]
  },
  {
   "cell_type": "markdown",
   "id": "1834a44a",
   "metadata": {},
   "source": [
    "* <font size = \"3\">In this case, the <span style = \"color : green\">**Confusion Matrix**</span> will be **plotted** for the **best model**(according to **accuracy**) i.e. <span style = \"color : purple\">**Model 7**</span> which was trained using <span style = \"color : green\">***Gradient Boosting***</span>.</font> "
   ]
  },
  {
   "cell_type": "code",
   "execution_count": 134,
   "id": "c7d8923e",
   "metadata": {},
   "outputs": [
    {
     "data": {
      "text/plain": [
       "array([[1414,  328],\n",
       "       [ 261, 1346]], dtype=int64)"
      ]
     },
     "execution_count": 134,
     "metadata": {},
     "output_type": "execute_result"
    }
   ],
   "source": [
    "# importing confusion_matrix\n",
    "from sklearn.metrics import confusion_matrix\n",
    "\n",
    "cm = confusion_matrix(y_test, gb_pred)    #  confusion_matrix takes test output data and predicted value as parameters\n",
    "cm"
   ]
  },
  {
   "cell_type": "markdown",
   "id": "21edfe33",
   "metadata": {},
   "source": [
    "## Visualizing the Confusion Matrix Using Heatmap"
   ]
  },
  {
   "cell_type": "markdown",
   "id": "7ac22aa4",
   "metadata": {},
   "source": [
    "* <font size = \"3\">Through <span style = \"color : purple\">**Heatmap**</span>, it will be clearly visible how many **correct** predictions and **wrong** predictions are made.</font>"
   ]
  },
  {
   "cell_type": "code",
   "execution_count": 135,
   "id": "e51ccc5c",
   "metadata": {},
   "outputs": [
    {
     "data": {
      "image/png": "[encoded data removed]",
      "text/plain": [
       "<Figure size 432x288 with 2 Axes>"
      ]
     },
     "metadata": {
      "needs_background": "light"
     },
     "output_type": "display_data"
    }
   ],
   "source": [
    "sns.heatmap(cm, annot = True, cmap = 'viridis')    # Plotting Heatmap\n",
    "plt.title(\"Confusion Matrix\")                   # Naming title of the plot\n",
    "plt.ylabel(\"Predicted value\")                # Labeling Y axis as \"Predicted value\"\n",
    "plt.xlabel(\"Actual value\")                 # Labeling X axis as \"Actual value\"\n",
    "plt.show()"
   ]
  },
  {
   "cell_type": "markdown",
   "id": "153f9337",
   "metadata": {},
   "source": [
    "* <font size = \"3\">There are **two** kinds of values, which are :-</font>\n",
    "    *  <font size = \"3\">**Positive** value</font>\n",
    "    *  <font size = \"3\">**Negative** value</font>\n",
    "\n",
    "\n",
    "* <font size = \"3\">In this case, **positive** value is **1** while **negative** value is **0**.</font>"
   ]
  },
  {
   "cell_type": "markdown",
   "id": "72753f80",
   "metadata": {},
   "source": [
    "* <font size = \"3\">There are **four** elements of <span style = \"color : green\">**Confusion Matrix**</span> :-</font>\n",
    "    * <font size = \"3\"><span style = \"color : blue\">**TP**</span>(**True positive**) :- It means the **predicted** and **actual** values are **positive**. In this case, it can be said that the **actual** value is **1** and **model** has also **predicted** as **1**.</font>\n",
    "    * <font size = \"3\"><span style = \"color : blue\">**TN**</span>(**True negative**) :- It means the **predicted** and **actual** values are **negative**. In this case, it can be said that the **actual** value is **0** and **model** has also **predicted** as **0**.</font>\n",
    "    * <font size = \"3\"><span style = \"color : blue\">**FP**</span>(**False positive**) :- It means the **predicted** value is **positive** and **actual** value is **negative**. In this case, it can be said that the **actual** value is **0** and **model** has **predicted** as **1**.</font>\n",
    "    * <font size = \"3\"><span style = \"color : blue\">**FN**</span>(**False negative**) :- It means the **predicted** value is **negative** and **actual** value is **positive**. In this case, it can be said that the **actual** value is **1** and **model** has **predicted** as **0**.</font>"
   ]
  },
  {
   "cell_type": "markdown",
   "id": "d1c9a94c",
   "metadata": {},
   "source": [
    "* <font size = \"3\">All the above **four** elements are going to be **evaluated** in next step.</font>"
   ]
  },
  {
   "cell_type": "code",
   "execution_count": 136,
   "id": "a33d4ca8",
   "metadata": {},
   "outputs": [],
   "source": [
    "TP = cm[1,1] # true positive \n",
    "TN = cm[0,0] # true negatives\n",
    "FP = cm[0,1] # false positives\n",
    "FN = cm[1,0] # false negatives"
   ]
  },
  {
   "cell_type": "code",
   "execution_count": 137,
   "id": "0e3282f2",
   "metadata": {},
   "outputs": [
    {
     "data": {
      "text/plain": [
       "1346"
      ]
     },
     "execution_count": 137,
     "metadata": {},
     "output_type": "execute_result"
    }
   ],
   "source": [
    "TP    # calculating true positives"
   ]
  },
  {
   "cell_type": "markdown",
   "id": "907252db",
   "metadata": {},
   "source": [
    "* <font size = \"3\">Hence, the number of **clients** who have **subscribed** a term **deposit** and the **model** which **predicted** the same are **1346**. </font>"
   ]
  },
  {
   "cell_type": "code",
   "execution_count": 138,
   "id": "af265ab6",
   "metadata": {},
   "outputs": [
    {
     "data": {
      "text/plain": [
       "1414"
      ]
     },
     "execution_count": 138,
     "metadata": {},
     "output_type": "execute_result"
    }
   ],
   "source": [
    "TN    # calculating true negatives"
   ]
  },
  {
   "cell_type": "markdown",
   "id": "81968a8c",
   "metadata": {},
   "source": [
    "* <font size = \"3\">Hence, the number of **clients** who do not have **subscribed** a term **deposit** and the **model** which **predicted** the same are **1414**. </font>"
   ]
  },
  {
   "cell_type": "code",
   "execution_count": 139,
   "id": "431e940d",
   "metadata": {},
   "outputs": [
    {
     "data": {
      "text/plain": [
       "328"
      ]
     },
     "execution_count": 139,
     "metadata": {},
     "output_type": "execute_result"
    }
   ],
   "source": [
    "FP    # calculating false positives"
   ]
  },
  {
   "cell_type": "markdown",
   "id": "2a5a31f4",
   "metadata": {},
   "source": [
    "* <font size = \"3\">Hence, the number of **clients** who do not have **subscribed** a term **deposit** but the **model** **predicted** that they have **subscribed** are **328**. </font>"
   ]
  },
  {
   "cell_type": "code",
   "execution_count": 140,
   "id": "027fd428",
   "metadata": {},
   "outputs": [
    {
     "data": {
      "text/plain": [
       "261"
      ]
     },
     "execution_count": 140,
     "metadata": {},
     "output_type": "execute_result"
    }
   ],
   "source": [
    "FN    # calculating false negatives"
   ]
  },
  {
   "cell_type": "markdown",
   "id": "e8b034c5",
   "metadata": {},
   "source": [
    "* <font size = \"3\">Hence, the number of **clients** who have **subscribed** a term **deposit** but the **model** **predicted** that they haven't **subscribed** are **328**. </font>"
   ]
  },
  {
   "cell_type": "markdown",
   "id": "fb93f84f",
   "metadata": {},
   "source": [
    "## Analysis of Above Result"
   ]
  },
  {
   "cell_type": "markdown",
   "id": "1ecfcb8d",
   "metadata": {},
   "source": [
    "* <font size = \"3\">From the above, it is understandable that there are two types of wrong prediction :-</font>\n",
    "    * <font size = \"3\">**False Positive**, means the **client** do **not subscribed** to term **deposit**, but the **model** thinks he did.</font>\n",
    "    * <font size = \"3\">**False Negative**, means the **client** **subscribed** to term **deposit**, but the **model** said he dont.</font>"
   ]
  },
  {
   "cell_type": "markdown",
   "id": "a800d029",
   "metadata": {},
   "source": [
    "* <font size = \"3\">It is believed that,</font>\n",
    "     * <font size = \"3\">The **first** one i.e. <span style = \"color : purple\">**False Positive**</span> is **most harmful**, because the **bank** think that they already have that **client** but they don't and maybe **bank** **lost** him in other **future campaings**.</font>\n",
    "     * <font size = \"3\">The **second** one i.e. <span style = \"color : purple\">**False Negative**</span> is **not good** but it is **better** than the **first** one, **bank** have that **client** and in the future the **bank** will discover that in reality he is already the **bank's client**.</font>"
   ]
  },
  {
   "cell_type": "markdown",
   "id": "b20cf2cd",
   "metadata": {},
   "source": [
    "* <font size = \"3\">Now, like <span style = \"color : green\">**Accuracy**</span> there are some more **parameters** which are used to **evaluate** the **performance** of **model**.</font>"
   ]
  },
  {
   "cell_type": "markdown",
   "id": "ea5cf312",
   "metadata": {},
   "source": [
    "## Sensitivity (Recall)"
   ]
  },
  {
   "cell_type": "markdown",
   "id": "0a576afc",
   "metadata": {},
   "source": [
    "* <font size = \"3\">It is the **percentage** of **correct prediction** of **positive** value if **actual** output is **positive**.</font> \n",
    "* <font size = \"3\">In other words, it could be said that <span style = \"color : green\">**sensitivity**</span> is the **ratio** of **true positives**(<span style = \"color : purple\">**TP**</span>) with the **sum** of **true positives**(<span style = \"color : purple\">**TP**</span>) and **false negatives**(<span style = \"color : purple\">**FN**</span>).</font>"
   ]
  },
  {
   "cell_type": "code",
   "execution_count": 161,
   "id": "2c58e4b6",
   "metadata": {},
   "outputs": [
    {
     "name": "stdout",
     "output_type": "stream",
     "text": [
      "Sensitivity of model 1: 0.7747355320472931\n",
      "Sensitivity of model 2: 0.747355320472931\n",
      "Sensitivity of model 3: 0.731176104542626\n",
      "Sensitivity of model 4: 0.5731176104542626\n",
      "Sensitivity of model 5: 0.7069072806471687\n",
      "Sensitivity of model 6: 0.8332296204107031\n",
      "Sensitivity of model 7: 0.8375855631611698\n",
      "Sensitivity of model 8: 0.8462974486621033\n"
     ]
    }
   ],
   "source": [
    "# Sensitivity of all models\n",
    "print(\"Sensitivity of model 1:\", metrics.recall_score(y_test, log_pred))\n",
    "print(\"Sensitivity of model 2:\", metrics.recall_score(y_test, dtree_pred))\n",
    "print(\"Sensitivity of model 3:\", metrics.recall_score(y_test, knn_pred))\n",
    "print(\"Sensitivity of model 4:\", metrics.recall_score(y_test, nb_pred))\n",
    "print(\"Sensitivity of model 5:\", metrics.recall_score(y_test, svc_pred))\n",
    "print(\"Sensitivity of model 6:\", metrics.recall_score(y_test, randforest_pred))\n",
    "print(\"Sensitivity of model 7:\", metrics.recall_score(y_test, gb_pred))\n",
    "print(\"Sensitivity of model 8:\", metrics.recall_score(y_test, xgb_pred))"
   ]
  },
  {
   "cell_type": "markdown",
   "id": "6f25e6d9",
   "metadata": {},
   "source": [
    "* <font size = \"3\"><span style = \"color : purple\">**Sensitivity**</span> of **model 8** is **highest** which is **84.63%** and this **model** was **trained** under <span style = \"color : green\">**Extreme Gradient Boosting**</span>.</font>"
   ]
  },
  {
   "cell_type": "markdown",
   "id": "ae7e33b9",
   "metadata": {},
   "source": [
    "* <font size = \"3\">It means that out of **100%** data which shows that **client** have **subscribed** term **deposit**, **84.63%** data has been **predicted** same by the <span style = \"color : green\">**Extreme Gradient Boosting**</span> **model**.</font>"
   ]
  },
  {
   "cell_type": "markdown",
   "id": "c547927c",
   "metadata": {},
   "source": [
    "## Precision"
   ]
  },
  {
   "cell_type": "markdown",
   "id": "ba107b2e",
   "metadata": {},
   "source": [
    "* <font size = \"3\">It is the **percentage** of **actual** output as **positive** value in the total **prediction** of **positive** value.</font> \n",
    "* <font size = \"3\">In other words, it could be said that <span style = \"color : green\">**precision**</span> is the **ratio** of **true positives**(<span style = \"color : purple\">**TP**</span>) with the **sum** of **true positives**(<span style = \"color : purple\">**TP**</span>) and **false positives**(<span style = \"color : purple\">**FP**</span>).</font>"
   ]
  },
  {
   "cell_type": "code",
   "execution_count": 162,
   "id": "13532200",
   "metadata": {},
   "outputs": [
    {
     "name": "stdout",
     "output_type": "stream",
     "text": [
      "Precision of model 1: 0.8068697342838627\n",
      "Precision of model 2: 0.7567737870195337\n",
      "Precision of model 3: 0.7659713168187744\n",
      "Precision of model 4: 0.8071866783523225\n",
      "Precision of model 5: 0.7498349834983499\n",
      "Precision of model 6: 0.7984496124031008\n",
      "Precision of model 7: 0.8040621266427718\n",
      "Precision of model 8: 0.8061647895672792\n"
     ]
    }
   ],
   "source": [
    "# Precision of all models\n",
    "print(\"Precision of model 1:\", metrics.precision_score(y_test, log_pred))\n",
    "print(\"Precision of model 2:\", metrics.precision_score(y_test, dtree_pred))\n",
    "print(\"Precision of model 3:\", metrics.precision_score(y_test, knn_pred))\n",
    "print(\"Precision of model 4:\", metrics.precision_score(y_test, nb_pred))\n",
    "print(\"Precision of model 5:\", metrics.precision_score(y_test, svc_pred))\n",
    "print(\"Precision of model 6:\", metrics.precision_score(y_test, randforest_pred))\n",
    "print(\"Precision of model 7:\", metrics.precision_score(y_test, gb_pred))\n",
    "print(\"Precision of model 8:\", metrics.precision_score(y_test, xgb_pred))"
   ]
  },
  {
   "cell_type": "markdown",
   "id": "c53bca2e",
   "metadata": {},
   "source": [
    "* <font size = \"3\"><span style = \"color : purple\">**Precision**</span> of **model 4** is **highest** which is **80.72%** and this **model** was **trained** under <span style = \"color : green\">**Naive Bayes**</span>.</font>"
   ]
  },
  {
   "cell_type": "markdown",
   "id": "400a44b9",
   "metadata": {},
   "source": [
    "* <font size = \"3\">It means that out of **100%** data which the <span style = \"color : green\">**Naive Bayes**</span> **model predicts** that **client subscribed** term **deposit**, **80.72%** data is showing **actually** that **client subscribed** term **deposit**.</font>"
   ]
  },
  {
   "cell_type": "markdown",
   "id": "bb9f4832",
   "metadata": {},
   "source": [
    "## Specificity"
   ]
  },
  {
   "cell_type": "markdown",
   "id": "9ac046b8",
   "metadata": {},
   "source": [
    "* <font size = \"3\">It is the **percentage** of **correct prediction** of **negative** value if **actual** output is **negative** value.</font> \n",
    "* <font size = \"3\">In other words, it could be said that <span style = \"color : green\">**specificity**</span> is the **ratio** of **true negatives**(<span style = \"color : purple\">**TN**</span>) with the **sum** of **true negatives**(<span style = \"color : purple\">**TN**</span>) and **false positives**(<span style = \"color : purple\">**FP**</span>).</font>"
   ]
  },
  {
   "cell_type": "code",
   "execution_count": 170,
   "id": "93db400d",
   "metadata": {},
   "outputs": [
    {
     "name": "stdout",
     "output_type": "stream",
     "text": [
      "Specificity of model 1: 0.8289322617680827\n",
      "Specificity of model 2: 0.7784156142365097\n",
      "Specificity of model 3: 0.7939150401836969\n",
      "Specificity of model 4: 0.8737083811710677\n",
      "Specificity of model 5: 0.7824339839265212\n",
      "Specificity of model 6: 0.8059701492537313\n",
      "Specificity of model 7: 0.8117106773823192\n",
      "Specificity of model 8: 0.812284730195178\n"
     ]
    }
   ],
   "source": [
    "# Specificity of all models(TN / (TN + FP))\n",
    "print(\"Specificity of model 1:\", confusion_matrix(y_test, log_pred)[0,0] / \n",
    "                                     (confusion_matrix(y_test, log_pred)[0,0] + confusion_matrix(y_test, log_pred)[0,1]))\n",
    "print(\"Specificity of model 2:\", confusion_matrix(y_test, dtree_pred)[0,0] / \n",
    "                                     (confusion_matrix(y_test, dtree_pred)[0,0] + confusion_matrix(y_test, dtree_pred)[0,1]))\n",
    "print(\"Specificity of model 3:\", confusion_matrix(y_test, knn_pred)[0,0] / \n",
    "                                     (confusion_matrix(y_test, knn_pred)[0,0] + confusion_matrix(y_test, knn_pred)[0,1]))\n",
    "print(\"Specificity of model 4:\", confusion_matrix(y_test, nb_pred)[0,0] / \n",
    "                                     (confusion_matrix(y_test, nb_pred)[0,0] + confusion_matrix(y_test, nb_pred)[0,1]))\n",
    "print(\"Specificity of model 5:\", confusion_matrix(y_test, svc_pred)[0,0] / \n",
    "                                     (confusion_matrix(y_test, svc_pred)[0,0] + confusion_matrix(y_test, svc_pred)[0,1]))\n",
    "print(\"Specificity of model 6:\", confusion_matrix(y_test, randforest_pred)[0,0] / \n",
    "                                     (confusion_matrix(y_test, randforest_pred)[0,0] + confusion_matrix(y_test, randforest_pred)[0,1]))\n",
    "print(\"Specificity of model 7:\", confusion_matrix(y_test, gb_pred)[0,0] / \n",
    "                                     (confusion_matrix(y_test, gb_pred)[0,0] + confusion_matrix(y_test, gb_pred)[0,1]))\n",
    "print(\"Specificity of model 8:\", confusion_matrix(y_test, xgb_pred)[0,0] / \n",
    "                                     (confusion_matrix(y_test, xgb_pred)[0,0] + confusion_matrix(y_test, xgb_pred)[0,1]))"
   ]
  },
  {
   "cell_type": "markdown",
   "id": "862b73e8",
   "metadata": {},
   "source": [
    "* <font size = \"3\"><span style = \"color : purple\">**Specificity**</span> of **model 4** is **highest** which is **87.37%** and this **model** was **trained** under <span style = \"color : green\">**Naive Bayes**</span>.</font>"
   ]
  },
  {
   "cell_type": "markdown",
   "id": "b640d7a1",
   "metadata": {},
   "source": [
    "* <font size = \"3\">It means that out of **100%** data which shows that **client** do **not have subscribed** term **deposit**, **87.37%** data the **model** has **predicted** it same.</font>"
   ]
  },
  {
   "cell_type": "markdown",
   "id": "b4f2df79",
   "metadata": {},
   "source": [
    "## Plotting ROC Curve"
   ]
  },
  {
   "cell_type": "markdown",
   "id": "b6d8366d",
   "metadata": {},
   "source": [
    "* <font size = \"3\">An <span style = \"color : green\">**ROC curve**</span> demonstrates several things:</font>\n",
    "\n",
    "- <font size = \"3\">It shows the **tradeoff** between <span style = \"color : purple\">**sensitivity**</span> and <span style = \"color : purple\">**specificity**</span> (any **increase** in <span style = \"color : purple\">**sensitivity**</span> will be accompanied by a **decrease** in <span style = \"color : purple\">**specificity**</span>).</font>\n",
    "- <font size = \"3\">The **closer** the **curve** follows the **left-hand border** and then the **top border** of the <span style = \"color : green\">**ROC**</span> space, the **more accurate** the test.</font>\n",
    "- <font size = \"3\">The **closer** the **curve** comes to the **45-degree diagonal** of the <span style = \"color : green\">**ROC**</span> space, the **less accurate** the test.</font>"
   ]
  },
  {
   "cell_type": "markdown",
   "id": "9f8005ca",
   "metadata": {},
   "source": [
    "* <font size = \"3\">In <span style = \"color : green\">**ROC curve**</span>, an important **parameter** is going to be **evaluated** i.e. <span style = \"color : purple\">**AUC**</span>(**Area under curve**).</font>\n",
    "* <font size = \"3\">**More** the value of <span style = \"color : purple\">**AUC**</span>, **more accurate** is the test and vice-versa.</font>\n",
    "* <font size = \"3\">The <span style = \"color : green\">**ROC curve**</span> is going to be **plotted** for all **models**.</font>"
   ]
  },
  {
   "cell_type": "code",
   "execution_count": 144,
   "id": "5eea865a",
   "metadata": {},
   "outputs": [],
   "source": [
    "from sklearn import metrics            # Importing metrics\n",
    "\n",
    "# Making function for plotting \"ROC curve\" which takes \"algorithm\" and \"model\" as parameters\n",
    "def roc_curve(algorithm, model):\n",
    "    y_pred_proba = model.predict_proba(X_test)[:,1]     # returns an array of lists containing the class probabilities for the input data points.\n",
    "    fpr, tpr, threshold = metrics.roc_curve(y_test, y_pred_proba)    # calculating \"false-positive\" rate, \"true-positive\" rate and \"threshold\"    \n",
    "    auc = metrics.roc_auc_score(y_test, y_pred_proba)           # calculating auc(area under curve)\n",
    "\n",
    "    plt.plot(fpr, tpr, 'b', label = 'AUC = %0.2f' % auc)         # plotting \"ROC curve\" having \"True positive\" rate v/s \"False positive rate\" \n",
    "    plt.plot([0, 1], [0, 1],'r--')                             # plotting 45-degree diagonal\n",
    "    plt.title('Receiver Operating Characteristic ' + algorithm, fontsize=10)    # Setting title for the graph\n",
    "    plt.ylabel('True Positive Rate', fontsize=20)        #  Naming Y-axis as \"True Positive\" rate\n",
    "    plt.xlabel('False Positive Rate',fontsize=15)        #  Naming X-axis as \"False Positive\" rate\n",
    "    plt.legend(loc = 'lower right', prop = {'size': 16})      \n",
    "    plt.show()"
   ]
  },
  {
   "cell_type": "markdown",
   "id": "ee7829f0",
   "metadata": {},
   "source": [
    "* <font size = \"3\">Now, the above **function** will be called for **plotting** <span style = \"color : green\">**ROC curve**</span> for every **models**.</font>"
   ]
  },
  {
   "cell_type": "code",
   "execution_count": 146,
   "id": "779a7edf",
   "metadata": {},
   "outputs": [
    {
     "data": {
      "image/png": "[encoded data removed]",
      "text/plain": [
       "<Figure size 432x288 with 1 Axes>"
      ]
     },
     "metadata": {
      "needs_background": "light"
     },
     "output_type": "display_data"
    }
   ],
   "source": [
    "# ROC curve for \"log_model\"\n",
    "roc_curve('Logistic Regression', log_model)"
   ]
  },
  {
   "cell_type": "code",
   "execution_count": 150,
   "id": "25f847f2",
   "metadata": {},
   "outputs": [
    {
     "data": {
      "image/png": "[encoded data removed]",
      "text/plain": [
       "<Figure size 432x288 with 1 Axes>"
      ]
     },
     "metadata": {
      "needs_background": "light"
     },
     "output_type": "display_data"
    }
   ],
   "source": [
    "# ROC curve for \"dtree_model\"\n",
    "roc_curve('Decision Tree', dtree_model)"
   ]
  },
  {
   "cell_type": "code",
   "execution_count": 151,
   "id": "ec1f510b",
   "metadata": {},
   "outputs": [
    {
     "data": {
      "image/png": "[encoded data removed]",
      "text/plain": [
       "<Figure size 432x288 with 1 Axes>"
      ]
     },
     "metadata": {
      "needs_background": "light"
     },
     "output_type": "display_data"
    }
   ],
   "source": [
    "# ROC curve for \"knn_model\"\n",
    "roc_curve('K-Nearest Neighbors', knn_model)"
   ]
  },
  {
   "cell_type": "code",
   "execution_count": 152,
   "id": "4b50d58a",
   "metadata": {},
   "outputs": [
    {
     "data": {
      "image/png": "[encoded data removed]",
      "text/plain": [
       "<Figure size 432x288 with 1 Axes>"
      ]
     },
     "metadata": {
      "needs_background": "light"
     },
     "output_type": "display_data"
    }
   ],
   "source": [
    "# ROC curve for \"nb_model\"\n",
    "roc_curve('Naive Bayes', nb_model)"
   ]
  },
  {
   "cell_type": "code",
   "execution_count": 153,
   "id": "db341df0",
   "metadata": {},
   "outputs": [
    {
     "data": {
      "image/png": "[encoded data removed]",
      "text/plain": [
       "<Figure size 432x288 with 1 Axes>"
      ]
     },
     "metadata": {
      "needs_background": "light"
     },
     "output_type": "display_data"
    }
   ],
   "source": [
    "# ROC curve for \"randforest_model\"\n",
    "roc_curve('Random Forest', randforest_model)"
   ]
  },
  {
   "cell_type": "code",
   "execution_count": 154,
   "id": "d30b24ae",
   "metadata": {},
   "outputs": [
    {
     "data": {
      "image/png": "[encoded data removed]",
      "text/plain": [
       "<Figure size 432x288 with 1 Axes>"
      ]
     },
     "metadata": {
      "needs_background": "light"
     },
     "output_type": "display_data"
    }
   ],
   "source": [
    "# ROC curve for \"gb_model\"\n",
    "roc_curve('Gradient Boosting', gb_model)"
   ]
  },
  {
   "cell_type": "code",
   "execution_count": 155,
   "id": "2c9783c4",
   "metadata": {
    "scrolled": true
   },
   "outputs": [
    {
     "data": {
      "image/png": "[encoded data removed]",
      "text/plain": [
       "<Figure size 432x288 with 1 Axes>"
      ]
     },
     "metadata": {
      "needs_background": "light"
     },
     "output_type": "display_data"
    }
   ],
   "source": [
    "# ROC curve for \"xgb_model\"\n",
    "roc_curve('XG Boosting', xgb_model)"
   ]
  },
  {
   "cell_type": "markdown",
   "id": "9df6eca1",
   "metadata": {},
   "source": [
    "* <font size = \"3\">The above **function** will not work for **plotting** <span style = \"color : purple\">**ROC curve**</span> of the **model** trained using <span style = \"color : green\">**Support Vector Machines**</span>. It is because <span style = \"color : purple\">**\"pred_proba\"**</span> **function** doesn't work for <span style = \"color : green\">**SVM**</span> as **probability** is not the **estimator** in <span style = \"color : green\">**SVM**</span>.</font>\n",
    "* <font size = \"3\">Hence, the method of **plotting** <span style = \"color : purple\">**ROC curve**</span> for <span style = \"color : green\">**SVM**</span> is different which is **implemented** below.</font>"
   ]
  },
  {
   "cell_type": "code",
   "execution_count": 158,
   "id": "57d9342b",
   "metadata": {},
   "outputs": [
    {
     "data": {
      "image/png": "[encoded data removed]",
      "text/plain": [
       "<Figure size 432x288 with 1 Axes>"
      ]
     },
     "metadata": {
      "needs_background": "light"
     },
     "output_type": "display_data"
    }
   ],
   "source": [
    "# ROC curve for \"svc_model\"\n",
    "metrics.plot_roc_curve(svc_model, X_test, y_test)\n",
    "plt.plot([0, 1], [0, 1],'r--')\n",
    "plt.title('Receiver Operating Characteristic Support Vector Machine', fontsize=10)\n",
    "plt.ylabel('True Positive Rate', fontsize=20)\n",
    "plt.xlabel('False Positive Rate',fontsize=15)\n",
    "plt.legend(loc = 'lower right', prop = {'size': 16})\n",
    "plt.show()"
   ]
  },
  {
   "cell_type": "markdown",
   "id": "a092796a",
   "metadata": {},
   "source": [
    "* <font size = \"3\">From all the <span style = \"color : purple\">**ROCs**</span> **plotted** above, the **highest** <span style = \"color : purple\">**AUC**</span> is **0.90** (which is **brilliant**) and it has come for **two models** which are **trained** under <span style = \"color : green\">**Gradient Boosting**</span> and <span style = \"color : green\">**Extreme Gradient Boosting**</span>.</font> \n",
    "* <font size = \"3\">It means that these **two models** have performed the **best** at **distinguishing** between the **positive** and **negative** classes.</font>"
   ]
  },
  {
   "cell_type": "markdown",
   "id": "a4a26a5a",
   "metadata": {},
   "source": [
    "## Classification Report"
   ]
  },
  {
   "cell_type": "markdown",
   "id": "afba65b3",
   "metadata": {},
   "source": [
    "* <font size = \"3\">Apart from <span style = \"color : green\">**Confusion Matrix**</span>, <span style = \"color : green\">**Classification Report**</span> is also a **performance evaluation metrics**.</font>\n",
    "* <font size = \"3\">It is used to show the <span style = \"color : purple\">**precision**</span>, <span style = \"color : purple\">**recall**</span>, <span style = \"color : purple\">**F1 Score**</span>, and <span style = \"color : purple\">**support**</span> of the **trained classification model**.</font>"
   ]
  },
  {
   "cell_type": "markdown",
   "id": "a08dcaf6",
   "metadata": {},
   "source": [
    "* <font size = \"3\"><span style = \"color : purple\">**F1 Score**</span> is the **weighted harmonic mean** of <span style = \"color : purple\">**precision**</span> and <span style = \"color : purple\">**recall**</span>.</font>\n",
    "* <font size = \"3\"><span style = \"color : purple\">**F1 Score**</span> tells about the **overall performance** of the **model**.</font>\n",
    "* <font size = \"3\">The **closer** the value of the <span style = \"color : purple\">**F1 score**</span> is to **1.0**, the **better** the **expected performance** of the **model** is.</font>"
   ]
  },
  {
   "cell_type": "markdown",
   "id": "1eed559d",
   "metadata": {},
   "source": [
    "* <font size = \"3\"><span style = \"color : purple\">**Support**</span> is the number of **actual occurrences** of the **class** in the dataset.</font>\n",
    "* <font size = \"3\">It doesn’t vary between **models**, it just **diagnoses** the **performance evaluation process**.</font>"
   ]
  },
  {
   "cell_type": "markdown",
   "id": "aa979c45",
   "metadata": {},
   "source": [
    "* <font size = \"3\">Here, the **models** for which <span style = \"color : green\">**classification report**</span> chart will be made are the ones who have given **best** <span style = \"color : purple\">**precision**</span> **scores** and <span style = \"color : purple\">**recall**</span> **scores**.</font>\n",
    "* <font size = \"3\">The <span style = \"color : green\">**Extreme Gradient Boosting**</span> **model** gave the **best** <span style = \"color : purple\">**recall**</span> **score** and the <span style = \"color : green\">**Naive Bayes**</span> **model** gave the **best** <span style = \"color : purple\">**precision**</span> **score**.</font> \n",
    "* <font size = \"3\">Hence for these **two models**, <span style = \"color : green\">**Classification report**</span> chart will be made.</font>"
   ]
  },
  {
   "cell_type": "code",
   "execution_count": 171,
   "id": "3ac8df3f",
   "metadata": {},
   "outputs": [
    {
     "name": "stdout",
     "output_type": "stream",
     "text": [
      "              precision    recall  f1-score   support\n",
      "\n",
      "           0       0.85      0.81      0.83      1742\n",
      "           1       0.81      0.85      0.83      1607\n",
      "\n",
      "    accuracy                           0.83      3349\n",
      "   macro avg       0.83      0.83      0.83      3349\n",
      "weighted avg       0.83      0.83      0.83      3349\n",
      "\n"
     ]
    }
   ],
   "source": [
    "# Displaying \"classification report\" chart for \"xgb_model\"\n",
    "from sklearn.metrics import classification_report\n",
    "\n",
    "print(classification_report(y_test, xgb_pred))"
   ]
  },
  {
   "cell_type": "code",
   "execution_count": 176,
   "id": "e0ea2c11",
   "metadata": {},
   "outputs": [
    {
     "name": "stdout",
     "output_type": "stream",
     "text": [
      "              precision    recall  f1-score   support\n",
      "\n",
      "           0       0.69      0.87      0.77      1742\n",
      "           1       0.81      0.57      0.67      1607\n",
      "\n",
      "    accuracy                           0.73      3349\n",
      "   macro avg       0.75      0.72      0.72      3349\n",
      "weighted avg       0.75      0.73      0.72      3349\n",
      "\n"
     ]
    }
   ],
   "source": [
    "# Displaying \"classification report\" chart for \"nb_model\"\n",
    "print(classification_report(y_test, nb_pred))"
   ]
  },
  {
   "cell_type": "markdown",
   "id": "9273a5c9",
   "metadata": {},
   "source": [
    "* <font size = \"3\">The <span style = \"color : purple\">**recall**</span> for **class 1** is **less** (**0.57**) in case of <span style = \"color : green\">**Naive Bayes**</span> **model**, because of which <span style = \"color : purple\">**F1 score**</span> is **below decent**(**0.67**) even though <span style = \"color : purple\">**precision**</span> is **very good**.</font>\n",
    "* <font size = \"3\">Hence, others **models** should also be considered for making the <span style = \"color : purple\">**classification report**</span> chart.</font> "
   ]
  },
  {
   "cell_type": "code",
   "execution_count": 177,
   "id": "5d718293",
   "metadata": {},
   "outputs": [
    {
     "name": "stdout",
     "output_type": "stream",
     "text": [
      "              precision    recall  f1-score   support\n",
      "\n",
      "           0       0.80      0.83      0.81      1742\n",
      "           1       0.81      0.77      0.79      1607\n",
      "\n",
      "    accuracy                           0.80      3349\n",
      "   macro avg       0.80      0.80      0.80      3349\n",
      "weighted avg       0.80      0.80      0.80      3349\n",
      "\n"
     ]
    }
   ],
   "source": [
    "# Displaying \"classification report\" chart for \"log_model\"\n",
    "print(classification_report(y_test, log_pred))"
   ]
  },
  {
   "cell_type": "code",
   "execution_count": 178,
   "id": "33b3ab2f",
   "metadata": {},
   "outputs": [
    {
     "name": "stdout",
     "output_type": "stream",
     "text": [
      "              precision    recall  f1-score   support\n",
      "\n",
      "           0       0.77      0.78      0.77      1742\n",
      "           1       0.76      0.75      0.75      1607\n",
      "\n",
      "    accuracy                           0.76      3349\n",
      "   macro avg       0.76      0.76      0.76      3349\n",
      "weighted avg       0.76      0.76      0.76      3349\n",
      "\n"
     ]
    }
   ],
   "source": [
    "# Displaying \"classification report\" chart for \"dtree_model\"\n",
    "print(classification_report(y_test, dtree_pred))"
   ]
  },
  {
   "cell_type": "code",
   "execution_count": 179,
   "id": "c4ccffad",
   "metadata": {},
   "outputs": [
    {
     "name": "stdout",
     "output_type": "stream",
     "text": [
      "              precision    recall  f1-score   support\n",
      "\n",
      "           0       0.76      0.79      0.78      1742\n",
      "           1       0.77      0.73      0.75      1607\n",
      "\n",
      "    accuracy                           0.76      3349\n",
      "   macro avg       0.76      0.76      0.76      3349\n",
      "weighted avg       0.76      0.76      0.76      3349\n",
      "\n"
     ]
    }
   ],
   "source": [
    "# Displaying \"classification report\" chart for \"knn_model\"\n",
    "print(classification_report(y_test, knn_pred))"
   ]
  },
  {
   "cell_type": "code",
   "execution_count": 180,
   "id": "74f03039",
   "metadata": {},
   "outputs": [
    {
     "name": "stdout",
     "output_type": "stream",
     "text": [
      "              precision    recall  f1-score   support\n",
      "\n",
      "           0       0.74      0.78      0.76      1742\n",
      "           1       0.75      0.71      0.73      1607\n",
      "\n",
      "    accuracy                           0.75      3349\n",
      "   macro avg       0.75      0.74      0.75      3349\n",
      "weighted avg       0.75      0.75      0.75      3349\n",
      "\n"
     ]
    }
   ],
   "source": [
    "# Displaying \"classification report\" chart for \"svc_model\"\n",
    "print(classification_report(y_test, svc_pred))"
   ]
  },
  {
   "cell_type": "code",
   "execution_count": 181,
   "id": "b517284b",
   "metadata": {},
   "outputs": [
    {
     "name": "stdout",
     "output_type": "stream",
     "text": [
      "              precision    recall  f1-score   support\n",
      "\n",
      "           0       0.84      0.81      0.82      1742\n",
      "           1       0.80      0.83      0.82      1607\n",
      "\n",
      "    accuracy                           0.82      3349\n",
      "   macro avg       0.82      0.82      0.82      3349\n",
      "weighted avg       0.82      0.82      0.82      3349\n",
      "\n"
     ]
    }
   ],
   "source": [
    "# Displaying \"classification report\" chart for \"randforest_model\"\n",
    "print(classification_report(y_test, randforest_pred))"
   ]
  },
  {
   "cell_type": "code",
   "execution_count": 182,
   "id": "156c8fbb",
   "metadata": {},
   "outputs": [
    {
     "name": "stdout",
     "output_type": "stream",
     "text": [
      "              precision    recall  f1-score   support\n",
      "\n",
      "           0       0.84      0.81      0.83      1742\n",
      "           1       0.80      0.84      0.82      1607\n",
      "\n",
      "    accuracy                           0.82      3349\n",
      "   macro avg       0.82      0.82      0.82      3349\n",
      "weighted avg       0.82      0.82      0.82      3349\n",
      "\n"
     ]
    }
   ],
   "source": [
    "# Displaying \"classification report\" chart for \"gb_model\"\n",
    "print(classification_report(y_test, gb_pred))"
   ]
  },
  {
   "cell_type": "markdown",
   "id": "e335fdf6",
   "metadata": {},
   "source": [
    "* <font size = \"3\">From all the <span style = \"color : purple\">**classification reports**</span> above, it is clearly **visible** that <span style = \"color : blue\">**macro average**</span> and <span style = \"color : blue\">**weighted average**</span> of <span style = \"color : purple\">**F1 score**</span> is **highest** for <span style = \"color : green\">**Extreme Gradient Boosting**</span> **model** and i.e. **0.83**.</font>"
   ]
  },
  {
   "cell_type": "markdown",
   "id": "a9dcdd40",
   "metadata": {},
   "source": [
    "# <span style = \"color : blue\">Conclusion</span>"
   ]
  },
  {
   "cell_type": "markdown",
   "id": "a830809f",
   "metadata": {},
   "source": [
    "* <font size = \"3\">Hence, the analysis for the metrics evaluation are such as:-</font>\n",
    "     * <font size = \"3\"><span style = \"color : purple\">**Accuracy**</span> - <span style = \"color : green\">**Gradient Boosting**</span> model having **best accuracy**.</font>\n",
    "     * <font size = \"3\"><span style = \"color : purple\">**Sensitivity**</span> - <span style = \"color : green\">**Extreme Gradient Boosting**</span> model having **best sensitivity**.</font>\n",
    "     * <font size = \"3\"><span style = \"color : purple\">**Precision**</span> - <span style = \"color : green\">**Naive Bayes**</span> model having **best precision**.</font>\n",
    "     * <font size = \"3\"><span style = \"color : purple\">**Specificity**</span> - <span style = \"color : green\">**Naive Bayes**</span> model having **best specificity**.</font>\n",
    "     * <font size = \"3\"><span style = \"color : purple\">**AUC**</span> - <span style = \"color : green\">**Gradient Boosting**</span> model and <span style = \"color : green\">**Extreme Gradient Boosting**</span> model having **highest AUC**.</font>\n",
    "     * <font size = \"3\"><span style = \"color : purple\">**F1 score**</span> - <span style = \"color : green\">**Extreme Gradient Boosting**</span> model having **best F1 score**.</font>\n",
    "     \n",
    "     \n",
    "* <font size = \"3\">Hence, it can be said that **model** **trained** using <span style = \"color : green\">**Extreme Gradient Boosting**</span> algorithm is giving **best overall performance**.</font>\n",
    "* <font size = \"3\">Therefore, <span style = \"color : green\">**Extreme Gradient Boosting Classifier**</span> is the **best** **model** for **predicting** whether the **client** will **subscribe** to a term **deposit** or not.</font>  "
   ]
  },
  {
   "cell_type": "code",
   "execution_count": null,
   "id": "0c47e79d",
   "metadata": {},
   "outputs": [],
   "source": []
  }
 ],
 "metadata": {
  "kernelspec": {
   "display_name": "Python 3 (ipykernel)",
   "language": "python",
   "name": "python3"
  },
  "language_info": {
   "codemirror_mode": {
    "name": "ipython",
    "version": 3
   },
   "file_extension": ".py",
   "mimetype": "text/x-python",
   "name": "python",
   "nbconvert_exporter": "python",
   "pygments_lexer": "ipython3",
   "version": "3.9.7"
  }
 },
 "nbformat": 4,
 "nbformat_minor": 5
}
